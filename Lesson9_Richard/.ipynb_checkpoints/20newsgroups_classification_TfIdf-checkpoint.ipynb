{
 "cells": [
  {
   "cell_type": "markdown",
   "metadata": {},
   "source": [
    "This project aims to classify 20newsgroup using bag-of-words model."
   ]
  },
  {
   "cell_type": "code",
   "execution_count": 1,
   "metadata": {
    "collapsed": false
   },
   "outputs": [],
   "source": [
    "import numpy as np\n",
    "import matplotlib.pyplot as plt\n",
    "import nltk\n",
    "%matplotlib inline"
   ]
  },
  {
   "cell_type": "markdown",
   "metadata": {},
   "source": [
    "# 1.Fetch 20Newsgroup Data\n",
    "\n",
    "20newsgroup data can be downloaded directly by sklearn package."
   ]
  },
  {
   "cell_type": "code",
   "execution_count": 2,
   "metadata": {
    "collapsed": false
   },
   "outputs": [],
   "source": [
    "from sklearn.datasets import fetch_20newsgroups\n",
    "newsgroups_train = fetch_20newsgroups(subset='train', \n",
    "                                  shuffle=True, random_state=11)\n",
    "newsgroups_test = fetch_20newsgroups(subset='test', \n",
    "                                  shuffle=True, random_state=11)"
   ]
  },
  {
   "cell_type": "code",
   "execution_count": 3,
   "metadata": {
    "collapsed": false
   },
   "outputs": [
    {
     "name": "stdout",
     "output_type": "stream",
     "text": [
      "Training text number: 11314\n",
      "Testing text number: 7532\n"
     ]
    }
   ],
   "source": [
    "print('Training text number:', len(newsgroups_train.data))\n",
    "print('Testing text number:', len(newsgroups_test.data))"
   ]
  },
  {
   "cell_type": "code",
   "execution_count": 6,
   "metadata": {
    "collapsed": false
   },
   "outputs": [
    {
     "name": "stdout",
     "output_type": "stream",
     "text": [
      "['alt.atheism', 'comp.graphics', 'comp.os.ms-windows.misc', 'comp.sys.ibm.pc.hardware', 'comp.sys.mac.hardware', 'comp.windows.x', 'misc.forsale', 'rec.autos', 'rec.motorcycles', 'rec.sport.baseball', 'rec.sport.hockey', 'sci.crypt', 'sci.electronics', 'sci.med', 'sci.space', 'soc.religion.christian', 'talk.politics.guns', 'talk.politics.mideast', 'talk.politics.misc', 'talk.religion.misc']\n"
     ]
    }
   ],
   "source": [
    "print(newsgroups_train.target_names)"
   ]
  },
  {
   "cell_type": "markdown",
   "metadata": {},
   "source": [
    "Take a look at the news "
   ]
  },
  {
   "cell_type": "code",
   "execution_count": 4,
   "metadata": {
    "collapsed": false
   },
   "outputs": [
    {
     "name": "stdout",
     "output_type": "stream",
     "text": [
      "Type: comp.windows.x\n",
      "####################\n",
      "From: EEI.EEIIHY@memo.ericsson.SE (353-1-2800455)\n",
      "Subject: help\n",
      "Organization: The Internet\n",
      "Lines: 5\n",
      "NNTP-Posting-Host: enterpoop.mit.edu\n",
      "To: XPERT@EXPO.LCS.MIT.EDU\n",
      "\n",
      "--- Received from EEI.EEIIHY  353-1-2800455         93-04-26 12.28\n",
      "  -> VAX.XPERT..EXPO.LCS.MIT.EDU..INET\n",
      "  -: - - - - - - - - - - > MAIL USER IN VAX AND INTERNET\n",
      "help\n",
      "\n",
      "\n"
     ]
    }
   ],
   "source": [
    "index = 0\n",
    "label = newsgroups_train.target[index]\n",
    "print(\"Type:\",newsgroups_train.target_names[label])\n",
    "print('#' * 20)\n",
    "print(\"\\n\".join(newsgroups_train.data[index].split(\"\\n\")))"
   ]
  },
  {
   "cell_type": "markdown",
   "metadata": {},
   "source": [
    "It seems there are a lot of punctuations within the texts, we can assume they play less important role in dertemining categories in this project. We only focus on words, terms, so we can remove those punctuations as well as digits."
   ]
  },
  {
   "cell_type": "markdown",
   "metadata": {},
   "source": [
    "# 2.Preprocessing\n",
    "\n",
    "We are going to remove punctuations and digits."
   ]
  },
  {
   "cell_type": "code",
   "execution_count": 5,
   "metadata": {
    "collapsed": false
   },
   "outputs": [],
   "source": [
    "#Remove extra blanks, punctuation, digits from original texts\n",
    "import string\n",
    "import re\n",
    "def preProcessor(s):\n",
    "    #s = s.encode('utf-8')\n",
    "\n",
    "    #remove punctuation\n",
    "    s = re.sub('['+string.punctuation+']', ' ', s)\n",
    "    #remove digits\n",
    "    s = re.sub('['+string.digits+']', ' ', s)\n",
    "    #remove foreign characters\n",
    "    s = re.sub('[^a-zA-Z]', ' ', s)\n",
    "    #remove line ends\n",
    "    s = re.sub('\\n', ' ', s)\n",
    "    #turn to lower case\n",
    "    s = s.lower()\n",
    "    #remove stopwords\n",
    "    #for item in stopwords:\n",
    "        #s = s.replace(item, ' ') \n",
    "    #remove extra blanks\n",
    "    s = re.sub('[ ]+',' ', s)\n",
    "    s = s.rstrip()\n",
    "\n",
    "    #s = s.translate(string.punctuation)\n",
    "\n",
    "    return s"
   ]
  },
  {
   "cell_type": "markdown",
   "metadata": {},
   "source": [
    "Preprocess each piece of news."
   ]
  },
  {
   "cell_type": "code",
   "execution_count": 33,
   "metadata": {
    "collapsed": true
   },
   "outputs": [],
   "source": [
    "newsgroups_train.data = [preProcessor(item).strip() for item in newsgroups_train.data]\n",
    "newsgroups_test.data = [preProcessor(item).strip() for item in newsgroups_test.data]"
   ]
  },
  {
   "cell_type": "markdown",
   "metadata": {},
   "source": [
    "Take a look at the preprocessed data."
   ]
  },
  {
   "cell_type": "code",
   "execution_count": 34,
   "metadata": {
    "collapsed": false
   },
   "outputs": [
    {
     "data": {
      "text/plain": [
       "'from eei eeiihy memo ericsson se subject help organization the internet lines nntp posting host enterpoop mit edu to xpert expo lcs mit edu received from eei eeiihy vax xpert expo lcs mit edu inet mail user in vax and internet help'"
      ]
     },
     "execution_count": 34,
     "metadata": {},
     "output_type": "execute_result"
    }
   ],
   "source": [
    "preProcessor(newsgroups_train.data[0])"
   ]
  },
  {
   "cell_type": "markdown",
   "metadata": {},
   "source": [
    "## 3.Data Exploration"
   ]
  },
  {
   "cell_type": "code",
   "execution_count": 35,
   "metadata": {
    "collapsed": false
   },
   "outputs": [
    {
     "data": {
      "text/plain": [
       "<matplotlib.text.Text at 0x21391438080>"
      ]
     },
     "execution_count": 35,
     "metadata": {},
     "output_type": "execute_result"
    },
    {
     "data": {
      "image/png": "[encoded data removed]",
      "text/plain": [
       "<matplotlib.figure.Figure at 0x21391120b38>"
      ]
     },
     "metadata": {},
     "output_type": "display_data"
    }
   ],
   "source": [
    "#Calculate the character lengths for each piece of news\n",
    "lengths =  [len(item) for item in newsgroups_train.data]\n",
    "plt.style.use('ggplot')\n",
    "plt.hist(lengths, bins=30)\n",
    "plt.title('News Length Histogram')"
   ]
  },
  {
   "cell_type": "markdown",
   "metadata": {},
   "source": [
    "Most news has a length of less than 5000 characters."
   ]
  },
  {
   "cell_type": "code",
   "execution_count": 36,
   "metadata": {
    "collapsed": false
   },
   "outputs": [
    {
     "data": {
      "text/plain": [
       "<matplotlib.text.Text at 0x213835d63c8>"
      ]
     },
     "execution_count": 36,
     "metadata": {},
     "output_type": "execute_result"
    },
    {
     "data": {
      "image/png": "[encoded data removed]",
      "text/plain": [
       "<matplotlib.figure.Figure at 0x213800af470>"
      ]
     },
     "metadata": {},
     "output_type": "display_data"
    }
   ],
   "source": [
    "word_counts = [len(item.split()) for item in newsgroups_train.data]\n",
    "#Make a boxplot, ignore outliers\n",
    "plt.boxplot(word_counts, sym='')\n",
    "plt.title('Word Counts Boxplot')"
   ]
  },
  {
   "cell_type": "code",
   "execution_count": 37,
   "metadata": {
    "collapsed": false
   },
   "outputs": [
    {
     "name": "stdout",
     "output_type": "stream",
     "text": [
      "from j david sms business uwo ca james david subject plus minus stat organization university of western ontario nntp posting host sms business uwo ca lines post of newsgroups rec sport hockey from maynard ramsey cs laurentian ca roger maynard subject re plus minus stat organization dept of computer science laurentian university sudbury on date fri apr gmt discussion deleted good for you you d only be displaying your ignorance of course but to each his own roger i m not sure here but i think ignorance is really a function of a lack of knowledge and not formulating an opinion but hey if you need to take a cheap shot then by all means go ahead that s if it makes you feel better to knowledgeable observers of the game my meaning is obvious your hockey education is not my responsibility my hockey education what the f are you talking about i m not even going to try to refute this absolutely insane statement my word such vehemence against poor ol bob gainey why does he bother you so much he was an effective player for his style of play he was just another player to laud him as anything more i find bothersome i hated the habs i hated lafleur until i realized that he was likely the most aesthetically pleasing player to ever skate in my lifetime why would anyone talk about gainey i hate the habs you sound like a year old this statement is just further exemplifies your total inability to argue objectively about hockey don t give me this crap about cogent arguments i ve yet to read something of yours that is cogent you consistently argue with emotion huge sweeping statements frankly you have a very unconvincing style i m not defending bob gainey frankly i don t care for him all that much but your dismissal of him as something less than an effective hockey player is tiresome it has no basis in anything how many calders did he win i think it was four go ahead and refresh my memory what about the conn smythe was that a fluke yeah not the makings of a hockey superstar i know but try to have a reason any reason to shoot him down go around who would you rather have as your checking centre doug gilmour or doug jarvis for that matter i would take either gretzky or mario as my checking centres do you think gretzky could cover bob gainey i m really sorry roger but you have lost me completely here why don t you ask me if i would rather have jesus christ himself in nets did he play hockey at a high level was he any good if not why would you bother to bring jc up i am talking about hockey players here if you can t follow the conversation don t follow up as i said previously it is not my responsibility to educate you hey cowboy you re the expert who introduced the idiotic comparison of gainey with gretzky and lemieux you figure it out now if you were to compare say for example bob gainey with guy carbonneau you would have a balanced comparison sure two journeymen big deal neither one of them is worth discussing how many individual awards between them eight i don t remember once again please feel free to refresh my memory and try to be as sarcastic as possible about my hockey education i m wrong again hmmm let s see where was i wrong in the i would take fuhr and sanderson off of the latter oh my god did i say that roger what s your point fuhr is a goaltender goaltender s don t plug in his prime he was one of the best sanderson was a scrapper if you stick him on you may as well include half the flyers team of the same era first place i m only guessing here rog but i have a feeling that you ve setup a you re wrong again macro key on your machine that is an excellent idea and if i decide to waste any more time responding to any of your or greg s postings then i will be sure to implement that very macro oh roger you shouldn t really i don t deserve this you are far too accomodating already i would suggest that your comment and when the press runs out of things to say about the stars on dynasties they start to hype the pluggers grant fuhr essa tikkannen butch goring bob nystrom bob gainey doug jarvis derek sanderson wayne cashman bob baun bob pulford ralph backstrom henri richard dick duff and so on demonstrates a blanket disregard for these individuals as contributors to the game so yes settle down nobody has claimed that they are hockey gods tarasov claimed that gainey was a hockey god and greg ate it up and that is what this thread is all about if you didn t know that then why are you responding you seem to have allowed all of these other players fall into your sweeping vacuous statement that s why if you want to debate gainey go ahead but why bring up everybody else how does it support your argument do you have an argument or do you just like to throw around a few names hoping to impress us and as for blanket disregard for these individuals i can remember leaf teams purely populated by such individuals winning four stanley cups teams no one ran around telling us that george armstrong was the best hockey player in the world great i couldn t agree more the flyers won two cups for the same reasons deservedly so so what i don t get it are you angry that the leafs didn t get more recognition you seem to think these pluggers are hyped i don t agree plain and simple if you re last statement is some sort of compromise fair enough you might consider developing your own style after all imitation is the sincerest form of flattery and i am quite sure that flattery is not your intention c mon it has a nice ring to it and admit it you had a good laugh right i had to get to the end of your posting before i realized you were a complete joke not a pleasant bone in your body eh rog why are you so unhappy not getting invited to enough parties what in the future if you are going to respond to my postings i would appreciate it if you could present a cogent argument supported by facts gleaned from a version of reality that most of the rest of us would recognize roger why are you under the impression that responding to your posts is some great honour you really should stop it sounds a little bit pathetic frankly it s about as honourable as a good fart congenially as always jd james david j david student business uwo ca s j david sms business uwo ca james david western business school london ontario\n"
     ]
    }
   ],
   "source": [
    "#Have a look at long sentences\n",
    "for i, text in enumerate(newsgroups_train.data):\n",
    "    if word_counts[i] > 1000:\n",
    "        print(text)\n",
    "        break"
   ]
  },
  {
   "cell_type": "code",
   "execution_count": 38,
   "metadata": {
    "collapsed": false
   },
   "outputs": [],
   "source": [
    "#Make boxplots for each category\n",
    "import pandas as pd\n",
    "label_count_dict = {'Category':newsgroups_train.target,'WordNum': word_counts}\n",
    "label_count_df = pd.DataFrame(label_count_dict)"
   ]
  },
  {
   "cell_type": "code",
   "execution_count": 39,
   "metadata": {
    "collapsed": false
   },
   "outputs": [
    {
     "data": {
      "text/plain": [
       "<matplotlib.axes._subplots.AxesSubplot at 0x213913efa90>"
      ]
     },
     "execution_count": 39,
     "metadata": {},
     "output_type": "execute_result"
    },
    {
     "data": {
      "image/png": "[encoded data removed]",
      "text/plain": [
       "<matplotlib.figure.Figure at 0x2138033d4e0>"
      ]
     },
     "metadata": {},
     "output_type": "display_data"
    }
   ],
   "source": [
    "label_count_df.boxplot(column='WordNum', by='Category')"
   ]
  },
  {
   "cell_type": "markdown",
   "metadata": {},
   "source": [
    "It seems each category has very long news with over 1000 words."
   ]
  },
  {
   "cell_type": "code",
   "execution_count": 40,
   "metadata": {
    "collapsed": false
   },
   "outputs": [
    {
     "data": {
      "text/plain": [
       "array([ 116.,  184.,  509.])"
      ]
     },
     "execution_count": 40,
     "metadata": {},
     "output_type": "execute_result"
    }
   ],
   "source": [
    "np.percentile(word_counts, [25, 50, 90])"
   ]
  },
  {
   "cell_type": "markdown",
   "metadata": {},
   "source": [
    "The majority of news has less than 600 words."
   ]
  },
  {
   "cell_type": "markdown",
   "metadata": {},
   "source": [
    "# 4.TfIdf Model\n",
    "\n",
    "Bag-of-word model is commonly used in text classification, first we build a vocabulary and calculate the TfIdf values for each terms within each text, which can be used as input for classification algorithms."
   ]
  },
  {
   "cell_type": "markdown",
   "metadata": {},
   "source": [
    "## Unigram TfIdf Model"
   ]
  },
  {
   "cell_type": "code",
   "execution_count": 41,
   "metadata": {
    "collapsed": false
   },
   "outputs": [
    {
     "data": {
      "text/plain": [
       "3554834"
      ]
     },
     "execution_count": 41,
     "metadata": {},
     "output_type": "execute_result"
    }
   ],
   "source": [
    "#Build Vocabulary \n",
    "words = []\n",
    "for text in newsgroups_train.data:\n",
    "    words.extend(text.split())\n",
    "len(words)"
   ]
  },
  {
   "cell_type": "code",
   "execution_count": 42,
   "metadata": {
    "collapsed": false
   },
   "outputs": [
    {
     "data": {
      "text/plain": [
       "89038"
      ]
     },
     "execution_count": 42,
     "metadata": {},
     "output_type": "execute_result"
    }
   ],
   "source": [
    "from collections import Counter\n",
    "word_freq = Counter(words)\n",
    "len(word_freq)"
   ]
  },
  {
   "cell_type": "code",
   "execution_count": 43,
   "metadata": {
    "collapsed": false
   },
   "outputs": [
    {
     "data": {
      "text/plain": [
       "[('orel', 2),\n",
       " ('unselfish', 2),\n",
       " ('lurked', 2),\n",
       " ('rfum', 2),\n",
       " ('sisv', 2),\n",
       " ('provost', 2),\n",
       " ('biocine', 2),\n",
       " ('generously', 2),\n",
       " ('swatikas', 2),\n",
       " ('wtu', 2),\n",
       " ('reaffirming', 2),\n",
       " ('candiotti', 2),\n",
       " ('othello', 2),\n",
       " ('lighted', 2),\n",
       " ('carels', 2),\n",
       " ('strenth', 2),\n",
       " ('hypostases', 2),\n",
       " ('nebulae', 2),\n",
       " ('kjg', 2),\n",
       " ('sunstop', 2)]"
      ]
     },
     "execution_count": 43,
     "metadata": {},
     "output_type": "execute_result"
    }
   ],
   "source": [
    "#Select 50000 most frequent words\n",
    "vocab_pair = word_freq.most_common(50000)\n",
    "vocab_sorted = sorted(vocab_pair, key=lambda d:d[1], reverse = False)\n",
    "vocab_sorted[:20]"
   ]
  },
  {
   "cell_type": "code",
   "execution_count": 44,
   "metadata": {
    "collapsed": true
   },
   "outputs": [],
   "source": [
    "#Build Vocabulary for Unigrams\n",
    "vocab = [item[0] for item in vocab_pair]\n",
    "vocab_freq_dict = {item[0]:item[1] for item in vocab_pair}"
   ]
  },
  {
   "cell_type": "code",
   "execution_count": 45,
   "metadata": {
    "collapsed": false
   },
   "outputs": [
    {
     "data": {
      "text/plain": [
       "<matplotlib.text.Text at 0x213913bf160>"
      ]
     },
     "execution_count": 45,
     "metadata": {},
     "output_type": "execute_result"
    },
    {
     "data": {
      "image/png": "[encoded data removed]",
      "text/plain": [
       "<matplotlib.figure.Figure at 0x213836794a8>"
      ]
     },
     "metadata": {},
     "output_type": "display_data"
    }
   ],
   "source": [
    "lengths = [len(item[0]) for item in vocab_sorted]\n",
    "plt.hist(lengths, bins=30)\n",
    "plt.title('Word Length Histogram')\n",
    "plt.xlabel('Word Length')"
   ]
  },
  {
   "cell_type": "markdown",
   "metadata": {},
   "source": [
    "Most words consist of letters less than 20, those very long words can be viewed as typos."
   ]
  },
  {
   "cell_type": "code",
   "execution_count": 46,
   "metadata": {
    "collapsed": true
   },
   "outputs": [],
   "source": [
    "vocab_unigrams = [item[0] for item in vocab_sorted if len(item[0])<21]\n",
    "#vocab_unigrams = [item[0] for item in vocab_sorted]"
   ]
  },
  {
   "cell_type": "code",
   "execution_count": 47,
   "metadata": {
    "collapsed": false
   },
   "outputs": [
    {
     "data": {
      "text/plain": [
       "49971"
      ]
     },
     "execution_count": 47,
     "metadata": {},
     "output_type": "execute_result"
    }
   ],
   "source": [
    "len(vocab_unigrams)"
   ]
  },
  {
   "cell_type": "code",
   "execution_count": 48,
   "metadata": {
    "collapsed": false
   },
   "outputs": [
    {
     "data": {
      "text/plain": [
       "(11314, 49971)"
      ]
     },
     "execution_count": 48,
     "metadata": {},
     "output_type": "execute_result"
    }
   ],
   "source": [
    "from sklearn.feature_extraction.text import CountVectorizer, TfidfVectorizer\n",
    "tfidfVectorizer = TfidfVectorizer(stop_words='english', ngram_range=(1, 1), vocabulary=vocab_unigrams)\n",
    "X_train_tfidf = tfidfVectorizer.fit_transform(newsgroups_train.data)\n",
    "X_train_tfidf.shape"
   ]
  },
  {
   "cell_type": "code",
   "execution_count": null,
   "metadata": {
    "collapsed": false
   },
   "outputs": [
    {
     "data": {
      "text/plain": [
       "(7532, 49971)"
      ]
     },
     "execution_count": 22,
     "metadata": {},
     "output_type": "execute_result"
    }
   ],
   "source": [
    "X_test_tfidf = tfidfVectorizer.transform(newsgroups_test.data)\n",
    "X_test_tfidf.shape"
   ]
  },
  {
   "cell_type": "code",
   "execution_count": null,
   "metadata": {
    "collapsed": true
   },
   "outputs": [],
   "source": [
    "X = svd.transform(X_train_tfidf)\n",
    "y = newsgroups_train.target"
   ]
  },
  {
   "cell_type": "code",
   "execution_count": null,
   "metadata": {
    "collapsed": true
   },
   "outputs": [],
   "source": [
    "X_test = svd.transform(X_test_tfidf)\n",
    "y_test = newsgroups_test.target"
   ]
  },
  {
   "cell_type": "code",
   "execution_count": null,
   "metadata": {
    "collapsed": false
   },
   "outputs": [],
   "source": [
    "from sklearn.linear_model import LogisticRegression\n",
    "clf_nb = LogisticRegression().fit(X, y)\n",
    "predicted = clf_nb.predict(X)\n",
    "print('Micro F1: {:.3f}'.format(f1_score(y, predicted, average='micro')))"
   ]
  },
  {
   "cell_type": "code",
   "execution_count": null,
   "metadata": {
    "collapsed": false
   },
   "outputs": [],
   "source": [
    "predicted = clf_nb.predict(X_test)\n",
    "print('Micro F1: {:.3f}'.format(f1_score(y_test, predicted, average='micro')))"
   ]
  },
  {
   "cell_type": "markdown",
   "metadata": {},
   "source": [
    "## 5.Classification Models"
   ]
  },
  {
   "cell_type": "markdown",
   "metadata": {},
   "source": [
    "First, We can extract TfIdf values as features for each document.\n",
    "### Naive Bayes"
   ]
  },
  {
   "cell_type": "code",
   "execution_count": 138,
   "metadata": {
    "collapsed": false
   },
   "outputs": [],
   "source": [
    "import time\n",
    "from sklearn.naive_bayes import MultinomialNB, GaussianNB\n",
    "#Use naive bayesian\n",
    "start = time.time()\n",
    "clf_nb = MultinomialNB(0.1).fit(X_train_tfidf, newsgroups_train.target)"
   ]
  },
  {
   "cell_type": "markdown",
   "metadata": {},
   "source": [
    "It is common to use micro F1 and macro F1 values as the metrics for document classification. For more details, please refer to http://firefenix.blog.163.com/blog/static/10338509720134973556756/."
   ]
  },
  {
   "cell_type": "code",
   "execution_count": 139,
   "metadata": {
    "collapsed": false
   },
   "outputs": [
    {
     "name": "stdout",
     "output_type": "stream",
     "text": [
      "Micro F1: 0.836\n"
     ]
    }
   ],
   "source": [
    "#Test the model\n",
    "predicted = clf_nb.predict(X_test_tfidf)\n",
    "#Micro F1\n",
    "from sklearn.metrics import f1_score\n",
    "print('Micro F1: {:.3f}'.format(f1_score(newsgroups_test.target, predicted, average='micro')))"
   ]
  },
  {
   "cell_type": "code",
   "execution_count": 134,
   "metadata": {
    "collapsed": false
   },
   "outputs": [
    {
     "name": "stdout",
     "output_type": "stream",
     "text": [
      "Macro F1: 0.827\n"
     ]
    }
   ],
   "source": [
    "#Macro F1\n",
    "print('Macro F1: {:.3f}'.format(f1_score(newsgroups_test.target, predicted, average='macro')))"
   ]
  },
  {
   "cell_type": "code",
   "execution_count": 135,
   "metadata": {
    "collapsed": false
   },
   "outputs": [],
   "source": [
    "#F1 value for each category\n",
    "#from sklearn.metrics import accuracy_score\n",
    "class_scores = f1_score(newsgroups_test.target, predicted, average=None)"
   ]
  },
  {
   "cell_type": "code",
   "execution_count": 136,
   "metadata": {
    "collapsed": false
   },
   "outputs": [
    {
     "data": {
      "text/plain": [
       "{'alt.atheism': 0.80000000000000004,\n",
       " 'comp.graphics': 0.73630573248407649,\n",
       " 'comp.os.ms-windows.misc': 0.70649350649350651,\n",
       " 'comp.sys.ibm.pc.hardware': 0.70560747663551415,\n",
       " 'comp.sys.mac.hardware': 0.83462532299741587,\n",
       " 'comp.windows.x': 0.8058124174372524,\n",
       " 'misc.forsale': 0.80683311432325888,\n",
       " 'rec.autos': 0.90025575447570327,\n",
       " 'rec.motorcycles': 0.9390243902439025,\n",
       " 'rec.sport.baseball': 0.93851944792973652,\n",
       " 'rec.sport.hockey': 0.96186961869618692,\n",
       " 'sci.crypt': 0.91266912669126687,\n",
       " 'sci.electronics': 0.77880794701986766,\n",
       " 'sci.med': 0.8638743455497383,\n",
       " 'sci.space': 0.89325153374233124,\n",
       " 'soc.religion.christian': 0.85456595264937996,\n",
       " 'talk.politics.guns': 0.82014388489208634,\n",
       " 'talk.politics.mideast': 0.95594125500667559,\n",
       " 'talk.politics.misc': 0.70881226053639845,\n",
       " 'talk.religion.misc': 0.61538461538461542}"
      ]
     },
     "execution_count": 136,
     "metadata": {},
     "output_type": "execute_result"
    }
   ],
   "source": [
    "dict(zip(newsgroups_test.target_names, class_scores))"
   ]
  },
  {
   "cell_type": "markdown",
   "metadata": {},
   "source": [
    "From the f1 scores above, it is clear that certain news such as politics, religion can be confused to large extent. For example, the category of talk.religion.misc is quite correlated with soc.religion.christian, even humans, it's not easy for us to distinguish them correctly."
   ]
  },
  {
   "cell_type": "code",
   "execution_count": 137,
   "metadata": {
    "collapsed": false
   },
   "outputs": [],
   "source": [
    "from sklearn.metrics import confusion_matrix\n",
    "confusionMatrix = confusion_matrix(newsgroups_test.target, predicted)"
   ]
  },
  {
   "cell_type": "code",
   "execution_count": 138,
   "metadata": {
    "collapsed": false
   },
   "outputs": [
    {
     "data": {
      "text/plain": [
       "array([[248,   0,   0,   3,   0,   1,   0,   1,   1,   1,   0,   1,   0,\n",
       "          6,   5,  36,   4,   3,   1,   8],\n",
       "       [  1, 289,  19,  14,   7,  23,   5,   0,   0,   3,   2,   6,   9,\n",
       "          0,   8,   1,   1,   1,   0,   0],\n",
       "       [  1,  26, 272,  46,   4,  19,   3,   1,   3,   3,   1,   4,   1,\n",
       "          1,   5,   2,   0,   0,   1,   1],\n",
       "       [  0,   7,  25, 302,  21,   0,  12,   1,   0,   1,   0,   1,  19,\n",
       "          0,   3,   0,   0,   0,   0,   0],\n",
       "       [  0,   7,  11,  15, 323,   1,   7,   3,   1,   2,   0,   2,   9,\n",
       "          1,   2,   0,   1,   0,   0,   0],\n",
       "       [  1,  31,  25,  11,   8, 305,   1,   0,   2,   0,   0,   4,   1,\n",
       "          1,   4,   1,   0,   0,   0,   0],\n",
       "       [  0,   2,   6,  31,  11,   0, 307,  10,   6,   0,   2,   0,   9,\n",
       "          4,   2,   0,   0,   0,   0,   0],\n",
       "       [  0,   2,   2,   5,   1,   0,   9, 352,  10,   2,   2,   0,   4,\n",
       "          1,   2,   0,   3,   0,   1,   0],\n",
       "       [  0,   0,   0,   1,   0,   0,   5,   5, 385,   1,   0,   0,   1,\n",
       "          0,   0,   0,   0,   0,   0,   0],\n",
       "       [  0,   0,   0,   0,   1,   0,   5,   2,   0, 374,  12,   0,   0,\n",
       "          0,   1,   0,   0,   2,   0,   0],\n",
       "       [  0,   0,   0,   0,   0,   0,   0,   0,   0,   4, 391,   1,   0,\n",
       "          1,   0,   1,   1,   0,   0,   0],\n",
       "       [  1,   4,   2,   1,   3,   2,   3,   3,   0,   0,   0, 371,   1,\n",
       "          3,   1,   0,   1,   0,   0,   0],\n",
       "       [  0,  10,  11,  28,   5,   0,   7,   6,   7,   1,   0,  12, 294,\n",
       "          7,   5,   0,   0,   0,   0,   0],\n",
       "       [  3,   7,   1,   3,   2,   4,   4,   0,   3,   4,   1,   2,  10,\n",
       "        330,   1,   9,   3,   2,   6,   1],\n",
       "       [  1,   6,   0,   1,   1,   4,   1,   1,   1,   0,   1,   2,   3,\n",
       "          4, 364,   1,   1,   0,   2,   0],\n",
       "       [  4,   1,   1,   2,   0,   0,   0,   0,   1,   1,   1,   0,   0,\n",
       "          2,   2, 379,   0,   0,   0,   4],\n",
       "       [  0,   0,   0,   1,   0,   0,   1,   0,   2,   1,   0,   5,   0,\n",
       "          0,   1,   0, 342,   1,   8,   2],\n",
       "       [  2,   1,   0,   0,   0,   2,   0,   0,   0,   2,   0,   1,   0,\n",
       "          1,   0,   1,   4, 358,   4,   0],\n",
       "       [  2,   1,   0,   0,   2,   1,   0,   1,   0,   0,   1,   4,   0,\n",
       "          3,   8,   4,  91,   4, 185,   3],\n",
       "       [ 37,   2,   1,   0,   0,   0,   1,   0,   0,   0,   0,   1,   1,\n",
       "          3,   7,  54,  18,   2,   4, 120]])"
      ]
     },
     "execution_count": 138,
     "metadata": {},
     "output_type": "execute_result"
    }
   ],
   "source": [
    "confusionMatrix"
   ]
  },
  {
   "cell_type": "markdown",
   "metadata": {},
   "source": [
    "### KNN算法"
   ]
  },
  {
   "cell_type": "code",
   "execution_count": 103,
   "metadata": {
    "collapsed": false
   },
   "outputs": [],
   "source": [
    "from sklearn.neighbors import KNeighborsClassifier\n",
    "knn = KNeighborsClassifier(n_neighbors=51,weights='distance')\n",
    "knn.fit(X_train_tfidf, newsgroups_train.target)\n",
    "predicted = knn.predict(X_test_tfidf)"
   ]
  },
  {
   "cell_type": "code",
   "execution_count": 104,
   "metadata": {
    "collapsed": false
   },
   "outputs": [
    {
     "name": "stdout",
     "output_type": "stream",
     "text": [
      "Micro F1: 0.720\n"
     ]
    }
   ],
   "source": [
    "print('Micro F1: {:.3f}'.format(f1_score(newsgroups_test.target, predicted, average='micro')))"
   ]
  },
  {
   "cell_type": "code",
   "execution_count": 111,
   "metadata": {
    "collapsed": true
   },
   "outputs": [],
   "source": [
    "target_doc_dict= {}\n",
    "for i, target in enumerate(newsgroups_train.target):\n",
    "    target_doc_dict[target] = target_doc_dict.get(target, [])\n",
    "    target_doc_dict[target].append(X_train_tfidf[i].toarray())"
   ]
  },
  {
   "cell_type": "code",
   "execution_count": 119,
   "metadata": {
    "collapsed": false
   },
   "outputs": [],
   "source": [
    "#Calculate the center of each category\n",
    "target_center_dict = {k: np.mean(v, axis=0) for k, v in target_doc_dict.items()}"
   ]
  },
  {
   "cell_type": "code",
   "execution_count": 125,
   "metadata": {
    "collapsed": false
   },
   "outputs": [],
   "source": [
    "#Label each news according to the distance between the news and category center\n",
    "test_labels = []\n",
    "for item in X_test_tfidf:\n",
    "    vec1 = item.toarray()\n",
    "    d = float(\"inf\") \n",
    "    label = 0\n",
    "    for k, v in target_center_dict.items():\n",
    "        dist = np.linalg.norm(vec1 - v)  \n",
    "        if d>dist:\n",
    "            d = dist\n",
    "            label = k\n",
    "    test_labels.append(label) "
   ]
  },
  {
   "cell_type": "code",
   "execution_count": 126,
   "metadata": {
    "collapsed": false
   },
   "outputs": [
    {
     "name": "stdout",
     "output_type": "stream",
     "text": [
      "Micro F1: 0.749\n"
     ]
    }
   ],
   "source": [
    "print('Micro F1: {:.3f}'.format(f1_score(newsgroups_test.target, test_labels, average='micro')))"
   ]
  },
  {
   "cell_type": "markdown",
   "metadata": {},
   "source": [
    "### Random Forest"
   ]
  },
  {
   "cell_type": "code",
   "execution_count": 128,
   "metadata": {
    "collapsed": false
   },
   "outputs": [],
   "source": [
    "from sklearn.ensemble import RandomForestClassifier, AdaBoostClassifier, GradientBoostingClassifier\n",
    "#clf_ad = AdaBoostClassifier(n_estimators=100, learning_rate=2).fit(X_train_tfidf, y_train)\n",
    "clf_rf = RandomForestClassifier(n_estimators=100, n_jobs=4).fit(X_train_tfidf, newsgroups_train.target)"
   ]
  },
  {
   "cell_type": "code",
   "execution_count": 129,
   "metadata": {
    "collapsed": false
   },
   "outputs": [
    {
     "name": "stdout",
     "output_type": "stream",
     "text": [
      "Micro F1: 0.774\n"
     ]
    }
   ],
   "source": [
    "#Test the model\n",
    "model = clf_rf\n",
    "predicted = model.predict(X_test_tfidf)\n",
    "#Micro F1\n",
    "from sklearn.metrics import f1_score\n",
    "print('Micro F1: {:.3f}'.format(f1_score(newsgroups_test.target, predicted, average='micro')))"
   ]
  },
  {
   "cell_type": "markdown",
   "metadata": {},
   "source": [
    "### Neural Networks\n",
    "\n",
    "Artificial neural networks has played an important role in machine learning which can make amazing results for models."
   ]
  },
  {
   "cell_type": "code",
   "execution_count": 130,
   "metadata": {
    "collapsed": false
   },
   "outputs": [],
   "source": [
    "from sklearn.neural_network import MLPClassifier\n",
    "mlp = MLPClassifier(hidden_layer_sizes=(100,), max_iter=300, alpha=1e-4,\n",
    "                    solver='sgd', verbose=10, tol=1e-5, random_state=1,\n",
    "                    learning_rate_init=.17)"
   ]
  },
  {
   "cell_type": "code",
   "execution_count": 131,
   "metadata": {
    "collapsed": false
   },
   "outputs": [
    {
     "name": "stdout",
     "output_type": "stream",
     "text": [
      "Iteration 1, loss = 2.96118231\n",
      "Iteration 2, loss = 2.77117550\n",
      "Iteration 3, loss = 2.23234543\n",
      "Iteration 4, loss = 1.47721032\n",
      "Iteration 5, loss = 0.93207360\n",
      "Iteration 6, loss = 0.61730430\n",
      "Iteration 7, loss = 0.43358748\n",
      "Iteration 8, loss = 0.32012814\n",
      "Iteration 9, loss = 0.24245923\n",
      "Iteration 10, loss = 0.18998902\n",
      "Iteration 11, loss = 0.14912275\n",
      "Iteration 12, loss = 0.12098446\n",
      "Iteration 13, loss = 0.09900783\n",
      "Iteration 14, loss = 0.08197751\n",
      "Iteration 15, loss = 0.06934361\n",
      "Iteration 16, loss = 0.05915446\n",
      "Iteration 17, loss = 0.05147015\n",
      "Iteration 18, loss = 0.04518071\n",
      "Iteration 19, loss = 0.04024039\n",
      "Iteration 20, loss = 0.03627635\n",
      "Iteration 21, loss = 0.03279717\n",
      "Iteration 22, loss = 0.02995513\n",
      "Iteration 23, loss = 0.02759065\n",
      "Iteration 24, loss = 0.02542908\n",
      "Iteration 25, loss = 0.02379020\n",
      "Iteration 26, loss = 0.02212853\n",
      "Iteration 27, loss = 0.02079244\n",
      "Iteration 28, loss = 0.01972725\n",
      "Iteration 29, loss = 0.01859184\n",
      "Iteration 30, loss = 0.01770685\n",
      "Iteration 31, loss = 0.01679787\n",
      "Iteration 32, loss = 0.01616974\n",
      "Iteration 33, loss = 0.01526975\n",
      "Iteration 34, loss = 0.01468965\n",
      "Iteration 35, loss = 0.01409563\n",
      "Iteration 36, loss = 0.01359008\n",
      "Iteration 37, loss = 0.01304859\n",
      "Iteration 38, loss = 0.01278807\n",
      "Iteration 39, loss = 0.01226584\n",
      "Iteration 40, loss = 0.01180636\n",
      "Iteration 41, loss = 0.01139141\n",
      "Iteration 42, loss = 0.01121884\n",
      "Iteration 43, loss = 0.01078308\n",
      "Iteration 44, loss = 0.01050638\n",
      "Iteration 45, loss = 0.01028965\n",
      "Iteration 46, loss = 0.00992766\n",
      "Iteration 47, loss = 0.00977741\n",
      "Iteration 48, loss = 0.00956072\n",
      "Iteration 49, loss = 0.00939300\n",
      "Iteration 50, loss = 0.00908584\n",
      "Iteration 51, loss = 0.00888206\n",
      "Iteration 52, loss = 0.00879538\n",
      "Iteration 53, loss = 0.00864457\n",
      "Iteration 54, loss = 0.00858877\n",
      "Iteration 55, loss = 0.00815722\n",
      "Iteration 56, loss = 0.00824679\n",
      "Iteration 57, loss = 0.00794334\n",
      "Iteration 58, loss = 0.00775681\n",
      "Iteration 59, loss = 0.00768307\n",
      "Iteration 60, loss = 0.00745292\n",
      "Iteration 61, loss = 0.00741613\n",
      "Iteration 62, loss = 0.00742987\n",
      "Iteration 63, loss = 0.00708914\n",
      "Iteration 64, loss = 0.00710021\n",
      "Iteration 65, loss = 0.00721376\n",
      "Iteration 66, loss = 0.00694826\n",
      "Iteration 67, loss = 0.00687011\n",
      "Iteration 68, loss = 0.00678821\n",
      "Iteration 69, loss = 0.00662946\n",
      "Iteration 70, loss = 0.00653017\n",
      "Iteration 71, loss = 0.00666244\n",
      "Iteration 72, loss = 0.00644076\n",
      "Iteration 73, loss = 0.00656891\n",
      "Iteration 74, loss = 0.00637740\n",
      "Iteration 75, loss = 0.00628843\n",
      "Iteration 76, loss = 0.00603258\n",
      "Iteration 77, loss = 0.00625969\n",
      "Iteration 78, loss = 0.00598181\n",
      "Iteration 79, loss = 0.00591440\n",
      "Iteration 80, loss = 0.00591181\n",
      "Iteration 81, loss = 0.00569302\n",
      "Iteration 82, loss = 0.00582976\n",
      "Iteration 83, loss = 0.00569161\n",
      "Iteration 84, loss = 0.00553844\n",
      "Iteration 85, loss = 0.00584748\n",
      "Iteration 86, loss = 0.00562142\n",
      "Iteration 87, loss = 0.00540876\n",
      "Iteration 88, loss = 0.00553397\n",
      "Iteration 89, loss = 0.00543128\n",
      "Iteration 90, loss = 0.00535072\n",
      "Iteration 91, loss = 0.00531075\n",
      "Iteration 92, loss = 0.00521067\n",
      "Iteration 93, loss = 0.00525855\n",
      "Iteration 94, loss = 0.00530167\n",
      "Iteration 95, loss = 0.00529993\n",
      "Training loss did not improve more than tol=0.000010 for two consecutive epochs. Stopping.\n"
     ]
    }
   ],
   "source": [
    "clf_mlp = mlp.fit(X_train_tfidf, newsgroups_train.target)"
   ]
  },
  {
   "cell_type": "code",
   "execution_count": 132,
   "metadata": {
    "collapsed": false
   },
   "outputs": [
    {
     "name": "stdout",
     "output_type": "stream",
     "text": [
      "Micro F1: 0.845\n"
     ]
    }
   ],
   "source": [
    "predicted = clf_mlp.predict(X_test_tfidf)\n",
    "print('Micro F1: {:.3f}'.format(f1_score(newsgroups_test.target, predicted, average='micro')))"
   ]
  },
  {
   "cell_type": "code",
   "execution_count": 37,
   "metadata": {
    "collapsed": true
   },
   "outputs": [],
   "source": [
    "mlp = MLPClassifier(hidden_layer_sizes=(150,), max_iter=300, alpha=1e-4,\n",
    "                    solver='sgd', verbose=10, tol=1e-5, random_state=1,\n",
    "                    learning_rate_init=.07)"
   ]
  },
  {
   "cell_type": "code",
   "execution_count": 38,
   "metadata": {
    "collapsed": false
   },
   "outputs": [
    {
     "name": "stdout",
     "output_type": "stream",
     "text": [
      "Iteration 1, loss = 2.98042550\n",
      "Iteration 2, loss = 2.91911315\n",
      "Iteration 3, loss = 2.82790789\n",
      "Iteration 4, loss = 2.67766146\n",
      "Iteration 5, loss = 2.43739406\n",
      "Iteration 6, loss = 2.11078511\n",
      "Iteration 7, loss = 1.75504134\n",
      "Iteration 8, loss = 1.43329736\n",
      "Iteration 9, loss = 1.17025175\n",
      "Iteration 10, loss = 0.96039127\n",
      "Iteration 11, loss = 0.79732357\n",
      "Iteration 12, loss = 0.67033178\n",
      "Iteration 13, loss = 0.56967223\n",
      "Iteration 14, loss = 0.48976900\n",
      "Iteration 15, loss = 0.42530563\n",
      "Iteration 16, loss = 0.37233366\n",
      "Iteration 17, loss = 0.32774214\n",
      "Iteration 18, loss = 0.28971170\n",
      "Iteration 19, loss = 0.25779439\n",
      "Iteration 20, loss = 0.23104908\n",
      "Iteration 21, loss = 0.20748241\n",
      "Iteration 22, loss = 0.18731453\n",
      "Iteration 23, loss = 0.16885350\n",
      "Iteration 24, loss = 0.15344006\n",
      "Iteration 25, loss = 0.13948357\n",
      "Iteration 26, loss = 0.12726861\n",
      "Iteration 27, loss = 0.11660577\n",
      "Iteration 28, loss = 0.10697856\n",
      "Iteration 29, loss = 0.09845698\n",
      "Iteration 30, loss = 0.09136767\n",
      "Iteration 31, loss = 0.08426247\n",
      "Iteration 32, loss = 0.07838843\n",
      "Iteration 33, loss = 0.07296084\n",
      "Iteration 34, loss = 0.06819617\n",
      "Iteration 35, loss = 0.06408598\n",
      "Iteration 36, loss = 0.06021501\n",
      "Iteration 37, loss = 0.05649208\n",
      "Iteration 38, loss = 0.05324982\n",
      "Iteration 39, loss = 0.05040447\n",
      "Iteration 40, loss = 0.04773718\n",
      "Iteration 41, loss = 0.04535108\n",
      "Iteration 42, loss = 0.04313100\n",
      "Iteration 43, loss = 0.04114307\n",
      "Iteration 44, loss = 0.03929695\n",
      "Iteration 45, loss = 0.03766002\n",
      "Iteration 46, loss = 0.03605686\n",
      "Iteration 47, loss = 0.03444235\n",
      "Iteration 48, loss = 0.03321313\n",
      "Iteration 49, loss = 0.03190383\n",
      "Iteration 50, loss = 0.03068446\n",
      "Iteration 51, loss = 0.02955418\n",
      "Iteration 52, loss = 0.02862284\n",
      "Iteration 53, loss = 0.02763596\n",
      "Iteration 54, loss = 0.02672874\n",
      "Iteration 55, loss = 0.02589721\n",
      "Iteration 56, loss = 0.02506897\n",
      "Iteration 57, loss = 0.02438050\n",
      "Iteration 58, loss = 0.02361352\n",
      "Iteration 59, loss = 0.02295050\n",
      "Iteration 60, loss = 0.02235190\n",
      "Iteration 61, loss = 0.02176533\n",
      "Iteration 62, loss = 0.02120240\n",
      "Iteration 63, loss = 0.02065482\n",
      "Iteration 64, loss = 0.02017276\n",
      "Iteration 65, loss = 0.01968296\n",
      "Iteration 66, loss = 0.01918852\n",
      "Iteration 67, loss = 0.01879335\n",
      "Iteration 68, loss = 0.01827504\n",
      "Iteration 69, loss = 0.01788324\n",
      "Iteration 70, loss = 0.01756706\n",
      "Iteration 71, loss = 0.01715194\n",
      "Iteration 72, loss = 0.01679185\n",
      "Iteration 73, loss = 0.01650100\n",
      "Iteration 74, loss = 0.01614688\n",
      "Iteration 75, loss = 0.01584160\n",
      "Iteration 76, loss = 0.01553961\n",
      "Iteration 77, loss = 0.01528501\n",
      "Iteration 78, loss = 0.01502061\n",
      "Iteration 79, loss = 0.01465266\n",
      "Iteration 80, loss = 0.01447740\n",
      "Iteration 81, loss = 0.01431355\n",
      "Iteration 82, loss = 0.01396756\n",
      "Iteration 83, loss = 0.01378335\n",
      "Iteration 84, loss = 0.01352576\n",
      "Iteration 85, loss = 0.01332281\n",
      "Iteration 86, loss = 0.01312275\n",
      "Iteration 87, loss = 0.01292142\n",
      "Iteration 88, loss = 0.01269938\n",
      "Iteration 89, loss = 0.01256281\n",
      "Iteration 90, loss = 0.01235273\n",
      "Iteration 91, loss = 0.01217600\n",
      "Iteration 92, loss = 0.01199773\n",
      "Iteration 93, loss = 0.01184442\n",
      "Iteration 94, loss = 0.01172933\n",
      "Iteration 95, loss = 0.01155126\n",
      "Iteration 96, loss = 0.01139903\n",
      "Iteration 97, loss = 0.01134398\n",
      "Iteration 98, loss = 0.01106389\n",
      "Iteration 99, loss = 0.01099470\n",
      "Iteration 100, loss = 0.01090969\n",
      "Iteration 101, loss = 0.01075102\n",
      "Iteration 102, loss = 0.01061178\n",
      "Iteration 103, loss = 0.01049913\n",
      "Iteration 104, loss = 0.01039972\n",
      "Iteration 105, loss = 0.01020927\n",
      "Iteration 106, loss = 0.01007442\n",
      "Iteration 107, loss = 0.00997792\n",
      "Iteration 108, loss = 0.00992018\n",
      "Iteration 109, loss = 0.00980229\n",
      "Iteration 110, loss = 0.00962180\n",
      "Iteration 111, loss = 0.00962237\n",
      "Iteration 112, loss = 0.00949862\n",
      "Iteration 113, loss = 0.00939314\n",
      "Iteration 114, loss = 0.00936093\n",
      "Iteration 115, loss = 0.00922481\n",
      "Iteration 116, loss = 0.00910073\n",
      "Iteration 117, loss = 0.00908062\n",
      "Iteration 118, loss = 0.00893396\n",
      "Iteration 119, loss = 0.00884201\n",
      "Iteration 120, loss = 0.00876443\n",
      "Iteration 121, loss = 0.00871907\n",
      "Iteration 122, loss = 0.00861681\n",
      "Iteration 123, loss = 0.00851306\n",
      "Iteration 124, loss = 0.00848291\n",
      "Iteration 125, loss = 0.00838859\n",
      "Iteration 126, loss = 0.00844454\n",
      "Iteration 127, loss = 0.00825836\n",
      "Iteration 128, loss = 0.00823247\n",
      "Iteration 129, loss = 0.00810413\n",
      "Iteration 130, loss = 0.00803615\n",
      "Iteration 131, loss = 0.00808693\n",
      "Iteration 132, loss = 0.00796790\n",
      "Iteration 133, loss = 0.00786387\n",
      "Iteration 134, loss = 0.00780950\n",
      "Iteration 135, loss = 0.00776286\n",
      "Iteration 136, loss = 0.00773588\n",
      "Iteration 137, loss = 0.00763530\n",
      "Iteration 138, loss = 0.00757713\n",
      "Iteration 139, loss = 0.00751495\n",
      "Iteration 140, loss = 0.00751683\n",
      "Iteration 141, loss = 0.00735663\n",
      "Iteration 142, loss = 0.00736006\n",
      "Iteration 143, loss = 0.00731796\n",
      "Iteration 144, loss = 0.00733625\n",
      "Iteration 145, loss = 0.00719485\n",
      "Iteration 146, loss = 0.00712114\n",
      "Iteration 147, loss = 0.00714340\n",
      "Iteration 148, loss = 0.00712469\n",
      "Iteration 149, loss = 0.00701664\n",
      "Iteration 150, loss = 0.00703545\n",
      "Iteration 151, loss = 0.00693221\n",
      "Iteration 152, loss = 0.00690012\n",
      "Iteration 153, loss = 0.00686799\n",
      "Iteration 154, loss = 0.00681941\n",
      "Iteration 155, loss = 0.00675124\n",
      "Iteration 156, loss = 0.00674458\n",
      "Iteration 157, loss = 0.00671775\n",
      "Iteration 158, loss = 0.00664229\n",
      "Iteration 159, loss = 0.00663149\n",
      "Iteration 160, loss = 0.00656670\n",
      "Iteration 161, loss = 0.00653576\n",
      "Iteration 162, loss = 0.00652997\n",
      "Iteration 163, loss = 0.00648953\n",
      "Iteration 164, loss = 0.00640757\n",
      "Iteration 165, loss = 0.00640176\n",
      "Iteration 166, loss = 0.00638066\n",
      "Iteration 167, loss = 0.00637592\n",
      "Iteration 168, loss = 0.00634746\n",
      "Iteration 169, loss = 0.00625708\n",
      "Iteration 170, loss = 0.00627524\n",
      "Iteration 171, loss = 0.00617430\n",
      "Iteration 172, loss = 0.00613995\n",
      "Iteration 173, loss = 0.00618708\n",
      "Iteration 174, loss = 0.00607976\n",
      "Iteration 175, loss = 0.00603775\n",
      "Iteration 176, loss = 0.00606946\n",
      "Iteration 177, loss = 0.00597680\n",
      "Iteration 178, loss = 0.00596701\n",
      "Iteration 179, loss = 0.00594264\n",
      "Iteration 180, loss = 0.00596863\n",
      "Iteration 181, loss = 0.00589191\n",
      "Iteration 182, loss = 0.00587561\n",
      "Iteration 183, loss = 0.00583844\n",
      "Iteration 184, loss = 0.00587574\n",
      "Iteration 185, loss = 0.00581469\n",
      "Iteration 186, loss = 0.00573606\n",
      "Iteration 187, loss = 0.00581014\n",
      "Iteration 188, loss = 0.00575808\n",
      "Iteration 189, loss = 0.00569542\n",
      "Iteration 190, loss = 0.00570117\n",
      "Iteration 191, loss = 0.00562568\n",
      "Iteration 192, loss = 0.00560434\n",
      "Iteration 193, loss = 0.00558436\n",
      "Iteration 194, loss = 0.00565184\n",
      "Iteration 195, loss = 0.00562485\n",
      "Iteration 196, loss = 0.00550597\n",
      "Iteration 197, loss = 0.00548205\n",
      "Iteration 198, loss = 0.00548775\n",
      "Iteration 199, loss = 0.00545861\n",
      "Iteration 200, loss = 0.00540134\n",
      "Iteration 201, loss = 0.00541162\n",
      "Iteration 202, loss = 0.00541237\n",
      "Iteration 203, loss = 0.00539423\n",
      "Training loss did not improve more than tol=0.000010 for two consecutive epochs. Stopping.\n"
     ]
    }
   ],
   "source": [
    "clf_mlp = mlp.fit(X_train_tfidf, newsgroups_train.target)"
   ]
  },
  {
   "cell_type": "code",
   "execution_count": 39,
   "metadata": {
    "collapsed": false
   },
   "outputs": [
    {
     "name": "stdout",
     "output_type": "stream",
     "text": [
      "Micro F1: 0.847\n"
     ]
    }
   ],
   "source": [
    "predicted = clf_mlp.predict(X_test_tfidf)\n",
    "print('Micro F1: {:.3f}'.format(f1_score(newsgroups_test.target, predicted, average='micro')))"
   ]
  },
  {
   "cell_type": "markdown",
   "metadata": {},
   "source": [
    "Perhaps with more iterations or more layers, the final result will be better."
   ]
  },
  {
   "cell_type": "code",
   "execution_count": 43,
   "metadata": {
    "collapsed": true
   },
   "outputs": [],
   "source": [
    "mlp = MLPClassifier(hidden_layer_sizes=(150,), max_iter=300, alpha=2*1e-4,\n",
    "                    solver='sgd', verbose=10, tol=1e-5, random_state=1,\n",
    "                    learning_rate_init=.07)"
   ]
  },
  {
   "cell_type": "code",
   "execution_count": 44,
   "metadata": {
    "collapsed": false
   },
   "outputs": [
    {
     "name": "stdout",
     "output_type": "stream",
     "text": [
      "Iteration 1, loss = 2.98051017\n",
      "Iteration 2, loss = 2.91920273\n",
      "Iteration 3, loss = 2.82800947\n",
      "Iteration 4, loss = 2.67779351\n",
      "Iteration 5, loss = 2.43758933\n",
      "Iteration 6, loss = 2.11105438\n",
      "Iteration 7, loss = 1.75537671\n",
      "Iteration 8, loss = 1.43368531\n",
      "Iteration 9, loss = 1.17068011\n",
      "Iteration 10, loss = 0.96085181\n",
      "Iteration 11, loss = 0.79781279\n",
      "Iteration 12, loss = 0.67084408\n",
      "Iteration 13, loss = 0.57020741\n",
      "Iteration 14, loss = 0.49032584\n",
      "Iteration 15, loss = 0.42588356\n",
      "Iteration 16, loss = 0.37293121\n",
      "Iteration 17, loss = 0.32835786\n",
      "Iteration 18, loss = 0.29034456\n",
      "Iteration 19, loss = 0.25844450\n",
      "Iteration 20, loss = 0.23171556\n",
      "Iteration 21, loss = 0.20816318\n",
      "Iteration 22, loss = 0.18801003\n",
      "Iteration 23, loss = 0.16956159\n",
      "Iteration 24, loss = 0.15416051\n",
      "Iteration 25, loss = 0.14021592\n",
      "Iteration 26, loss = 0.12801179\n",
      "Iteration 27, loss = 0.11736068\n",
      "Iteration 28, loss = 0.10774199\n",
      "Iteration 29, loss = 0.09923066\n",
      "Iteration 30, loss = 0.09215062\n",
      "Iteration 31, loss = 0.08505329\n",
      "Iteration 32, loss = 0.07918615\n",
      "Iteration 33, loss = 0.07376732\n",
      "Iteration 34, loss = 0.06900991\n",
      "Iteration 35, loss = 0.06490706\n",
      "Iteration 36, loss = 0.06104277\n",
      "Iteration 37, loss = 0.05732640\n",
      "Iteration 38, loss = 0.05409086\n",
      "Iteration 39, loss = 0.05125119\n",
      "Iteration 40, loss = 0.04858965\n",
      "Iteration 41, loss = 0.04620977\n",
      "Iteration 42, loss = 0.04399505\n",
      "Iteration 43, loss = 0.04201239\n",
      "Iteration 44, loss = 0.04017180\n",
      "Iteration 45, loss = 0.03854014\n",
      "Iteration 46, loss = 0.03694165\n",
      "Iteration 47, loss = 0.03533178\n",
      "Iteration 48, loss = 0.03410690\n",
      "Iteration 49, loss = 0.03280232\n",
      "Iteration 50, loss = 0.03158764\n",
      "Iteration 51, loss = 0.03046173\n",
      "Iteration 52, loss = 0.02953445\n",
      "Iteration 53, loss = 0.02855182\n",
      "Iteration 54, loss = 0.02764847\n",
      "Iteration 55, loss = 0.02682091\n",
      "Iteration 56, loss = 0.02599638\n",
      "Iteration 57, loss = 0.02531153\n",
      "Iteration 58, loss = 0.02454855\n",
      "Iteration 59, loss = 0.02388907\n",
      "Iteration 60, loss = 0.02329371\n",
      "Iteration 61, loss = 0.02271070\n",
      "Iteration 62, loss = 0.02215112\n",
      "Iteration 63, loss = 0.02160690\n",
      "Iteration 64, loss = 0.02112755\n",
      "Iteration 65, loss = 0.02064121\n",
      "Iteration 66, loss = 0.02014990\n",
      "Iteration 67, loss = 0.01975784\n",
      "Iteration 68, loss = 0.01924255\n",
      "Iteration 69, loss = 0.01885370\n",
      "Iteration 70, loss = 0.01854046\n",
      "Iteration 71, loss = 0.01812789\n",
      "Iteration 72, loss = 0.01777057\n",
      "Iteration 73, loss = 0.01748219\n",
      "Iteration 74, loss = 0.01713110\n",
      "Iteration 75, loss = 0.01682847\n",
      "Iteration 76, loss = 0.01652897\n",
      "Iteration 77, loss = 0.01627734\n",
      "Iteration 78, loss = 0.01601515\n",
      "Iteration 79, loss = 0.01564960\n",
      "Iteration 80, loss = 0.01547675\n",
      "Iteration 81, loss = 0.01531523\n",
      "Iteration 82, loss = 0.01497149\n",
      "Iteration 83, loss = 0.01478943\n",
      "Iteration 84, loss = 0.01453443\n",
      "Iteration 85, loss = 0.01433376\n",
      "Iteration 86, loss = 0.01413565\n",
      "Iteration 87, loss = 0.01393678\n",
      "Iteration 88, loss = 0.01371689\n",
      "Iteration 89, loss = 0.01358230\n",
      "Iteration 90, loss = 0.01337404\n",
      "Iteration 91, loss = 0.01319953\n",
      "Iteration 92, loss = 0.01302344\n",
      "Iteration 93, loss = 0.01287210\n",
      "Iteration 94, loss = 0.01275907\n",
      "Iteration 95, loss = 0.01258291\n",
      "Iteration 96, loss = 0.01243260\n",
      "Iteration 97, loss = 0.01237946\n",
      "Iteration 98, loss = 0.01210130\n",
      "Iteration 99, loss = 0.01203385\n",
      "Iteration 100, loss = 0.01195065\n",
      "Iteration 101, loss = 0.01179370\n",
      "Iteration 102, loss = 0.01165642\n",
      "Iteration 103, loss = 0.01154526\n",
      "Iteration 104, loss = 0.01144769\n",
      "Iteration 105, loss = 0.01125910\n",
      "Iteration 106, loss = 0.01112585\n",
      "Iteration 107, loss = 0.01103135\n",
      "Iteration 108, loss = 0.01097508\n",
      "Iteration 109, loss = 0.01085890\n",
      "Iteration 110, loss = 0.01067999\n",
      "Iteration 111, loss = 0.01068213\n",
      "Iteration 112, loss = 0.01055963\n",
      "Iteration 113, loss = 0.01045606\n",
      "Iteration 114, loss = 0.01042534\n",
      "Iteration 115, loss = 0.01029079\n",
      "Iteration 116, loss = 0.01016785\n",
      "Iteration 117, loss = 0.01014962\n",
      "Iteration 118, loss = 0.01000436\n",
      "Iteration 119, loss = 0.00991404\n",
      "Iteration 120, loss = 0.00983806\n",
      "Iteration 121, loss = 0.00979381\n",
      "Iteration 122, loss = 0.00969334\n",
      "Iteration 123, loss = 0.00959085\n",
      "Iteration 124, loss = 0.00956209\n",
      "Iteration 125, loss = 0.00946886\n",
      "Iteration 126, loss = 0.00952597\n",
      "Iteration 127, loss = 0.00934152\n",
      "Iteration 128, loss = 0.00931722\n",
      "Iteration 129, loss = 0.00919045\n",
      "Iteration 130, loss = 0.00912312\n",
      "Iteration 131, loss = 0.00917529\n",
      "Iteration 132, loss = 0.00905761\n",
      "Iteration 133, loss = 0.00895500\n",
      "Iteration 134, loss = 0.00890200\n",
      "Iteration 135, loss = 0.00885651\n",
      "Iteration 136, loss = 0.00883070\n",
      "Iteration 137, loss = 0.00873180\n",
      "Iteration 138, loss = 0.00867472\n",
      "Iteration 139, loss = 0.00861378\n",
      "Iteration 140, loss = 0.00861663\n",
      "Iteration 141, loss = 0.00845804\n",
      "Iteration 142, loss = 0.00846222\n",
      "Iteration 143, loss = 0.00842144\n",
      "Iteration 144, loss = 0.00844061\n",
      "Iteration 145, loss = 0.00830022\n",
      "Iteration 146, loss = 0.00822857\n",
      "Iteration 147, loss = 0.00825098\n",
      "Iteration 148, loss = 0.00823381\n",
      "Iteration 149, loss = 0.00812661\n",
      "Iteration 150, loss = 0.00814681\n",
      "Iteration 151, loss = 0.00804476\n",
      "Iteration 152, loss = 0.00801360\n",
      "Iteration 153, loss = 0.00798245\n",
      "Iteration 154, loss = 0.00793548\n",
      "Iteration 155, loss = 0.00786795\n",
      "Iteration 156, loss = 0.00786255\n",
      "Iteration 157, loss = 0.00783664\n",
      "Iteration 158, loss = 0.00776257\n",
      "Iteration 159, loss = 0.00775246\n",
      "Iteration 160, loss = 0.00768889\n",
      "Iteration 161, loss = 0.00765864\n",
      "Iteration 162, loss = 0.00765369\n",
      "Iteration 163, loss = 0.00761460\n",
      "Iteration 164, loss = 0.00753375\n",
      "Iteration 165, loss = 0.00752851\n",
      "Iteration 166, loss = 0.00750876\n",
      "Iteration 167, loss = 0.00750482\n",
      "Iteration 168, loss = 0.00747765\n",
      "Iteration 169, loss = 0.00738807\n",
      "Iteration 170, loss = 0.00740699\n",
      "Iteration 171, loss = 0.00730709\n",
      "Iteration 172, loss = 0.00727408\n",
      "Iteration 173, loss = 0.00732140\n",
      "Iteration 174, loss = 0.00721549\n",
      "Iteration 175, loss = 0.00717454\n",
      "Iteration 176, loss = 0.00720690\n",
      "Iteration 177, loss = 0.00711552\n",
      "Iteration 178, loss = 0.00710623\n",
      "Iteration 179, loss = 0.00708339\n",
      "Iteration 180, loss = 0.00710941\n",
      "Iteration 181, loss = 0.00703421\n",
      "Iteration 182, loss = 0.00701875\n",
      "Iteration 183, loss = 0.00698234\n",
      "Iteration 184, loss = 0.00701983\n",
      "Iteration 185, loss = 0.00696040\n",
      "Iteration 186, loss = 0.00688240\n",
      "Iteration 187, loss = 0.00695722\n",
      "Iteration 188, loss = 0.00690612\n",
      "Iteration 189, loss = 0.00684431\n",
      "Iteration 190, loss = 0.00685122\n",
      "Iteration 191, loss = 0.00677603\n",
      "Iteration 192, loss = 0.00675562\n",
      "Iteration 193, loss = 0.00673667\n",
      "Iteration 194, loss = 0.00680454\n",
      "Iteration 195, loss = 0.00677844\n",
      "Iteration 196, loss = 0.00666043\n",
      "Iteration 197, loss = 0.00663789\n",
      "Iteration 198, loss = 0.00664441\n",
      "Iteration 199, loss = 0.00661542\n",
      "Iteration 200, loss = 0.00655941\n",
      "Iteration 201, loss = 0.00656979\n",
      "Iteration 202, loss = 0.00657176\n",
      "Iteration 203, loss = 0.00655447\n",
      "Training loss did not improve more than tol=0.000010 for two consecutive epochs. Stopping.\n"
     ]
    }
   ],
   "source": [
    "clf_mlp = mlp.fit(X_train_tfidf, newsgroups_train.target)"
   ]
  },
  {
   "cell_type": "code",
   "execution_count": 46,
   "metadata": {
    "collapsed": false
   },
   "outputs": [
    {
     "name": "stdout",
     "output_type": "stream",
     "text": [
      "Micro F1: 0.847\n"
     ]
    }
   ],
   "source": [
    "predicted = clf_mlp.predict(X_test_tfidf)\n",
    "print('Micro F1: {:.3f}'.format(f1_score(newsgroups_test.target, predicted, average='micro')))"
   ]
  },
  {
   "cell_type": "markdown",
   "metadata": {
    "collapsed": true
   },
   "source": [
    "## 6.Bigram TfIdf Model"
   ]
  },
  {
   "cell_type": "code",
   "execution_count": 139,
   "metadata": {
    "collapsed": false
   },
   "outputs": [
    {
     "data": {
      "text/plain": [
       "(11314, 50000)"
      ]
     },
     "execution_count": 139,
     "metadata": {},
     "output_type": "execute_result"
    }
   ],
   "source": [
    "#from sklearn.feature_extraction.text import  TfidfVectorizer\n",
    "#Obtain tf-idf vector for each article\n",
    "#remove stopwords in Enlgish\n",
    "tfidfVectorizer = TfidfVectorizer(stop_words='english', ngram_range=(2, 2), min_df=2, max_features=50000)\n",
    "X_train_tfidf = tfidfVectorizer.fit_transform(newsgroups_train.data)\n",
    "X_train_tfidf.shape"
   ]
  },
  {
   "cell_type": "code",
   "execution_count": 140,
   "metadata": {
    "collapsed": false
   },
   "outputs": [
    {
     "data": {
      "text/plain": [
       "(7532, 50000)"
      ]
     },
     "execution_count": 140,
     "metadata": {},
     "output_type": "execute_result"
    }
   ],
   "source": [
    "X_test_tfidf = tfidfVectorizer.transform(newsgroups_test.data)\n",
    "X_test_tfidf.shape"
   ]
  },
  {
   "cell_type": "code",
   "execution_count": 141,
   "metadata": {
    "collapsed": false
   },
   "outputs": [
    {
     "data": {
      "text/plain": [
       "['aa freenet',\n",
       " 'aa fri',\n",
       " 'aa inet',\n",
       " 'aa insane',\n",
       " 'aa mon',\n",
       " 'aa organization',\n",
       " 'aa thu',\n",
       " 'aa tue',\n",
       " 'aa wed',\n",
       " 'aaa uoregon',\n",
       " 'aamir hafeez',\n",
       " 'aamir qazi',\n",
       " 'aamrl wpafb',\n",
       " 'aardvark ucs',\n",
       " 'aargh great',\n",
       " 'aario measure',\n",
       " 'aario sami',\n",
       " 'aaron arc',\n",
       " 'aaron barnes',\n",
       " 'aaron binah']"
      ]
     },
     "execution_count": 141,
     "metadata": {},
     "output_type": "execute_result"
    }
   ],
   "source": [
    "news_words = tfidfVectorizer.get_feature_names()\n",
    "news_words[:20]"
   ]
  },
  {
   "cell_type": "code",
   "execution_count": 142,
   "metadata": {
    "collapsed": false
   },
   "outputs": [],
   "source": [
    "clf_nb = MultinomialNB(0.01).fit(X_train_tfidf, newsgroups_train.target)"
   ]
  },
  {
   "cell_type": "code",
   "execution_count": 143,
   "metadata": {
    "collapsed": false
   },
   "outputs": [
    {
     "name": "stdout",
     "output_type": "stream",
     "text": [
      "Micro F1: 0.716\n"
     ]
    }
   ],
   "source": [
    "#Test the model\n",
    "predicted = clf_nb.predict(X_test_tfidf)\n",
    "#Micro F1\n",
    "from sklearn.metrics import f1_score\n",
    "print('Micro F1: {:.3f}'.format(f1_score(newsgroups_test.target, predicted, average='micro')))"
   ]
  },
  {
   "cell_type": "markdown",
   "metadata": {},
   "source": [
    "The bigram model is not so good.\n",
    "**Generally, the predicted results were not so satisfying, Stanford gave explanations: \"This is probably because in the bydate version of 20 Newsgroups, the test set is all from a later time period than the training set, whereas, when we subdivided the training set, we took a roughly uniform sample across it as the devtest set. Topics under discussion shift over time\".** As we kept all the sample items in, it was likely that the test samples were somehow different from training samples. But at least, the final result was better the some of the work listed in https://nlp.stanford.edu/wiki/Software/Classifier/20_Newsgroups."
   ]
  },
  {
   "cell_type": "markdown",
   "metadata": {},
   "source": [
    "In order to make comparisons with latest works, we need to adopt proper data sets."
   ]
  },
  {
   "cell_type": "markdown",
   "metadata": {},
   "source": [
    "## 7.All-In-One Model\n",
    "\n",
    "According to the analysis above, we are going to create a class to finish all the steps."
   ]
  },
  {
   "cell_type": "code",
   "execution_count": 7,
   "metadata": {
    "collapsed": false
   },
   "outputs": [],
   "source": [
    "#Filter out those very long or very short news\n",
    "train_data = []\n",
    "train_label = []\n",
    "test_data = []\n",
    "test_label = []\n",
    "for i, news in enumerate(newsgroups_train.data):\n",
    "    news_len = len(news.split()) \n",
    "    if news_len > 5 and news_len < 400:\n",
    "        train_data.append(news)\n",
    "        train_label.append(newsgroups_train.target[i])\n",
    "for i, news in enumerate(newsgroups_test.data):\n",
    "    news_len = len(news.split()) \n",
    "    if news_len > 5 and news_len < 400:\n",
    "        test_data.append(news)\n",
    "        test_label.append(newsgroups_test.target[i])"
   ]
  },
  {
   "cell_type": "code",
   "execution_count": 9,
   "metadata": {
    "collapsed": false
   },
   "outputs": [],
   "source": [
    "from sklearn.feature_extraction.text import CountVectorizer, TfidfVectorizer\n",
    "from sklearn.metrics import f1_score\n",
    "from sklearn.model_selection import cross_val_score\n",
    "#from stemming.porter2 import stem\n",
    "from nltk.stem import WordNetLemmatizer\n",
    "punctuations = string.punctuation\n",
    "from sklearn.feature_extraction.stop_words import ENGLISH_STOP_WORDS as stopwords \n",
    "from spacy.en import English\n",
    "parser = English()"
   ]
  },
  {
   "cell_type": "code",
   "execution_count": 10,
   "metadata": {
    "collapsed": false
   },
   "outputs": [],
   "source": [
    "from sklearn.decomposition import PCA\n",
    "class text_classification(object):\n",
    "    '''This class aims to transform preprocessed texts into TfIdf vectors\n",
    "    and applies specified models to do classifications'''\n",
    "    def __init__(self, train_data, train_label, ngram=1, max_features=10000):\n",
    "        '''Initialize Parameters'''\n",
    "        self.train_data = train_data\n",
    "        self.train_label = train_label\n",
    "        self.ngram = ngram\n",
    "        self.max_features = max_features\n",
    "        self.vectorizer = self.__build_vectorizer()\n",
    "        self.model = None\n",
    "        \n",
    "    def __spacy_tokenizer(self, sentence):\n",
    "        #Remove punctuations and stops words, then lemmatize the words\n",
    "        tokens = parser(sentence)\n",
    "        tokens = [tok.lemma_.lower().strip() if tok.lemma_ != \"-PRON-\" else tok.lower_ for tok in tokens]\n",
    "        tokens = [tok for tok in tokens if (tok not in stopwords and tok not in punctuations)]    \n",
    "        sent = ' '.join(tokens)\n",
    "        return sent\n",
    "        \n",
    "    def __lem_stem(self, data):\n",
    "        '''Take lemmatizer and stemmize into account'''\n",
    "        lemmatizer = WordNetLemmatizer()\n",
    "        lem_data = [lemmatizer.lemmatize(word.strip()) for word \n",
    "                    in data.split()]\n",
    "        data = ' '.join(lem_data)\n",
    "        #stem_data = [stem(word.strip()) for word \n",
    "                    #in data.split() ]\n",
    "        #data = ' '.join(data)\n",
    "        return data\n",
    "    \n",
    "    def __dimension_reduction(self, data):\n",
    "        '''Reduce dimension of original data'''\n",
    "        threshold = 0.9\n",
    "        pca = PCA()\n",
    "        pca.fit(data)\n",
    "        cumsum_variance = np.cumsum(pca.explained_variance_ratio_)\n",
    "        #Select a few principal compoents whose variances accounted for 90%\n",
    "        n_component = sum(cumsum_variance > threshold)\n",
    "        \n",
    "        \n",
    "    def __build_vectorizer(self):\n",
    "        '''Build vectorized based on TfIdf model'''\n",
    "        #self.train_data = [self.__spacy_tokenizer(news) for news in self.train_data]\n",
    "        self.train_data = [self.__lem_stem(news) for news in self.train_data]\n",
    "        tfidfVectorizer = TfidfVectorizer(stop_words='english', ngram_range=(1, self.ngram), \n",
    "                                          max_features=self.max_features)\n",
    "        tfidfVectorizer.fit(self.train_data)\n",
    "        return tfidfVectorizer\n",
    "        \n",
    "    def __text_transform(self, data):\n",
    "        '''Transform each text into a vector of TfIdf values of terms'''\n",
    "        if data is None:\n",
    "            raise ValueError('Data Is Empty!')\n",
    "        tfidfVectorizer = self.vectorizer\n",
    "        text_tfidf = tfidfVectorizer.transform(data)\n",
    "        return text_tfidf\n",
    "    \n",
    "    def train(self, model, validation=False):\n",
    "        '''Train a model'''\n",
    "        if model is None:\n",
    "            raise ValueError('Model Must Be Specified!')\n",
    "        train_tfidf = self.__text_transform(self.train_data)\n",
    "        #Validate the performance of Classification Method\n",
    "        if validation:\n",
    "            scores = cross_val_score(model, train_tfidf, self.train_label, cv=5)\n",
    "            print('Accuracy:', scores)\n",
    "        model.fit(train_tfidf, self.train_label)\n",
    "        self.model = model\n",
    "        return model\n",
    "    \n",
    "    def test(self, test_data, test_label):\n",
    "        '''Test the model after the model as been trained'''\n",
    "        if self.model is None:\n",
    "            raise ValueError('Model Must Be Specified!')\n",
    "        test_data = [self.__lem_stem(news) for news in test_data]\n",
    "        #test_data = [self.__spacy_tokenizer(news) for news in test_data]\n",
    "        test_tfidf = self.__text_transform(test_data)\n",
    "        preds = self.model.predict(test_tfidf)\n",
    "        micro_f1 = f1_score(test_label, preds, average='micro')\n",
    "        print('Micro F1: {:.3f}'.format(micro_f1))\n",
    "        return micro_f1"
   ]
  },
  {
   "cell_type": "code",
   "execution_count": 11,
   "metadata": {
    "collapsed": false
   },
   "outputs": [],
   "source": [
    "#Create a model\n",
    "#tc = text_classification(train_data, train_label, ngram=1, max_features=30000)\n",
    "tc = text_classification(newsgroups_train.data, newsgroups_train.target, ngram=1, max_features=30000)"
   ]
  },
  {
   "cell_type": "code",
   "execution_count": 13,
   "metadata": {
    "collapsed": false
   },
   "outputs": [],
   "source": [
    "#Specify a classification model\n",
    "from sklearn.naive_bayes import MultinomialNB\n",
    "from sklearn.ensemble import RandomForestClassifier\n",
    "from sklearn.linear_model import LogisticRegression\n",
    "from sklearn.neural_network import MLPClassifier\n",
    "mlp = MLPClassifier(hidden_layer_sizes=(100,), max_iter=300, alpha=1e-4,\n",
    "                    solver='sgd', verbose=False, tol=1e-5, random_state=1,\n",
    "                    learning_rate_init=.17)\n",
    "nb = MultinomialNB(0.01)\n",
    "lr = LogisticRegression(C=0.5)\n",
    "rf =  RandomForestClassifier(n_estimators=100, n_jobs=4)"
   ]
  },
  {
   "cell_type": "code",
   "execution_count": 14,
   "metadata": {
    "collapsed": false
   },
   "outputs": [
    {
     "name": "stdout",
     "output_type": "stream",
     "text": [
      "Micro F1: 0.826\n"
     ]
    },
    {
     "data": {
      "text/plain": [
       "0.82594264471587908"
      ]
     },
     "execution_count": 14,
     "metadata": {},
     "output_type": "execute_result"
    }
   ],
   "source": [
    "tc.train(nb)\n",
    "tc.test(newsgroups_test.data, newsgroups_test.target)\n",
    "#tc.test(test_data, test_label)"
   ]
  },
  {
   "cell_type": "markdown",
   "metadata": {},
   "source": [
    "### Train Different Models"
   ]
  },
  {
   "cell_type": "code",
   "execution_count": 173,
   "metadata": {
    "collapsed": false
   },
   "outputs": [
    {
     "name": "stdout",
     "output_type": "stream",
     "text": [
      "<class 'sklearn.linear_model.logistic.LogisticRegression'>\n",
      "Accuracy: [ 0.87659762  0.88570168  0.88030035  0.87964602  0.87538803]\n",
      "Micro F1: 0.819\n",
      "******************************\n",
      "<class 'sklearn.ensemble.forest.RandomForestClassifier'>\n",
      "Accuracy: [ 0.84045835  0.84686673  0.85689046  0.84646018  0.83725055]\n",
      "Micro F1: 0.779\n",
      "******************************\n",
      "<class 'sklearn.naive_bayes.MultinomialNB'>\n",
      "Accuracy: [ 0.90832966  0.90997352  0.90415194  0.90973451  0.91929047]\n",
      "Micro F1: 0.830\n",
      "******************************\n",
      "<class 'sklearn.neural_network.multilayer_perceptron.MLPClassifier'>\n",
      "Micro F1: 0.844\n",
      "******************************\n"
     ]
    }
   ],
   "source": [
    "#Train the model with several classifiers\n",
    "models = [lr, rf, nb, mlp]\n",
    "for model in models:\n",
    "    print(model.__class__)\n",
    "    validation = True\n",
    "    if model is mlp:\n",
    "        validation = False\n",
    "    tc.train(model, validation)\n",
    "    tc.test(newsgroups_test.data, newsgroups_test.target)\n",
    "    print('*'*30)"
   ]
  },
  {
   "cell_type": "markdown",
   "metadata": {},
   "source": [
    "### Tune Parameters\n",
    "\n",
    "We can select naive bayesian classifier as the final model, and with gridsearch we can figure out which 'alpha' can optimize the performance of the model on testing data set."
   ]
  },
  {
   "cell_type": "code",
   "execution_count": 52,
   "metadata": {
    "collapsed": false
   },
   "outputs": [
    {
     "name": "stdout",
     "output_type": "stream",
     "text": [
      "Micro F1: 0.830\n"
     ]
    },
    {
     "data": {
      "text/plain": [
       "0.83019118428040362"
      ]
     },
     "execution_count": 52,
     "metadata": {},
     "output_type": "execute_result"
    }
   ],
   "source": [
    "from sklearn.model_selection import GridSearchCV \n",
    "parameters = {'alpha': [2, 1, 0.5, 0.2, 0.1, 0.05]}\n",
    "nb = MultinomialNB(0.01)\n",
    "gs = GridSearchCV(estimator=nb, param_grid=parameters, cv=5)\n",
    "tc.train(gs)\n",
    "tc.test(newsgroups_test.data, newsgroups_test.target)"
   ]
  },
  {
   "cell_type": "code",
   "execution_count": 60,
   "metadata": {
    "collapsed": false
   },
   "outputs": [],
   "source": [
    "import pandas as pd\n",
    "df_result = pd.DataFrame(gs.cv_results_)"
   ]
  },
  {
   "cell_type": "code",
   "execution_count": 61,
   "metadata": {
    "collapsed": false
   },
   "outputs": [
    {
     "data": {
      "text/html": [
       "<div>\n",
       "<table border=\"1\" class=\"dataframe\">\n",
       "  <thead>\n",
       "    <tr style=\"text-align: right;\">\n",
       "      <th></th>\n",
       "      <th>mean_fit_time</th>\n",
       "      <th>mean_score_time</th>\n",
       "      <th>mean_test_score</th>\n",
       "      <th>mean_train_score</th>\n",
       "      <th>param_alpha</th>\n",
       "      <th>params</th>\n",
       "      <th>rank_test_score</th>\n",
       "      <th>split0_test_score</th>\n",
       "      <th>split0_train_score</th>\n",
       "      <th>split1_test_score</th>\n",
       "      <th>...</th>\n",
       "      <th>split2_test_score</th>\n",
       "      <th>split2_train_score</th>\n",
       "      <th>split3_test_score</th>\n",
       "      <th>split3_train_score</th>\n",
       "      <th>split4_test_score</th>\n",
       "      <th>split4_train_score</th>\n",
       "      <th>std_fit_time</th>\n",
       "      <th>std_score_time</th>\n",
       "      <th>std_test_score</th>\n",
       "      <th>std_train_score</th>\n",
       "    </tr>\n",
       "  </thead>\n",
       "  <tbody>\n",
       "    <tr>\n",
       "      <th>0</th>\n",
       "      <td>0.075126</td>\n",
       "      <td>0.010104</td>\n",
       "      <td>0.869454</td>\n",
       "      <td>0.934020</td>\n",
       "      <td>2</td>\n",
       "      <td>{'alpha': 2}</td>\n",
       "      <td>6</td>\n",
       "      <td>0.865580</td>\n",
       "      <td>0.934107</td>\n",
       "      <td>0.876434</td>\n",
       "      <td>...</td>\n",
       "      <td>0.868375</td>\n",
       "      <td>0.933812</td>\n",
       "      <td>0.869027</td>\n",
       "      <td>0.933841</td>\n",
       "      <td>0.867849</td>\n",
       "      <td>0.934982</td>\n",
       "      <td>0.006495</td>\n",
       "      <td>0.000583</td>\n",
       "      <td>0.003681</td>\n",
       "      <td>0.000538</td>\n",
       "    </tr>\n",
       "    <tr>\n",
       "      <th>1</th>\n",
       "      <td>0.072024</td>\n",
       "      <td>0.010204</td>\n",
       "      <td>0.882535</td>\n",
       "      <td>0.952028</td>\n",
       "      <td>1</td>\n",
       "      <td>{'alpha': 1}</td>\n",
       "      <td>5</td>\n",
       "      <td>0.881005</td>\n",
       "      <td>0.951797</td>\n",
       "      <td>0.887467</td>\n",
       "      <td>...</td>\n",
       "      <td>0.882509</td>\n",
       "      <td>0.951713</td>\n",
       "      <td>0.881858</td>\n",
       "      <td>0.951292</td>\n",
       "      <td>0.879823</td>\n",
       "      <td>0.952865</td>\n",
       "      <td>0.002409</td>\n",
       "      <td>0.000679</td>\n",
       "      <td>0.002627</td>\n",
       "      <td>0.000565</td>\n",
       "    </tr>\n",
       "    <tr>\n",
       "      <th>2</th>\n",
       "      <td>0.070223</td>\n",
       "      <td>0.009804</td>\n",
       "      <td>0.892523</td>\n",
       "      <td>0.965662</td>\n",
       "      <td>0.5</td>\n",
       "      <td>{'alpha': 0.5}</td>\n",
       "      <td>4</td>\n",
       "      <td>0.888497</td>\n",
       "      <td>0.965395</td>\n",
       "      <td>0.895852</td>\n",
       "      <td>...</td>\n",
       "      <td>0.893110</td>\n",
       "      <td>0.965304</td>\n",
       "      <td>0.895575</td>\n",
       "      <td>0.965651</td>\n",
       "      <td>0.889579</td>\n",
       "      <td>0.966442</td>\n",
       "      <td>0.000400</td>\n",
       "      <td>0.000400</td>\n",
       "      <td>0.003021</td>\n",
       "      <td>0.000407</td>\n",
       "    </tr>\n",
       "    <tr>\n",
       "      <th>3</th>\n",
       "      <td>0.070324</td>\n",
       "      <td>0.011404</td>\n",
       "      <td>0.900389</td>\n",
       "      <td>0.980643</td>\n",
       "      <td>0.2</td>\n",
       "      <td>{'alpha': 0.2}</td>\n",
       "      <td>3</td>\n",
       "      <td>0.899074</td>\n",
       "      <td>0.979989</td>\n",
       "      <td>0.899382</td>\n",
       "      <td>...</td>\n",
       "      <td>0.900618</td>\n",
       "      <td>0.980331</td>\n",
       "      <td>0.902655</td>\n",
       "      <td>0.980892</td>\n",
       "      <td>0.900222</td>\n",
       "      <td>0.981455</td>\n",
       "      <td>0.000400</td>\n",
       "      <td>0.002801</td>\n",
       "      <td>0.001261</td>\n",
       "      <td>0.000501</td>\n",
       "    </tr>\n",
       "    <tr>\n",
       "      <th>4</th>\n",
       "      <td>0.070123</td>\n",
       "      <td>0.009904</td>\n",
       "      <td>0.905780</td>\n",
       "      <td>0.986587</td>\n",
       "      <td>0.1</td>\n",
       "      <td>{'alpha': 0.1}</td>\n",
       "      <td>2</td>\n",
       "      <td>0.906126</td>\n",
       "      <td>0.986512</td>\n",
       "      <td>0.904237</td>\n",
       "      <td>...</td>\n",
       "      <td>0.904594</td>\n",
       "      <td>0.986409</td>\n",
       "      <td>0.906195</td>\n",
       "      <td>0.986636</td>\n",
       "      <td>0.907761</td>\n",
       "      <td>0.987195</td>\n",
       "      <td>0.001020</td>\n",
       "      <td>0.000200</td>\n",
       "      <td>0.001264</td>\n",
       "      <td>0.000338</td>\n",
       "    </tr>\n",
       "    <tr>\n",
       "      <th>5</th>\n",
       "      <td>0.071324</td>\n",
       "      <td>0.010104</td>\n",
       "      <td>0.907195</td>\n",
       "      <td>0.990741</td>\n",
       "      <td>0.05</td>\n",
       "      <td>{'alpha': 0.05}</td>\n",
       "      <td>1</td>\n",
       "      <td>0.907007</td>\n",
       "      <td>0.990934</td>\n",
       "      <td>0.906443</td>\n",
       "      <td>...</td>\n",
       "      <td>0.905035</td>\n",
       "      <td>0.990718</td>\n",
       "      <td>0.907080</td>\n",
       "      <td>0.991164</td>\n",
       "      <td>0.910421</td>\n",
       "      <td>0.991169</td>\n",
       "      <td>0.001601</td>\n",
       "      <td>0.000490</td>\n",
       "      <td>0.001769</td>\n",
       "      <td>0.000537</td>\n",
       "    </tr>\n",
       "  </tbody>\n",
       "</table>\n",
       "<p>6 rows × 21 columns</p>\n",
       "</div>"
      ],
      "text/plain": [
       "   mean_fit_time  mean_score_time  mean_test_score  mean_train_score  \\\n",
       "0       0.075126         0.010104         0.869454          0.934020   \n",
       "1       0.072024         0.010204         0.882535          0.952028   \n",
       "2       0.070223         0.009804         0.892523          0.965662   \n",
       "3       0.070324         0.011404         0.900389          0.980643   \n",
       "4       0.070123         0.009904         0.905780          0.986587   \n",
       "5       0.071324         0.010104         0.907195          0.990741   \n",
       "\n",
       "  param_alpha           params  rank_test_score  split0_test_score  \\\n",
       "0           2     {'alpha': 2}                6           0.865580   \n",
       "1           1     {'alpha': 1}                5           0.881005   \n",
       "2         0.5   {'alpha': 0.5}                4           0.888497   \n",
       "3         0.2   {'alpha': 0.2}                3           0.899074   \n",
       "4         0.1   {'alpha': 0.1}                2           0.906126   \n",
       "5        0.05  {'alpha': 0.05}                1           0.907007   \n",
       "\n",
       "   split0_train_score  split1_test_score       ...         split2_test_score  \\\n",
       "0            0.934107           0.876434       ...                  0.868375   \n",
       "1            0.951797           0.887467       ...                  0.882509   \n",
       "2            0.965395           0.895852       ...                  0.893110   \n",
       "3            0.979989           0.899382       ...                  0.900618   \n",
       "4            0.986512           0.904237       ...                  0.904594   \n",
       "5            0.990934           0.906443       ...                  0.905035   \n",
       "\n",
       "   split2_train_score  split3_test_score  split3_train_score  \\\n",
       "0            0.933812           0.869027            0.933841   \n",
       "1            0.951713           0.881858            0.951292   \n",
       "2            0.965304           0.895575            0.965651   \n",
       "3            0.980331           0.902655            0.980892   \n",
       "4            0.986409           0.906195            0.986636   \n",
       "5            0.990718           0.907080            0.991164   \n",
       "\n",
       "   split4_test_score  split4_train_score  std_fit_time  std_score_time  \\\n",
       "0           0.867849            0.934982      0.006495        0.000583   \n",
       "1           0.879823            0.952865      0.002409        0.000679   \n",
       "2           0.889579            0.966442      0.000400        0.000400   \n",
       "3           0.900222            0.981455      0.000400        0.002801   \n",
       "4           0.907761            0.987195      0.001020        0.000200   \n",
       "5           0.910421            0.991169      0.001601        0.000490   \n",
       "\n",
       "   std_test_score  std_train_score  \n",
       "0        0.003681         0.000538  \n",
       "1        0.002627         0.000565  \n",
       "2        0.003021         0.000407  \n",
       "3        0.001261         0.000501  \n",
       "4        0.001264         0.000338  \n",
       "5        0.001769         0.000537  \n",
       "\n",
       "[6 rows x 21 columns]"
      ]
     },
     "execution_count": 61,
     "metadata": {},
     "output_type": "execute_result"
    }
   ],
   "source": [
    "df_result"
   ]
  },
  {
   "cell_type": "code",
   "execution_count": 65,
   "metadata": {
    "collapsed": false
   },
   "outputs": [
    {
     "data": {
      "text/plain": [
       "<matplotlib.text.Text at 0x218a274c3c8>"
      ]
     },
     "execution_count": 65,
     "metadata": {},
     "output_type": "execute_result"
    },
    {
     "data": {
      "image/png": "[encoded data removed]",
      "text/plain": [
       "<matplotlib.figure.Figure at 0x218a1e21710>"
      ]
     },
     "metadata": {},
     "output_type": "display_data"
    }
   ],
   "source": [
    "df_result.set_index('param_alpha')[['mean_test_score', 'mean_train_score']].plot()\n",
    "plt.ylabel('Accuracy')\n",
    "plt.title('Training Testing Performance')"
   ]
  },
  {
   "cell_type": "code",
   "execution_count": 66,
   "metadata": {
    "collapsed": false
   },
   "outputs": [
    {
     "data": {
      "text/plain": [
       "<matplotlib.text.Text at 0x218a21afb38>"
      ]
     },
     "execution_count": 66,
     "metadata": {},
     "output_type": "execute_result"
    },
    {
     "data": {
      "image/png": "[encoded data removed]",
      "text/plain": [
       "<matplotlib.figure.Figure at 0x218a20f2160>"
      ]
     },
     "metadata": {},
     "output_type": "display_data"
    }
   ],
   "source": [
    "df_result.set_index('param_alpha')[['std_test_score', 'std_train_score']].plot()\n",
    "plt.ylabel('Std')\n",
    "plt.title('Training Testing Performance')"
   ]
  },
  {
   "cell_type": "code",
   "execution_count": null,
   "metadata": {
    "collapsed": true
   },
   "outputs": [],
   "source": []
  }
 ],
 "metadata": {
  "anaconda-cloud": {},
  "kernelspec": {
   "display_name": "Python [default]",
   "language": "python",
   "name": "python3"
  },
  "language_info": {
   "codemirror_mode": {
    "name": "ipython",
    "version": 3
   },
   "file_extension": ".py",
   "mimetype": "text/x-python",
   "name": "python",
   "nbconvert_exporter": "python",
   "pygments_lexer": "ipython3",
   "version": "3.5.2"
  }
 },
 "nbformat": 4,
 "nbformat_minor": 0
}
