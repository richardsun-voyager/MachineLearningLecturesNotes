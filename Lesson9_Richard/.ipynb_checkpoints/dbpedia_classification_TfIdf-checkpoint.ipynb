{
 "cells": [
  {
   "cell_type": "markdown",
   "metadata": {},
   "source": [
    "This project aims to classify dbpedia text using bag-of-words model."
   ]
  },
  {
   "cell_type": "code",
   "execution_count": 1,
   "metadata": {
    "collapsed": false
   },
   "outputs": [],
   "source": [
    "import numpy as np\n",
    "import matplotlib.pyplot as plt\n",
    "import pandas as pd\n",
    "import string\n",
    "%matplotlib inline"
   ]
  },
  {
   "cell_type": "markdown",
   "metadata": {},
   "source": [
    "# 1.Fetch Text Data\n",
    "\n",
    "Dbpedia has been downloaded. For more information, visit:http://wiki.dbpedia.org"
   ]
  },
  {
   "cell_type": "code",
   "execution_count": 2,
   "metadata": {
    "collapsed": true
   },
   "outputs": [],
   "source": [
    "path = 'dbpedia_csv/'\n",
    "train_data = pd.read_csv(path+'train.csv', header=None)\n",
    "test_data = pd.read_csv(path+'test.csv', header=None)\n",
    "train_data.columns = ['type', 'header', 'content']\n",
    "test_data.columns = ['type', 'header', 'content']\n",
    "#X_train, y_train = train_data[2], train_data[0]\n",
    "#X_test, y_test = test_data[2], test_data[0]"
   ]
  },
  {
   "cell_type": "code",
   "execution_count": 3,
   "metadata": {
    "collapsed": false
   },
   "outputs": [
    {
     "data": {
      "text/html": [
       "<div>\n",
       "<table border=\"1\" class=\"dataframe\">\n",
       "  <thead>\n",
       "    <tr style=\"text-align: right;\">\n",
       "      <th></th>\n",
       "      <th>type</th>\n",
       "      <th>header</th>\n",
       "      <th>content</th>\n",
       "    </tr>\n",
       "  </thead>\n",
       "  <tbody>\n",
       "    <tr>\n",
       "      <th>0</th>\n",
       "      <td>1</td>\n",
       "      <td>E. D. Abbott Ltd</td>\n",
       "      <td>Abbott of Farnham E D Abbott Limited was a Br...</td>\n",
       "    </tr>\n",
       "    <tr>\n",
       "      <th>1</th>\n",
       "      <td>1</td>\n",
       "      <td>Schwan-Stabilo</td>\n",
       "      <td>Schwan-STABILO is a German maker of pens for ...</td>\n",
       "    </tr>\n",
       "    <tr>\n",
       "      <th>2</th>\n",
       "      <td>1</td>\n",
       "      <td>Q-workshop</td>\n",
       "      <td>Q-workshop is a Polish company located in Poz...</td>\n",
       "    </tr>\n",
       "    <tr>\n",
       "      <th>3</th>\n",
       "      <td>1</td>\n",
       "      <td>Marvell Software Solutions Israel</td>\n",
       "      <td>Marvell Software Solutions Israel known as RA...</td>\n",
       "    </tr>\n",
       "    <tr>\n",
       "      <th>4</th>\n",
       "      <td>1</td>\n",
       "      <td>Bergan Mercy Medical Center</td>\n",
       "      <td>Bergan Mercy Medical Center is a hospital loc...</td>\n",
       "    </tr>\n",
       "  </tbody>\n",
       "</table>\n",
       "</div>"
      ],
      "text/plain": [
       "   type                             header  \\\n",
       "0     1                   E. D. Abbott Ltd   \n",
       "1     1                     Schwan-Stabilo   \n",
       "2     1                         Q-workshop   \n",
       "3     1  Marvell Software Solutions Israel   \n",
       "4     1        Bergan Mercy Medical Center   \n",
       "\n",
       "                                             content  \n",
       "0   Abbott of Farnham E D Abbott Limited was a Br...  \n",
       "1   Schwan-STABILO is a German maker of pens for ...  \n",
       "2   Q-workshop is a Polish company located in Poz...  \n",
       "3   Marvell Software Solutions Israel known as RA...  \n",
       "4   Bergan Mercy Medical Center is a hospital loc...  "
      ]
     },
     "execution_count": 3,
     "metadata": {},
     "output_type": "execute_result"
    }
   ],
   "source": [
    "train_data.head()"
   ]
  },
  {
   "cell_type": "code",
   "execution_count": 4,
   "metadata": {
    "collapsed": false
   },
   "outputs": [
    {
     "name": "stdout",
     "output_type": "stream",
     "text": [
      "Training text number: 560000\n",
      "Testing text number: 70000\n"
     ]
    }
   ],
   "source": [
    "print('Training text number:', len(train_data))\n",
    "print('Testing text number:', len(test_data))"
   ]
  },
  {
   "cell_type": "code",
   "execution_count": 5,
   "metadata": {
    "collapsed": false
   },
   "outputs": [
    {
     "name": "stdout",
     "output_type": "stream",
     "text": [
      "[ 1  2  3  4  5  6  7  8  9 10 11 12 13 14]\n"
     ]
    }
   ],
   "source": [
    "print(np.unique(train_data['type']))"
   ]
  },
  {
   "cell_type": "markdown",
   "metadata": {},
   "source": [
    "Take a look at the news itself."
   ]
  },
  {
   "cell_type": "code",
   "execution_count": 6,
   "metadata": {
    "collapsed": false
   },
   "outputs": [
    {
     "data": {
      "text/plain": [
       "' Abbott of Farnham E D Abbott Limited was a British coachbuilding business based in Farnham Surrey trading under that name from 1929. A major part of their output was under sub-contract to motor vehicle manufacturers. Their business closed in 1972.'"
      ]
     },
     "execution_count": 6,
     "metadata": {},
     "output_type": "execute_result"
    }
   ],
   "source": [
    "train_data.iloc[0, 2]"
   ]
  },
  {
   "cell_type": "markdown",
   "metadata": {},
   "source": [
    "It seems there are punctuation and digits within the texts, we can assume they play less important role in dertemining categories in this project. We only focus on words, terms, so we can remove those punctuations as well as digits."
   ]
  },
  {
   "cell_type": "markdown",
   "metadata": {},
   "source": [
    "# 2.Preprocessing\n",
    "\n",
    "We are going to remove punctuations and digits."
   ]
  },
  {
   "cell_type": "code",
   "execution_count": 7,
   "metadata": {
    "collapsed": false
   },
   "outputs": [],
   "source": [
    "#Map punctuations into blanks\n",
    "trantab_punc = str.maketrans(string.punctuation,' '*len(string.punctuation))\n",
    "trantab_digit = str.maketrans('0123456789',' '*10)\n",
    "#trantab_enter = str.maketrans('\\n',' ')\n",
    "#shift to lower cases\n",
    "#Using lambda function to simplify code\n",
    "remove_punc_digit = lambda text: text.translate(trantab_punc).translate(trantab_digit).lower()\n",
    "#texts = [remove_punc_digit(text).lower().strip() for text in texts]"
   ]
  },
  {
   "cell_type": "markdown",
   "metadata": {},
   "source": [
    "Preprocess each piece of news."
   ]
  },
  {
   "cell_type": "code",
   "execution_count": 8,
   "metadata": {
    "collapsed": false
   },
   "outputs": [],
   "source": [
    "train_data['cleaned_content'] = train_data['content'].map(remove_punc_digit)\n",
    "test_data['cleaned_content'] = test_data['content'].map(remove_punc_digit)"
   ]
  },
  {
   "cell_type": "code",
   "execution_count": 9,
   "metadata": {
    "collapsed": false
   },
   "outputs": [
    {
     "data": {
      "text/plain": [
       "' abbott of farnham e d abbott limited was a british coachbuilding business based in farnham surrey trading under that name from       a major part of their output was under sub contract to motor vehicle manufacturers  their business closed in      '"
      ]
     },
     "execution_count": 9,
     "metadata": {},
     "output_type": "execute_result"
    }
   ],
   "source": [
    "train_data.iloc[0,3]"
   ]
  },
  {
   "cell_type": "markdown",
   "metadata": {},
   "source": [
    "Take a look at the preprocessed data."
   ]
  },
  {
   "cell_type": "markdown",
   "metadata": {},
   "source": [
    "## 3.Data Exploration\n",
    "\n",
    "### Word Count"
   ]
  },
  {
   "cell_type": "code",
   "execution_count": 10,
   "metadata": {
    "collapsed": false
   },
   "outputs": [
    {
     "data": {
      "text/plain": [
       "<matplotlib.text.Text at 0x18edaf278>"
      ]
     },
     "execution_count": 10,
     "metadata": {},
     "output_type": "execute_result"
    },
    {
     "data": {
      "image/png": "[encoded data removed]",
      "text/plain": [
       "<matplotlib.figure.Figure at 0x10cecf0f0>"
      ]
     },
     "metadata": {},
     "output_type": "display_data"
    }
   ],
   "source": [
    "#Calculate the character lengths for each piece of news\n",
    "#lengths =  [len(item) for item in newsgroups_train.data]\n",
    "train_data['word_count'] = train_data['cleaned_content'].str.split().map(len)\n",
    "plt.style.use('ggplot')\n",
    "plt.hist(train_data['word_count'], bins=30)\n",
    "plt.title('Word Count Histogram')"
   ]
  },
  {
   "cell_type": "markdown",
   "metadata": {},
   "source": [
    "Most texts have less than 200 words."
   ]
  },
  {
   "cell_type": "code",
   "execution_count": 11,
   "metadata": {
    "collapsed": false
   },
   "outputs": [
    {
     "data": {
      "text/plain": [
       "['abbott',\n",
       " 'of',\n",
       " 'farnham',\n",
       " 'e',\n",
       " 'd',\n",
       " 'abbott',\n",
       " 'limited',\n",
       " 'was',\n",
       " 'a',\n",
       " 'british',\n",
       " 'coachbuilding',\n",
       " 'business',\n",
       " 'based',\n",
       " 'in',\n",
       " 'farnham',\n",
       " 'surrey',\n",
       " 'trading',\n",
       " 'under',\n",
       " 'that',\n",
       " 'name',\n",
       " 'from',\n",
       " 'a',\n",
       " 'major',\n",
       " 'part',\n",
       " 'of',\n",
       " 'their',\n",
       " 'output',\n",
       " 'was',\n",
       " 'under',\n",
       " 'sub',\n",
       " 'contract',\n",
       " 'to',\n",
       " 'motor',\n",
       " 'vehicle',\n",
       " 'manufacturers',\n",
       " 'their',\n",
       " 'business',\n",
       " 'closed',\n",
       " 'in']"
      ]
     },
     "execution_count": 11,
     "metadata": {},
     "output_type": "execute_result"
    }
   ],
   "source": [
    "train_data['words'] = train_data['cleaned_content'].str.split()\n",
    "#Make a boxplot, ignore outliers\n",
    "train_data['words'][0]"
   ]
  },
  {
   "cell_type": "code",
   "execution_count": 12,
   "metadata": {
    "collapsed": false
   },
   "outputs": [
    {
     "data": {
      "text/plain": [
       "<matplotlib.axes._subplots.AxesSubplot at 0x18d1b7080>"
      ]
     },
     "execution_count": 12,
     "metadata": {},
     "output_type": "execute_result"
    },
    {
     "data": {
      "image/png": "[encoded data removed]",
      "text/plain": [
       "<matplotlib.figure.Figure at 0x12ec1ab00>"
      ]
     },
     "metadata": {},
     "output_type": "display_data"
    }
   ],
   "source": [
    "train_data.boxplot(column='word_count', by='type')"
   ]
  },
  {
   "cell_type": "markdown",
   "metadata": {},
   "source": [
    "Type 10 has very long texts, we do not handle it initially."
   ]
  },
  {
   "cell_type": "code",
   "execution_count": 13,
   "metadata": {
    "collapsed": false
   },
   "outputs": [
    {
     "data": {
      "text/plain": [
       "array([ 26.,  45.,  79.])"
      ]
     },
     "execution_count": 13,
     "metadata": {},
     "output_type": "execute_result"
    }
   ],
   "source": [
    "np.percentile(train_data['word_count'], [25, 50, 95])"
   ]
  },
  {
   "cell_type": "markdown",
   "metadata": {},
   "source": [
    "The majority of texts has less than 80 words."
   ]
  },
  {
   "cell_type": "markdown",
   "metadata": {},
   "source": [
    "### Word Frequency"
   ]
  },
  {
   "cell_type": "code",
   "execution_count": 14,
   "metadata": {
    "collapsed": false
   },
   "outputs": [
    {
     "data": {
      "text/plain": [
       "25324388"
      ]
     },
     "execution_count": 14,
     "metadata": {},
     "output_type": "execute_result"
    }
   ],
   "source": [
    "#Build Vocabulary \n",
    "words = []\n",
    "for text in train_data['words']:\n",
    "    words.extend(text)\n",
    "len(words)"
   ]
  },
  {
   "cell_type": "markdown",
   "metadata": {},
   "source": [
    "There are millions of words in total."
   ]
  },
  {
   "cell_type": "code",
   "execution_count": 15,
   "metadata": {
    "collapsed": false
   },
   "outputs": [
    {
     "data": {
      "text/plain": [
       "660029"
      ]
     },
     "execution_count": 15,
     "metadata": {},
     "output_type": "execute_result"
    }
   ],
   "source": [
    "from collections import Counter\n",
    "word_freq = Counter(words)\n",
    "len(word_freq)"
   ]
  },
  {
   "cell_type": "markdown",
   "metadata": {},
   "source": [
    "Actually, there are only 660029 unique words."
   ]
  },
  {
   "cell_type": "code",
   "execution_count": 16,
   "metadata": {
    "collapsed": false
   },
   "outputs": [],
   "source": [
    "#Select 50000 most frequent words\n",
    "vocab_pair = word_freq.most_common(50000)\n",
    "vocab_sorted = sorted(vocab_pair, key=lambda d:d[1], reverse = True)\n",
    "most_freq = vocab_sorted[:20]"
   ]
  },
  {
   "cell_type": "code",
   "execution_count": 51,
   "metadata": {
    "collapsed": false
   },
   "outputs": [
    {
     "data": {
      "text/plain": [
       "<matplotlib.text.Text at 0x1c0e47978>"
      ]
     },
     "execution_count": 51,
     "metadata": {},
     "output_type": "execute_result"
    },
    {
     "data": {
      "image/png": "[encoded data removed]",
      "text/plain": [
       "<matplotlib.figure.Figure at 0x1c0e88358>"
      ]
     },
     "metadata": {},
     "output_type": "display_data"
    }
   ],
   "source": [
    "selected_words, freqs = list(zip(*most_freq))\n",
    "plt.barh(bottom = range(20), width=freqs, height=0.5, tick_label=selected_words, log=True)\n",
    "plt.tight_layout()\n",
    "plt.xlabel('Word Freq')\n",
    "plt.ylabel('Word')\n",
    "plt.title('Most Frequent Words')"
   ]
  },
  {
   "cell_type": "markdown",
   "metadata": {},
   "source": [
    "It seems most fequent words are stop words such as \"and\", \"in\", \"the\"."
   ]
  },
  {
   "cell_type": "markdown",
   "metadata": {},
   "source": [
    "## 4.How to Represent a Text\n",
    "\n",
    "Usually, the input of machine learning is expected to be rows of vectors, each row means a sample, and each column means a feature, whereas the texts consist of series of term symbols. Therefore, it is neccessary to transform texts into vectors.\n",
    "\n",
    "Bag-of-word model is commonly used in text classification, first we build a vocabulary and map each text into a vector of frequencies(or TfIdf values) of words within the vocabulary. For example:\n",
    "\"I like this dog!\"\n",
    "\"You like this dog too!\"\n",
    "\n",
    "The vocabulary is ['I', 'You', 'like', 'this', 'dog', 'too'].\n",
    "Two sentences can be represented as:\n",
    "```\n",
    "[1, 0, 1, 1, 1, 0]\n",
    "[0, 1, 1, 1, 1, 1]\n",
    "```"
   ]
  },
  {
   "cell_type": "code",
   "execution_count": 18,
   "metadata": {
    "collapsed": true
   },
   "outputs": [],
   "source": [
    "X_train, y_train = train_data['cleaned_content'], train_data['type']\n",
    "X_test, y_test = test_data['cleaned_content'], test_data['type']"
   ]
  },
  {
   "cell_type": "markdown",
   "metadata": {},
   "source": [
    "### Unigram TfIdf Model\n",
    "\n",
    "Sklearn has provided tools to extract features from data such as contexts, for example,  CountVectorizer and TfidfVectorizer"
   ]
  },
  {
   "cell_type": "code",
   "execution_count": 19,
   "metadata": {
    "collapsed": false
   },
   "outputs": [
    {
     "data": {
      "text/plain": [
       "(560000, 20000)"
      ]
     },
     "execution_count": 19,
     "metadata": {},
     "output_type": "execute_result"
    }
   ],
   "source": [
    "from sklearn.feature_extraction.text import CountVectorizer, TfidfVectorizer\n",
    "tfidfVectorizer = TfidfVectorizer(stop_words='english', ngram_range=(1, 1), max_features=20000)\n",
    "X_train_tfidf = tfidfVectorizer.fit_transform(X_train)\n",
    "X_train_tfidf.shape"
   ]
  },
  {
   "cell_type": "code",
   "execution_count": 20,
   "metadata": {
    "collapsed": false
   },
   "outputs": [
    {
     "data": {
      "text/plain": [
       "(70000, 20000)"
      ]
     },
     "execution_count": 20,
     "metadata": {},
     "output_type": "execute_result"
    }
   ],
   "source": [
    "X_test_tfidf = tfidfVectorizer.transform(X_test)\n",
    "X_test_tfidf.shape"
   ]
  },
  {
   "cell_type": "code",
   "execution_count": 21,
   "metadata": {
    "collapsed": false
   },
   "outputs": [
    {
     "data": {
      "text/plain": [
       "<1x20000 sparse matrix of type '<class 'numpy.float64'>'\n",
       "\twith 16 stored elements in Compressed Sparse Row format>"
      ]
     },
     "execution_count": 21,
     "metadata": {},
     "output_type": "execute_result"
    }
   ],
   "source": [
    "X_train_tfidf.getrow(0)"
   ]
  },
  {
   "cell_type": "code",
   "execution_count": 22,
   "metadata": {
    "collapsed": false
   },
   "outputs": [
    {
     "data": {
      "text/plain": [
       "array([[ 0.,  0.,  0., ...,  0.,  0.,  0.]])"
      ]
     },
     "execution_count": 22,
     "metadata": {},
     "output_type": "execute_result"
    }
   ],
   "source": [
    "X_train_tfidf.getrow(0).toarray()"
   ]
  },
  {
   "cell_type": "markdown",
   "metadata": {},
   "source": [
    "## 5.Classification Models"
   ]
  },
  {
   "cell_type": "markdown",
   "metadata": {},
   "source": [
    "We can try different classification models on the dataset. Note, this dataset has 560000 samples, relatively large, therefore, we need to take this into consideration."
   ]
  },
  {
   "cell_type": "markdown",
   "metadata": {},
   "source": [
    "### Models\n",
    "\n",
    "Naive bayesian model is often used in text classification, although there's a strong assumption, each conditional probability of words are independent. Also, knn methods can be used to classify according to the distance of samples."
   ]
  },
  {
   "cell_type": "code",
   "execution_count": 28,
   "metadata": {
    "collapsed": true
   },
   "outputs": [],
   "source": [
    "import time\n",
    "from sklearn.naive_bayes import MultinomialNB\n",
    "from sklearn.neighbors import KNeighborsClassifier\n",
    "from sklearn.ensemble import RandomForestClassifier\n",
    "from sklearn.linear_model import LogisticRegression\n",
    "from sklearn.neural_network import MLPClassifier\n",
    "mlp = MLPClassifier(hidden_layer_sizes=(128,), max_iter=300, alpha=1e-4,\n",
    "                    solver='sgd', verbose=False, tol=1e-5, random_state=1,\n",
    "                    learning_rate_init=.17)\n",
    "nb = MultinomialNB(0.01)\n",
    "lr = LogisticRegression(C=0.5, n_jobs=4, random_state=1)\n",
    "rf =  RandomForestClassifier(n_jobs=4, random_state=1, max_depth=10)\n",
    "#knn = KNeighborsClassifier(n_neighbors=50,weights='distance')\n",
    "models = [lr, nb, rf, mlp]"
   ]
  },
  {
   "cell_type": "markdown",
   "metadata": {},
   "source": [
    "We can use f1 score as the classification metrics, in addition, cross validation is considered."
   ]
  },
  {
   "cell_type": "code",
   "execution_count": 29,
   "metadata": {
    "collapsed": false
   },
   "outputs": [],
   "source": [
    "from sklearn.metrics import f1_score\n",
    "from sklearn.model_selection import cross_val_score\n",
    "def train(model, data, label, validation=True):\n",
    "    #if not model:\n",
    "        #raise ValueError('Input must not be None!')\n",
    "    if validation:\n",
    "        scores = cross_val_score(model, data, label, cv=5)\n",
    "        print('Accuracy:', scores)\n",
    "    model.fit(data, label)\n",
    "    return model"
   ]
  },
  {
   "cell_type": "markdown",
   "metadata": {},
   "source": [
    "It is common to use micro F1 and macro F1 values as the metrics for document classification. For more details, please refer to http://firefenix.blog.163.com/blog/static/10338509720134973556756/."
   ]
  },
  {
   "cell_type": "code",
   "execution_count": 30,
   "metadata": {
    "collapsed": false
   },
   "outputs": [],
   "source": [
    "def test(model, data, label):\n",
    "    #if not model:\n",
    "        #raise ValueError('Input must not be None!')\n",
    "    preds = model.predict(data)\n",
    "    micro_f1 = f1_score(label, preds, average='micro')\n",
    "    macro_f1 = f1_score(label, preds, average='macro')\n",
    "    print('Micro F1: {:.3f}'.format(micro_f1))\n",
    "    #Macro F1\n",
    "    print('Macro F1: {:.3f}'.format(macro_f1))\n",
    "    return micro_f1, macro_f1"
   ]
  },
  {
   "cell_type": "code",
   "execution_count": 31,
   "metadata": {
    "collapsed": false
   },
   "outputs": [
    {
     "name": "stdout",
     "output_type": "stream",
     "text": [
      "<class 'sklearn.linear_model.logistic.LogisticRegression'>\n",
      "Accuracy: [ 0.97503571  0.97558929  0.97517857  0.97563393  0.9758125 ]\n",
      "Micro F1: 0.976\n",
      "Macro F1: 0.976\n",
      "********************************************************************************\n",
      "<class 'sklearn.naive_bayes.MultinomialNB'>\n",
      "Accuracy: [ 0.94396429  0.94433036  0.94366964  0.94340179  0.94465179]\n",
      "Micro F1: 0.945\n",
      "Macro F1: 0.944\n",
      "********************************************************************************\n",
      "<class 'sklearn.ensemble.forest.RandomForestClassifier'>\n",
      "Micro F1: 0.663\n",
      "Macro F1: 0.663\n",
      "********************************************************************************\n",
      "<class 'sklearn.neural_network.multilayer_perceptron.MLPClassifier'>\n",
      "Micro F1: 0.978\n",
      "Macro F1: 0.978\n",
      "********************************************************************************\n"
     ]
    }
   ],
   "source": [
    "for model in models:\n",
    "    '''Train Different Models'''\n",
    "    print(model.__class__)\n",
    "    if model is mlp or model is rf:\n",
    "        md = train(model, X_train_tfidf, y_train, False)\n",
    "    else:\n",
    "        md = train(model, X_train_tfidf, y_train)\n",
    "    micro_f1, macro_f1 = test(md, X_test_tfidf, y_test)\n",
    "    print('*'*80)"
   ]
  },
  {
   "cell_type": "markdown",
   "metadata": {},
   "source": [
    "## 7.All-In-One Model\n",
    "\n",
    "According to the analysis above, we are going to create a class to finish all the steps."
   ]
  },
  {
   "cell_type": "code",
   "execution_count": 32,
   "metadata": {
    "collapsed": false
   },
   "outputs": [],
   "source": [
    "from sklearn.feature_extraction.text import TfidfVectorizer\n",
    "from sklearn.metrics import f1_score\n",
    "from sklearn.model_selection import cross_val_score\n",
    "#from stemming.porter2 import stem\n",
    "from nltk.stem import WordNetLemmatizer\n",
    "punctuations = string.punctuation\n",
    "from sklearn.feature_extraction.stop_words import ENGLISH_STOP_WORDS as stopwords "
   ]
  },
  {
   "cell_type": "code",
   "execution_count": 33,
   "metadata": {
    "collapsed": false
   },
   "outputs": [],
   "source": [
    "from sklearn.decomposition import PCA\n",
    "class text_classification(object):\n",
    "    '''This class aims to transform preprocessed texts into TfIdf vectors\n",
    "    and applies specified models to do classifications'''\n",
    "    def __init__(self, train_data, train_label, ngram=1, max_features=10000):\n",
    "        '''Initialize Parameters'''\n",
    "        self.train_data = train_data\n",
    "        self.train_label = train_label\n",
    "        self.ngram = ngram\n",
    "        self.max_features = max_features\n",
    "        self.vectorizer = self.__build_vectorizer()\n",
    "        self.model = None\n",
    "        \n",
    "\n",
    "        \n",
    "    def __lem_stem(self, data):\n",
    "        '''Take lemmatizer and stemmize into account'''\n",
    "        lemmatizer = WordNetLemmatizer()\n",
    "        lem_data = [lemmatizer.lemmatize(word.strip()) for word \n",
    "                    in data.split()]\n",
    "        data = ' '.join(lem_data)\n",
    "        #stem_data = [stem(word.strip()) for word \n",
    "                    #in data.split() ]\n",
    "        #data = ' '.join(data)\n",
    "        return data\n",
    "    \n",
    "    def __dimension_reduction(self, data):\n",
    "        '''Reduce dimension of original data'''\n",
    "        threshold = 0.9\n",
    "        pca = PCA()\n",
    "        pca.fit(data)\n",
    "        cumsum_variance = np.cumsum(pca.explained_variance_ratio_)\n",
    "        #Select a few principal compoents whose variances accounted for 90%\n",
    "        n_component = sum(cumsum_variance > threshold)\n",
    "        \n",
    "        \n",
    "    def __build_vectorizer(self):\n",
    "        '''Build vectorized based on TfIdf model'''\n",
    "        #self.train_data = [self.__spacy_tokenizer(news) for news in self.train_data]\n",
    "        self.train_data = [self.__lem_stem(news) for news in self.train_data]\n",
    "        tfidfVectorizer = TfidfVectorizer(stop_words='english', ngram_range=(1, self.ngram), \n",
    "                                          max_features=self.max_features)\n",
    "        tfidfVectorizer.fit(self.train_data)\n",
    "        return tfidfVectorizer\n",
    "        \n",
    "    def __text_transform(self, data):\n",
    "        '''Transform each text into a vector of TfIdf values of terms'''\n",
    "        if data is None:\n",
    "            raise ValueError('Data Is Empty!')\n",
    "        tfidfVectorizer = self.vectorizer\n",
    "        text_tfidf = tfidfVectorizer.transform(data)\n",
    "        return text_tfidf\n",
    "    \n",
    "    def train(self, model, validation=False):\n",
    "        '''Train a model'''\n",
    "        if model is None:\n",
    "            raise ValueError('Model Must Be Specified!')\n",
    "        train_tfidf = self.__text_transform(self.train_data)\n",
    "        #Validate the performance of Classification Method\n",
    "        if validation:\n",
    "            scores = cross_val_score(model, train_tfidf, self.train_label, cv=5)\n",
    "            print('Accuracy:', scores)\n",
    "        model.fit(train_tfidf, self.train_label)\n",
    "        self.model = model\n",
    "        return model\n",
    "    \n",
    "    def test(self, test_data, test_label):\n",
    "        '''Test the model after the model as been trained'''\n",
    "        if self.model is None:\n",
    "            raise ValueError('Model Must Be Specified!')\n",
    "        test_data = [self.__lem_stem(news) for news in test_data]\n",
    "        #test_data = [self.__spacy_tokenizer(news) for news in test_data]\n",
    "        test_tfidf = self.__text_transform(test_data)\n",
    "        preds = self.model.predict(test_tfidf)\n",
    "        micro_f1 = f1_score(test_label, preds, average='micro')\n",
    "        print('Micro F1: {:.3f}'.format(micro_f1))\n",
    "        return micro_f1"
   ]
  },
  {
   "cell_type": "code",
   "execution_count": 35,
   "metadata": {
    "collapsed": false
   },
   "outputs": [],
   "source": [
    "#Create a model\n",
    "#tc = text_classification(train_data, train_label, ngram=1, max_features=30000)\n",
    "tc = text_classification(X_train, y_train, ngram=1, max_features=10000)"
   ]
  },
  {
   "cell_type": "code",
   "execution_count": 38,
   "metadata": {
    "collapsed": false
   },
   "outputs": [],
   "source": [
    "mlp = MLPClassifier(hidden_layer_sizes=(100,), max_iter=100, alpha=1e-4,\n",
    "                    solver='sgd', verbose=False, tol=1e-5, random_state=1,\n",
    "                    learning_rate_init=.17)\n",
    "nb = MultinomialNB(0.01)\n",
    "lr = LogisticRegression(C=0.5, random_state=1)\n",
    "rf =  RandomForestClassifier(n_estimators=10, max_depth=10, n_jobs=4, random_state=1)"
   ]
  },
  {
   "cell_type": "code",
   "execution_count": 39,
   "metadata": {
    "collapsed": false
   },
   "outputs": [
    {
     "name": "stdout",
     "output_type": "stream",
     "text": [
      "Micro F1: 0.944\n"
     ]
    },
    {
     "data": {
      "text/plain": [
       "0.94355714285714287"
      ]
     },
     "execution_count": 39,
     "metadata": {},
     "output_type": "execute_result"
    }
   ],
   "source": [
    "tc.train(nb)\n",
    "tc.test(X_test, y_test)\n",
    "#tc.test(test_data, test_label)"
   ]
  },
  {
   "cell_type": "markdown",
   "metadata": {},
   "source": [
    "### Train Different Models"
   ]
  },
  {
   "cell_type": "code",
   "execution_count": 42,
   "metadata": {
    "collapsed": false
   },
   "outputs": [
    {
     "name": "stdout",
     "output_type": "stream",
     "text": [
      "<class 'sklearn.linear_model.logistic.LogisticRegression'>\n",
      "Accuracy: [ 0.97266964  0.97266071  0.97264286  0.9733125   0.97317857]\n",
      "Micro F1: 0.974\n",
      "Time: 190.70686888694763\n",
      "******************************\n",
      "<class 'sklearn.ensemble.forest.RandomForestClassifier'>\n",
      "Micro F1: 0.731\n",
      "Time: 43.40317225456238\n",
      "******************************\n",
      "<class 'sklearn.naive_bayes.MultinomialNB'>\n",
      "Accuracy: [ 0.94291071  0.94372321  0.94300893  0.94275893  0.94441071]\n",
      "Micro F1: 0.944\n",
      "Time: 43.842857122421265\n",
      "******************************\n",
      "<class 'sklearn.neural_network.multilayer_perceptron.MLPClassifier'>\n",
      "Micro F1: 0.975\n",
      "Time: 1900.653584241867\n",
      "******************************\n"
     ]
    }
   ],
   "source": [
    "#Train the model with several classifiers\n",
    "models = [lr, rf, nb, mlp]\n",
    "for model in models:\n",
    "    start_time = time.time()\n",
    "    print(model.__class__)\n",
    "    validation = True\n",
    "    if model is mlp or model is rf:\n",
    "        validation = False\n",
    "    tc.train(model, validation)\n",
    "    tc.test(X_test, y_test)\n",
    "    end_time = time.time()\n",
    "    print('Time:', end_time-start_time)\n",
    "    print('*'*30)"
   ]
  },
  {
   "cell_type": "markdown",
   "metadata": {},
   "source": [
    "### Tune Parameters\n",
    "\n",
    "Allowing for the test performance and timing, we select logistic regression as final model, and we can tune the C values, which means Inverse of regularization strength. The larger C is, the less regularization strength is, and the model tends to overfit."
   ]
  },
  {
   "cell_type": "code",
   "execution_count": 44,
   "metadata": {
    "collapsed": false
   },
   "outputs": [
    {
     "name": "stdout",
     "output_type": "stream",
     "text": [
      "Micro F1: 0.976\n"
     ]
    },
    {
     "data": {
      "text/plain": [
       "0.97608571428571433"
      ]
     },
     "execution_count": 44,
     "metadata": {},
     "output_type": "execute_result"
    }
   ],
   "source": [
    "from sklearn.model_selection import GridSearchCV \n",
    "parameters = {'C': [2, 1, 0.5, 0.2, 0.1, 0.05]}\n",
    "lr = LogisticRegression(random_state=1)\n",
    "gs = GridSearchCV(estimator=lr, param_grid=parameters, cv=5)\n",
    "tc.train(gs)\n",
    "tc.test(X_test, y_test)"
   ]
  },
  {
   "cell_type": "code",
   "execution_count": 53,
   "metadata": {
    "collapsed": false
   },
   "outputs": [
    {
     "data": {
      "text/plain": [
       "{'C': 2}"
      ]
     },
     "execution_count": 53,
     "metadata": {},
     "output_type": "execute_result"
    }
   ],
   "source": [
    "gs.best_params_"
   ]
  },
  {
   "cell_type": "code",
   "execution_count": 45,
   "metadata": {
    "collapsed": false
   },
   "outputs": [],
   "source": [
    "import pandas as pd\n",
    "df_result = pd.DataFrame(gs.cv_results_)"
   ]
  },
  {
   "cell_type": "code",
   "execution_count": 46,
   "metadata": {
    "collapsed": false
   },
   "outputs": [
    {
     "data": {
      "text/html": [
       "<div>\n",
       "<table border=\"1\" class=\"dataframe\">\n",
       "  <thead>\n",
       "    <tr style=\"text-align: right;\">\n",
       "      <th></th>\n",
       "      <th>mean_fit_time</th>\n",
       "      <th>mean_score_time</th>\n",
       "      <th>mean_test_score</th>\n",
       "      <th>mean_train_score</th>\n",
       "      <th>param_C</th>\n",
       "      <th>params</th>\n",
       "      <th>rank_test_score</th>\n",
       "      <th>split0_test_score</th>\n",
       "      <th>split0_train_score</th>\n",
       "      <th>split1_test_score</th>\n",
       "      <th>...</th>\n",
       "      <th>split2_test_score</th>\n",
       "      <th>split2_train_score</th>\n",
       "      <th>split3_test_score</th>\n",
       "      <th>split3_train_score</th>\n",
       "      <th>split4_test_score</th>\n",
       "      <th>split4_train_score</th>\n",
       "      <th>std_fit_time</th>\n",
       "      <th>std_score_time</th>\n",
       "      <th>std_test_score</th>\n",
       "      <th>std_train_score</th>\n",
       "    </tr>\n",
       "  </thead>\n",
       "  <tbody>\n",
       "    <tr>\n",
       "      <th>0</th>\n",
       "      <td>29.204807</td>\n",
       "      <td>0.057377</td>\n",
       "      <td>0.975770</td>\n",
       "      <td>0.981909</td>\n",
       "      <td>2</td>\n",
       "      <td>{'C': 2}</td>\n",
       "      <td>1</td>\n",
       "      <td>0.975518</td>\n",
       "      <td>0.982011</td>\n",
       "      <td>0.975812</td>\n",
       "      <td>...</td>\n",
       "      <td>0.975196</td>\n",
       "      <td>0.981924</td>\n",
       "      <td>0.976080</td>\n",
       "      <td>0.981781</td>\n",
       "      <td>0.976241</td>\n",
       "      <td>0.981835</td>\n",
       "      <td>0.332485</td>\n",
       "      <td>0.001390</td>\n",
       "      <td>0.000378</td>\n",
       "      <td>0.000089</td>\n",
       "    </tr>\n",
       "    <tr>\n",
       "      <th>1</th>\n",
       "      <td>27.898088</td>\n",
       "      <td>0.060184</td>\n",
       "      <td>0.974655</td>\n",
       "      <td>0.979171</td>\n",
       "      <td>1</td>\n",
       "      <td>{'C': 1}</td>\n",
       "      <td>2</td>\n",
       "      <td>0.974455</td>\n",
       "      <td>0.979279</td>\n",
       "      <td>0.974464</td>\n",
       "      <td>...</td>\n",
       "      <td>0.974366</td>\n",
       "      <td>0.979176</td>\n",
       "      <td>0.974973</td>\n",
       "      <td>0.979025</td>\n",
       "      <td>0.975018</td>\n",
       "      <td>0.979056</td>\n",
       "      <td>1.405793</td>\n",
       "      <td>0.008863</td>\n",
       "      <td>0.000280</td>\n",
       "      <td>0.000117</td>\n",
       "    </tr>\n",
       "    <tr>\n",
       "      <th>2</th>\n",
       "      <td>24.486884</td>\n",
       "      <td>0.064732</td>\n",
       "      <td>0.972893</td>\n",
       "      <td>0.976166</td>\n",
       "      <td>0.5</td>\n",
       "      <td>{'C': 0.5}</td>\n",
       "      <td>3</td>\n",
       "      <td>0.972670</td>\n",
       "      <td>0.976335</td>\n",
       "      <td>0.972661</td>\n",
       "      <td>...</td>\n",
       "      <td>0.972643</td>\n",
       "      <td>0.976248</td>\n",
       "      <td>0.973313</td>\n",
       "      <td>0.975975</td>\n",
       "      <td>0.973179</td>\n",
       "      <td>0.976020</td>\n",
       "      <td>0.899558</td>\n",
       "      <td>0.012271</td>\n",
       "      <td>0.000291</td>\n",
       "      <td>0.000142</td>\n",
       "    </tr>\n",
       "    <tr>\n",
       "      <th>3</th>\n",
       "      <td>23.445327</td>\n",
       "      <td>0.060915</td>\n",
       "      <td>0.969877</td>\n",
       "      <td>0.971889</td>\n",
       "      <td>0.2</td>\n",
       "      <td>{'C': 0.2}</td>\n",
       "      <td>4</td>\n",
       "      <td>0.969688</td>\n",
       "      <td>0.972007</td>\n",
       "      <td>0.969518</td>\n",
       "      <td>...</td>\n",
       "      <td>0.969598</td>\n",
       "      <td>0.971938</td>\n",
       "      <td>0.970152</td>\n",
       "      <td>0.971779</td>\n",
       "      <td>0.970429</td>\n",
       "      <td>0.971754</td>\n",
       "      <td>0.897035</td>\n",
       "      <td>0.004214</td>\n",
       "      <td>0.000353</td>\n",
       "      <td>0.000103</td>\n",
       "    </tr>\n",
       "    <tr>\n",
       "      <th>4</th>\n",
       "      <td>20.970330</td>\n",
       "      <td>0.057760</td>\n",
       "      <td>0.966850</td>\n",
       "      <td>0.968322</td>\n",
       "      <td>0.1</td>\n",
       "      <td>{'C': 0.1}</td>\n",
       "      <td>5</td>\n",
       "      <td>0.966679</td>\n",
       "      <td>0.968313</td>\n",
       "      <td>0.966643</td>\n",
       "      <td>...</td>\n",
       "      <td>0.966402</td>\n",
       "      <td>0.968480</td>\n",
       "      <td>0.967304</td>\n",
       "      <td>0.968179</td>\n",
       "      <td>0.967223</td>\n",
       "      <td>0.968192</td>\n",
       "      <td>0.695154</td>\n",
       "      <td>0.001022</td>\n",
       "      <td>0.000352</td>\n",
       "      <td>0.000125</td>\n",
       "    </tr>\n",
       "    <tr>\n",
       "      <th>5</th>\n",
       "      <td>20.000297</td>\n",
       "      <td>0.057312</td>\n",
       "      <td>0.962927</td>\n",
       "      <td>0.963945</td>\n",
       "      <td>0.05</td>\n",
       "      <td>{'C': 0.05}</td>\n",
       "      <td>6</td>\n",
       "      <td>0.962875</td>\n",
       "      <td>0.964033</td>\n",
       "      <td>0.962393</td>\n",
       "      <td>...</td>\n",
       "      <td>0.962589</td>\n",
       "      <td>0.964054</td>\n",
       "      <td>0.963259</td>\n",
       "      <td>0.963819</td>\n",
       "      <td>0.963518</td>\n",
       "      <td>0.963748</td>\n",
       "      <td>0.496832</td>\n",
       "      <td>0.002103</td>\n",
       "      <td>0.000415</td>\n",
       "      <td>0.000134</td>\n",
       "    </tr>\n",
       "  </tbody>\n",
       "</table>\n",
       "<p>6 rows × 21 columns</p>\n",
       "</div>"
      ],
      "text/plain": [
       "   mean_fit_time  mean_score_time  mean_test_score  mean_train_score param_C  \\\n",
       "0      29.204807         0.057377         0.975770          0.981909       2   \n",
       "1      27.898088         0.060184         0.974655          0.979171       1   \n",
       "2      24.486884         0.064732         0.972893          0.976166     0.5   \n",
       "3      23.445327         0.060915         0.969877          0.971889     0.2   \n",
       "4      20.970330         0.057760         0.966850          0.968322     0.1   \n",
       "5      20.000297         0.057312         0.962927          0.963945    0.05   \n",
       "\n",
       "        params  rank_test_score  split0_test_score  split0_train_score  \\\n",
       "0     {'C': 2}                1           0.975518            0.982011   \n",
       "1     {'C': 1}                2           0.974455            0.979279   \n",
       "2   {'C': 0.5}                3           0.972670            0.976335   \n",
       "3   {'C': 0.2}                4           0.969688            0.972007   \n",
       "4   {'C': 0.1}                5           0.966679            0.968313   \n",
       "5  {'C': 0.05}                6           0.962875            0.964033   \n",
       "\n",
       "   split1_test_score       ...         split2_test_score  split2_train_score  \\\n",
       "0           0.975812       ...                  0.975196            0.981924   \n",
       "1           0.974464       ...                  0.974366            0.979176   \n",
       "2           0.972661       ...                  0.972643            0.976248   \n",
       "3           0.969518       ...                  0.969598            0.971938   \n",
       "4           0.966643       ...                  0.966402            0.968480   \n",
       "5           0.962393       ...                  0.962589            0.964054   \n",
       "\n",
       "   split3_test_score  split3_train_score  split4_test_score  \\\n",
       "0           0.976080            0.981781           0.976241   \n",
       "1           0.974973            0.979025           0.975018   \n",
       "2           0.973313            0.975975           0.973179   \n",
       "3           0.970152            0.971779           0.970429   \n",
       "4           0.967304            0.968179           0.967223   \n",
       "5           0.963259            0.963819           0.963518   \n",
       "\n",
       "   split4_train_score  std_fit_time  std_score_time  std_test_score  \\\n",
       "0            0.981835      0.332485        0.001390        0.000378   \n",
       "1            0.979056      1.405793        0.008863        0.000280   \n",
       "2            0.976020      0.899558        0.012271        0.000291   \n",
       "3            0.971754      0.897035        0.004214        0.000353   \n",
       "4            0.968192      0.695154        0.001022        0.000352   \n",
       "5            0.963748      0.496832        0.002103        0.000415   \n",
       "\n",
       "   std_train_score  \n",
       "0         0.000089  \n",
       "1         0.000117  \n",
       "2         0.000142  \n",
       "3         0.000103  \n",
       "4         0.000125  \n",
       "5         0.000134  \n",
       "\n",
       "[6 rows x 21 columns]"
      ]
     },
     "execution_count": 46,
     "metadata": {},
     "output_type": "execute_result"
    }
   ],
   "source": [
    "df_result"
   ]
  },
  {
   "cell_type": "code",
   "execution_count": 48,
   "metadata": {
    "collapsed": false
   },
   "outputs": [
    {
     "data": {
      "text/plain": [
       "<matplotlib.text.Text at 0x1bbe45400>"
      ]
     },
     "execution_count": 48,
     "metadata": {},
     "output_type": "execute_result"
    },
    {
     "data": {
      "image/png": "[encoded data removed]",
      "text/plain": [
       "<matplotlib.figure.Figure at 0x1ca14e550>"
      ]
     },
     "metadata": {},
     "output_type": "display_data"
    }
   ],
   "source": [
    "df_result.set_index('param_C')[['mean_test_score', 'mean_train_score']].plot()\n",
    "plt.ylabel('Accuracy')\n",
    "plt.title('Training Testing Performance')"
   ]
  },
  {
   "cell_type": "markdown",
   "metadata": {},
   "source": [
    "The plot indicates that with the decrease of C value, the performance of the model tends to be biased, whereas the variance tends to decrease as well. Actually when C=0.5, there's a balance between bias and variance."
   ]
  },
  {
   "cell_type": "code",
   "execution_count": 50,
   "metadata": {
    "collapsed": false
   },
   "outputs": [
    {
     "data": {
      "text/plain": [
       "<matplotlib.text.Text at 0x1b8859208>"
      ]
     },
     "execution_count": 50,
     "metadata": {},
     "output_type": "execute_result"
    },
    {
     "data": {
      "image/png": "[encoded data removed]",
      "text/plain": [
       "<matplotlib.figure.Figure at 0x18e998a90>"
      ]
     },
     "metadata": {},
     "output_type": "display_data"
    }
   ],
   "source": [
    "df_result.set_index('param_C')[['std_test_score', 'std_train_score']].plot()\n",
    "plt.ylabel('Std')\n",
    "plt.title('Training Testing Performance')"
   ]
  },
  {
   "cell_type": "code",
   "execution_count": null,
   "metadata": {
    "collapsed": true
   },
   "outputs": [],
   "source": []
  }
 ],
 "metadata": {
  "anaconda-cloud": {},
  "kernelspec": {
   "display_name": "Python 3",
   "language": "python",
   "name": "python3"
  },
  "language_info": {
   "codemirror_mode": {
    "name": "ipython",
    "version": 3
   },
   "file_extension": ".py",
   "mimetype": "text/x-python",
   "name": "python",
   "nbconvert_exporter": "python",
   "pygments_lexer": "ipython3",
   "version": "3.6.0"
  }
 },
 "nbformat": 4,
 "nbformat_minor": 0
}
