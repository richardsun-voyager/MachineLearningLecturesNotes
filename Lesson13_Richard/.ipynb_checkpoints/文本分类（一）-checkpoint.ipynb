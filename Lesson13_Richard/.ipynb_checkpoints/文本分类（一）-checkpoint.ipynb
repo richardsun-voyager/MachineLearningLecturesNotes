{
 "cells": [
  {
   "cell_type": "markdown",
   "metadata": {},
   "source": [
    "自然语言处理是计算机科学领域与人工智能领域中的一个重要方向。它研究能实现人与计算机之间用自然语言进行有效通信的各种理论和方法【引用自[百度百科](https://baike.baidu.com/item/%E8%87%AA%E7%84%B6%E8%AF%AD%E8%A8%80%E5%A4%84%E7%90%86/365730?fr=aladdin)】。它是一种交叉学科，融合了计算机学、语言学、统计学、数学等学科知识。近年来随着机器学习技术的发展，自然语言处理模型也取得了一系列的进展，特别是在在语音文字转换、机器翻译、情感分析、文本分类等方向有了突破性的工作。\n",
    "\n",
    "文本分类是自然语言处理，也可以说是信息检索里面的一部分。通过分析文本的标题、标签、内容等信息，确定文本的类别。比如垃圾邮件识别就是一种文本分类，利用模型分析邮件内容以区分正常邮件和垃圾邮件；还有新闻分类，根据新闻所谈论的内容，分为政治、经济、体育等类。建立高效准确的文本自动分类系统，能够有效管理各类文档，滤除无用的信息以提升工作效益。\n",
    "\n",
    "文本分类里面有三个重要的步骤：\n",
    "- 1.文本清洗。去除与文本主要意思无关的符号、空格、空行，对文本进行分词。\n",
    "- 2.文本表达。文本中提取特征，将文本符号转换成具有数学意义的矩阵、向量等表达方式。\n",
    "- 3.分类。采用监督学习方法，训练样本数据建立分类模型。"
   ]
  },
  {
   "cell_type": "markdown",
   "metadata": {},
   "source": [
    "下面结合电影评论数据分类案例来讲解文本分类的这三个流程实施过程。但是之前需要对文本数据特点进行分析，以对应设计预处理方法和分类模型。"
   ]
  },
  {
   "cell_type": "markdown",
   "metadata": {},
   "source": [
    "## 1.文本特点分析\n",
    "电影评论数据可以直接通过nltk工具包直接获取，里面可以读取每篇评论内容、感情色彩以及单词。部分代码参考了CSDN博客http://blog.csdn.net/sinat_20791575/article/details/58661827 。"
   ]
  },
  {
   "cell_type": "code",
   "execution_count": 61,
   "metadata": {
    "collapsed": false
   },
   "outputs": [],
   "source": [
    "import nltk\n",
    "import numpy as np\n",
    "from nltk.corpus import movie_reviews"
   ]
  },
  {
   "cell_type": "code",
   "execution_count": 41,
   "metadata": {
    "collapsed": false
   },
   "outputs": [
    {
     "data": {
      "text/plain": [
       "['neg', 'pos']"
      ]
     },
     "execution_count": 41,
     "metadata": {},
     "output_type": "execute_result"
    }
   ],
   "source": [
    "categories = movie_reviews.categories()\n",
    "categories"
   ]
  },
  {
   "cell_type": "markdown",
   "metadata": {},
   "source": [
    "电影评论从感情色彩上分为积极与负面两种类型"
   ]
  },
  {
   "cell_type": "code",
   "execution_count": 54,
   "metadata": {
    "collapsed": false
   },
   "outputs": [
    {
     "name": "stdout",
     "output_type": "stream",
     "text": [
      "评论数量： 2000\n"
     ]
    }
   ],
   "source": [
    "print('评论数量：', len(movie_reviews.fileids()))"
   ]
  },
  {
   "cell_type": "code",
   "execution_count": 57,
   "metadata": {
    "collapsed": false
   },
   "outputs": [
    {
     "name": "stdout",
     "output_type": "stream",
     "text": [
      "积极评论数量： 1000\n",
      "负面评论数量： 1000\n"
     ]
    }
   ],
   "source": [
    "print('积极评论数量：', len(movie_reviews.fileids('pos')))\n",
    "print('负面评论数量：', len(movie_reviews.fileids('neg')))"
   ]
  },
  {
   "cell_type": "markdown",
   "metadata": {},
   "source": [
    "两种类型的数据是均衡的。下面我们查看第一个文件数据。"
   ]
  },
  {
   "cell_type": "code",
   "execution_count": 81,
   "metadata": {
    "collapsed": false
   },
   "outputs": [
    {
     "data": {
      "text/plain": [
       "'plot : two teen couples go to a church party , drink and then drive . \\nthey get into an accident . \\none of the guys dies , but his girlfriend continues to see him in her life , and has nightmares . \\nwhat\\'s the deal ? \\nwatch the movie and \" sorta \" find out . . . \\ncritique : a mind-fuck movie for the teen generation that touches on a very cool idea , but presents it in a very bad package . \\nwhich i'"
      ]
     },
     "execution_count": 81,
     "metadata": {},
     "output_type": "execute_result"
    }
   ],
   "source": [
    "first = movie_reviews.fileids()[0]\n",
    "movie_reviews.open(first).read()[:400]"
   ]
  },
  {
   "cell_type": "markdown",
   "metadata": {},
   "source": [
    "可以看到当前文档除了单词之外还有标点符号，数字换行符等。在后面的处理中，我们可以将这些标点符号看成是没有意义的去除掉，也可以保留下来作为一个符号进行分析，特别是问号、感叹号也包含一定感情色彩。\n",
    "\n",
    "**注意，一般读取的文档内容都是句子或者段落的长文本，需要进行分词。**\n",
    "\n",
    "这里我们保留所有的符号，下面我们通过nltk工具获取每篇文章的单词以及对应的情感标签。nltk已经对文本进行了分词，但是为了演示完整流程，我们使用原始的文本，将原始的长文本分成单词和标点符号序列；分词时还可以分成2元组、3元组(n-gram)，比如“machine learning\"、“a good dog”。对于中文稍微有些复杂，因为没有空格来区分词组，比如“今天我买了一件衣服”，每个汉字可以当做一个词，但是根据常识应该分为“今天”、“我”、“买了”、“一件”、“衣服”。"
   ]
  },
  {
   "cell_type": "code",
   "execution_count": 101,
   "metadata": {
    "collapsed": true
   },
   "outputs": [],
   "source": [
    "#读取每篇评论及其对应的标签\n",
    "document_label_pairs = [(movie_reviews.raw(fileid), category)\n",
    "             for category in movie_reviews.categories()\n",
    "             for fileid in movie_reviews.fileids(category)]\n"
   ]
  },
  {
   "cell_type": "code",
   "execution_count": 108,
   "metadata": {
    "collapsed": false
   },
   "outputs": [],
   "source": [
    "#随机打乱次序\n",
    "np.random.shuffle(document_label_pairs)"
   ]
  },
  {
   "cell_type": "code",
   "execution_count": 109,
   "metadata": {
    "collapsed": true
   },
   "outputs": [],
   "source": [
    "documents, labels = list(zip(*document_label_pairs))"
   ]
  },
  {
   "cell_type": "markdown",
   "metadata": {},
   "source": [
    "## 1.文本清洗"
   ]
  },
  {
   "cell_type": "markdown",
   "metadata": {},
   "source": [
    "文本清洗可以看成是数据预处理。一般有两项工作：\n",
    "- 去除无意义符号。文本一般还有文字、标点符号、空格、数字，甚至有很多缩写、外文、错误的拼写，有的时候我们只需要处理单纯的文本比如单词或汉字，其他符号可以当做噪声去除掉。\n",
    "- 对文本进行分词。将文本内容分成词组等形式。"
   ]
  },
  {
   "cell_type": "markdown",
   "metadata": {},
   "source": [
    "在上面我们已经利用nltk工具直接获得了每篇评论的单词序列，而且不准备去掉标点符号。"
   ]
  },
  {
   "cell_type": "markdown",
   "metadata": {},
   "source": [
    "如果原始文件是一个字符串，比如我们将上文看作一个长字符串，并且需要去掉标点符号，我们可以使用Python工具完成。\n",
    "\n",
    "### 文本清洗示例\n"
   ]
  },
  {
   "cell_type": "code",
   "execution_count": 200,
   "metadata": {
    "collapsed": false
   },
   "outputs": [
    {
     "data": {
      "text/plain": [
       "'after watching the first ten minutes of this japanese film  you will never eat a bowl of ramen the same way again  \\nthere is a scene where an old man is teaching a young one how to eat the soupy bowl of noodles  as a master would teach an eager apprentice  \\n \" you caress the noodles with the chopsticks  \" he says  \" then put the roast pork on the side of the bowl and apologize to it by saying  \\'se'"
      ]
     },
     "execution_count": 200,
     "metadata": {},
     "output_type": "execute_result"
    }
   ],
   "source": [
    "#正则表达，去除表达符号\n",
    "import re\n",
    "text = document_label_pairs[0][0]\n",
    "text = re.sub('[,.!:;#()-]', '', text)\n",
    "text[:400]"
   ]
  },
  {
   "cell_type": "code",
   "execution_count": 201,
   "metadata": {
    "collapsed": false
   },
   "outputs": [
    {
     "name": "stdout",
     "output_type": "stream",
     "text": [
      "['after', 'watching', 'the', 'first', 'ten', 'minutes', 'of', 'this', 'japanese', 'film', 'you', 'will', 'never', 'eat', 'a', 'bowl', 'of', 'ramen', 'the', 'same']\n"
     ]
    }
   ],
   "source": [
    "#分词\n",
    "print(text.split()[:20])"
   ]
  },
  {
   "cell_type": "markdown",
   "metadata": {},
   "source": [
    "### 对电影评论数据进行文本清洗"
   ]
  },
  {
   "cell_type": "code",
   "execution_count": 219,
   "metadata": {
    "collapsed": true
   },
   "outputs": [],
   "source": [
    "documents = [re.sub('[_,.!:;#()0-9]', '', text) for text in documents]"
   ]
  },
  {
   "cell_type": "code",
   "execution_count": 220,
   "metadata": {
    "collapsed": false
   },
   "outputs": [],
   "source": [
    "document_words = [text.split() for text in documents]"
   ]
  },
  {
   "cell_type": "code",
   "execution_count": 205,
   "metadata": {
    "collapsed": true
   },
   "outputs": [],
   "source": [
    "total_words = []\n",
    "import itertools\n",
    "total_words = list(itertools.chain.from_iterable(document_words))"
   ]
  },
  {
   "cell_type": "code",
   "execution_count": 206,
   "metadata": {
    "collapsed": false
   },
   "outputs": [
    {
     "data": {
      "text/plain": [
       "1312598"
      ]
     },
     "execution_count": 206,
     "metadata": {},
     "output_type": "execute_result"
    }
   ],
   "source": [
    "#总共的单词频率\n",
    "len(total_words)"
   ]
  },
  {
   "cell_type": "code",
   "execution_count": 207,
   "metadata": {
    "collapsed": false
   },
   "outputs": [
    {
     "data": {
      "text/plain": [
       "49159"
      ]
     },
     "execution_count": 207,
     "metadata": {},
     "output_type": "execute_result"
    }
   ],
   "source": [
    "#统计每个单词的频率\n",
    "from collections import Counter\n",
    "word_freq_dict = Counter(total_words)\n",
    "len(word_freq_dict)"
   ]
  },
  {
   "cell_type": "markdown",
   "metadata": {},
   "source": [
    "我们可以看看“dog”这个单词的频率。"
   ]
  },
  {
   "cell_type": "code",
   "execution_count": 208,
   "metadata": {
    "collapsed": false
   },
   "outputs": [],
   "source": [
    "from matplotlib import pyplot\n",
    "%matplotlib inline\n",
    "words, freqs = list(word_freq_dict.keys()), list(word_freq_dict.values())"
   ]
  },
  {
   "cell_type": "code",
   "execution_count": 209,
   "metadata": {
    "collapsed": true
   },
   "outputs": [],
   "source": [
    "freq_word_pair = list(zip(freqs, words))"
   ]
  },
  {
   "cell_type": "code",
   "execution_count": 210,
   "metadata": {
    "collapsed": false
   },
   "outputs": [],
   "source": [
    "#按照词频从高到低排序\n",
    "freq_word_pair.sort(reverse=True)"
   ]
  },
  {
   "cell_type": "code",
   "execution_count": 211,
   "metadata": {
    "collapsed": false
   },
   "outputs": [
    {
     "data": {
      "text/plain": [
       "<Container object of 20 artists>"
      ]
     },
     "execution_count": 211,
     "metadata": {},
     "output_type": "execute_result"
    },
    {
     "data": {
      "image/png": "[encoded data removed]",
      "text/plain": [
       "<matplotlib.figure.Figure at 0x121d0ba29b0>"
      ]
     },
     "metadata": {},
     "output_type": "display_data"
    }
   ],
   "source": [
    "pyplot.figure(figsize=(10,8))\n",
    "top_20 = freq_word_pair[:20]\n",
    "freq20, words20 = list(zip(*top_20))\n",
    "pyplot.bar(left=range(20), tick_label=words20, height=freq20)"
   ]
  },
  {
   "cell_type": "code",
   "execution_count": 212,
   "metadata": {
    "collapsed": false
   },
   "outputs": [
    {
     "data": {
      "image/png": "[encoded data removed]",
      "text/plain": [
       "<matplotlib.figure.Figure at 0x121e33728d0>"
      ]
     },
     "metadata": {},
     "output_type": "display_data"
    }
   ],
   "source": [
    "document_len = [len(doc) for doc in documents]\n",
    "_ = pyplot.hist(document_len, bins=15)\n",
    "_ = pyplot.title('Document Lengths Distribution')"
   ]
  },
  {
   "cell_type": "markdown",
   "metadata": {},
   "source": [
    "分布图有些偏态。"
   ]
  },
  {
   "cell_type": "markdown",
   "metadata": {},
   "source": [
    "### 训练集和测试集划分\n",
    "\n"
   ]
  },
  {
   "cell_type": "code",
   "execution_count": 221,
   "metadata": {
    "collapsed": true
   },
   "outputs": [],
   "source": [
    "from sklearn.model_selection import train_test_split\n",
    "doc_train, doc_test, label_train, label_test = train_test_split(documents, labels, test_size=0.3, random_state=111)"
   ]
  },
  {
   "cell_type": "markdown",
   "metadata": {},
   "source": [
    "## 2.文本表达\n",
    "\n",
    "文本数据特点是字符多、长度不一致，提取特征比一般的数据复杂。文本表达大致有三个方向，具体可参考[CSDN博客](http://blog.csdn.net/wangongxi/article/details/51591031)：\n",
    "- 传统上的模型有词袋模型，也就是将文本看成单词的集合，不考虑单词的次序，比如\"I love this dog\"可以表达成[I, love, this, dog]，但是这样依然是文字符号，人能理解，计算机不能理解，所以需要转换成向量等形式以作为计算机的输入。\n",
    "- 90年代有学者提出了[主题模型](http://blog.csdn.net/huagong_adu/article/details/7937616)，也就是将文档看成是若干主题的组合，比如一篇文章既讨论政治又讨论经济，而主题又是单词的组合；\n",
    "![Topic Model](http://img.my.csdn.net/uploads/201209/03/1346651772_3109.PNG)\n",
    "- 近年来，随着深度学习的雄起，词嵌入（word embedding), 句子嵌入（sentence embedding）等概念和方法在文本处理中取得了突飞猛进。\n",
    "\n",
    "**本次主要讨论词袋模型**。词袋模型的表示有如下方法：\n",
    "1.将所有文本单词（或词组）进行统计，建立所有文档单词库和频率字典，每篇文档可以表示为单词库中单词0，1值所组成的向量，1表示该单词在文档中存在，0表示不存在。比如：\n",
    "\n",
    "\n",
    "s1 = 'I like dogs very very much.', s2 = 'He likes dogs too.' 单词库vocab=[I, like, he, likes, dogs, too, very, much]，那么\n",
    "s1可以表示成向量[1, 1, 0, 0, 1, 0]，如下表："
   ]
  },
  {
   "cell_type": "markdown",
   "metadata": {
    "collapsed": true
   },
   "source": [
    "\n",
    "| 句子 | I | like | he | likes | dogs | too| very | much\n",
    "| - | :-: |  -: |  -: | -: |-: |-: |-: |-: |\n",
    "| S1 | 1 | 1 | 0 | 0 | 1 | 0 | 1 | 1|\n",
    "|S2 | 0 | 0 | 1 | 1 | 1 | 1 | 0 | 0|"
   ]
  },
  {
   "cell_type": "markdown",
   "metadata": {},
   "source": [
    "除了0，1值之外，句子还可以使用单词频率值向量来表示。\n",
    "\n",
    "\n",
    "| 句子 | I | like | he | likes | dogs | too| very | much\n",
    "| - | :-: |  -: |  -: | -: |-: |-: |-: |-: |\n",
    "| S1 | 1 | 1 | 0 | 0 | 1 | 0 | 2| 1|\n",
    "|S2 | 0 | 0 | 1 | 1 | 1 | 1 | 0 | 0|"
   ]
  },
  {
   "cell_type": "markdown",
   "metadata": {},
   "source": [
    "词频向量中，出现频率比较高的单词影响比较大，比如在一篇文章中多次出现医学、医院等词组的话，该篇很容易被划分为医学类；但是还有一些词，比如冠词“the”、“a”还有动词“do”、“make”、“come”几乎在每篇文章中大量出现，可以说对分类没有意义，但是频率又非常高。为了解决这个问题，学者又提出了\n",
    "TfIdf(term frequency, inversed document frequency)模型来表达文本，既考虑单词在某篇文章中的词频(term frequency)，又考虑该单词出现在所有文档上的频率(document frequency, 也就是出现该单词的文档数量)。TfIdf值计算公式如下：\n",
    "$$tf = \\frac {单词在当前文档中频率}{该文档中所有单词频率和}$$\n",
    "$$idf = log(\\frac {文档总数量}{出现该单词的文档数量})$$\n",
    "\n",
    "$$tfidf = tf*idf$$\n",
    "比如100篇文档，单词“make”在第一篇文档中出现的频率为10，有50篇文档里面有该单词，那么该文档中单词“make”的词频为10，单词总频数为680， document frequency=50。\n",
    "$$tfid = 10/680 * log(100/50)=0.0102$$\n",
    "当然，上述公式定义不唯一，具体可参考[Wikipedia](https://en.wikipedia.org/wiki/Tf%E2%80%93idf)。\n",
    "\n",
    "无论是统计词频还是计算tfidf值，都可以利用Python来一步一步实现，但是sklearn工具包提供了TfIdfVectorizer工具，能够将长文本直接分词统计词频计算TfIdf值。"
   ]
  },
  {
   "cell_type": "markdown",
   "metadata": {},
   "source": [
    "## 词频计算"
   ]
  },
  {
   "cell_type": "code",
   "execution_count": 85,
   "metadata": {
    "collapsed": true
   },
   "outputs": [],
   "source": [
    "from sklearn.feature_extraction.text import CountVectorizer\n",
    "vectorizer = CountVectorizer(min_df=1)\n",
    "corpus = [\n",
    "     'This is the first document.',\n",
    "     'This is the second second document.',\n",
    "     'And the third one.',\n",
    "     'Is this the first document?',\n",
    " ]"
   ]
  },
  {
   "cell_type": "code",
   "execution_count": 86,
   "metadata": {
    "collapsed": true
   },
   "outputs": [],
   "source": [
    "X = vectorizer.fit_transform(corpus)"
   ]
  },
  {
   "cell_type": "code",
   "execution_count": 87,
   "metadata": {
    "collapsed": false
   },
   "outputs": [
    {
     "data": {
      "text/plain": [
       "array([[0, 1, 1, 1, 0, 0, 1, 0, 1],\n",
       "       [0, 1, 0, 1, 0, 2, 1, 0, 1],\n",
       "       [1, 0, 0, 0, 1, 0, 1, 1, 0],\n",
       "       [0, 1, 1, 1, 0, 0, 1, 0, 1]], dtype=int64)"
      ]
     },
     "execution_count": 87,
     "metadata": {},
     "output_type": "execute_result"
    }
   ],
   "source": [
    "X.toarray()"
   ]
  },
  {
   "cell_type": "code",
   "execution_count": 93,
   "metadata": {
    "collapsed": false
   },
   "outputs": [
    {
     "data": {
      "text/plain": [
       "['and', 'document', 'first', 'is', 'one', 'second', 'the', 'third', 'this']"
      ]
     },
     "execution_count": 93,
     "metadata": {},
     "output_type": "execute_result"
    }
   ],
   "source": [
    "vectorizer.get_feature_names()"
   ]
  },
  {
   "cell_type": "markdown",
   "metadata": {
    "collapsed": true
   },
   "source": [
    "### TfIdf特征提取\n",
    "利用sklearn工具包进行特征提取。"
   ]
  },
  {
   "cell_type": "code",
   "execution_count": 214,
   "metadata": {
    "collapsed": false
   },
   "outputs": [],
   "source": [
    "from sklearn.feature_extraction.text import TfidfVectorizer\n",
    "vectorizer = TfidfVectorizer(min_df=2)"
   ]
  },
  {
   "cell_type": "code",
   "execution_count": 222,
   "metadata": {
    "collapsed": false
   },
   "outputs": [
    {
     "data": {
      "text/plain": [
       "TfidfVectorizer(analyzer='word', binary=False, decode_error='strict',\n",
       "        dtype=<class 'numpy.int64'>, encoding='utf-8', input='content',\n",
       "        lowercase=True, max_df=1.0, max_features=None, min_df=2,\n",
       "        ngram_range=(1, 1), norm='l2', preprocessor=None, smooth_idf=True,\n",
       "        stop_words=None, strip_accents=None, sublinear_tf=False,\n",
       "        token_pattern='(?u)\\\\b\\\\w\\\\w+\\\\b', tokenizer=None, use_idf=True,\n",
       "        vocabulary=None)"
      ]
     },
     "execution_count": 222,
     "metadata": {},
     "output_type": "execute_result"
    }
   ],
   "source": [
    "vectorizer.fit(doc_train)"
   ]
  },
  {
   "cell_type": "code",
   "execution_count": 223,
   "metadata": {
    "collapsed": false
   },
   "outputs": [],
   "source": [
    "doc_train_vec = vectorizer.transform(doc_train)\n",
    "doc_test_vec = vectorizer.transform(doc_test)"
   ]
  },
  {
   "cell_type": "code",
   "execution_count": 224,
   "metadata": {
    "collapsed": false
   },
   "outputs": [
    {
     "name": "stdout",
     "output_type": "stream",
     "text": [
      "Training data Shape: (1400, 21092)\n",
      "Testing data Shape: (600, 21092)\n"
     ]
    }
   ],
   "source": [
    "print('Training data Shape:', doc_train_vec.shape)\n",
    "print('Testing data Shape:', doc_test_vec.shape)"
   ]
  },
  {
   "cell_type": "markdown",
   "metadata": {},
   "source": [
    "选取了21092个单词作为特征。"
   ]
  },
  {
   "cell_type": "code",
   "execution_count": 227,
   "metadata": {
    "collapsed": false
   },
   "outputs": [],
   "source": [
    "import pandas as pd\n",
    "data = pd.DataFrame(doc_train_vec.toarray())"
   ]
  },
  {
   "cell_type": "code",
   "execution_count": 231,
   "metadata": {
    "collapsed": false
   },
   "outputs": [
    {
     "data": {
      "text/html": [
       "<div>\n",
       "<style>\n",
       "    .dataframe thead tr:only-child th {\n",
       "        text-align: right;\n",
       "    }\n",
       "\n",
       "    .dataframe thead th {\n",
       "        text-align: left;\n",
       "    }\n",
       "\n",
       "    .dataframe tbody tr th {\n",
       "        vertical-align: top;\n",
       "    }\n",
       "</style>\n",
       "<table border=\"1\" class=\"dataframe\">\n",
       "  <thead>\n",
       "    <tr style=\"text-align: right;\">\n",
       "      <th></th>\n",
       "      <th>aaa</th>\n",
       "      <th>aaliyah</th>\n",
       "      <th>aardman</th>\n",
       "      <th>aaron</th>\n",
       "      <th>abandon</th>\n",
       "      <th>abandoned</th>\n",
       "      <th>abandoning</th>\n",
       "      <th>abandons</th>\n",
       "      <th>abby</th>\n",
       "      <th>abc</th>\n",
       "      <th>...</th>\n",
       "      <th>zoo</th>\n",
       "      <th>zoologist</th>\n",
       "      <th>zooming</th>\n",
       "      <th>zooms</th>\n",
       "      <th>zoot</th>\n",
       "      <th>zorg</th>\n",
       "      <th>zorro</th>\n",
       "      <th>zucker</th>\n",
       "      <th>zwick</th>\n",
       "      <th>zwigoff</th>\n",
       "    </tr>\n",
       "  </thead>\n",
       "  <tbody>\n",
       "    <tr>\n",
       "      <th>doc1</th>\n",
       "      <td>0.0</td>\n",
       "      <td>0.0</td>\n",
       "      <td>0.0</td>\n",
       "      <td>0.0</td>\n",
       "      <td>0.0</td>\n",
       "      <td>0.0</td>\n",
       "      <td>0.0</td>\n",
       "      <td>0.0</td>\n",
       "      <td>0.0</td>\n",
       "      <td>0.0</td>\n",
       "      <td>...</td>\n",
       "      <td>0.0</td>\n",
       "      <td>0.0</td>\n",
       "      <td>0.0</td>\n",
       "      <td>0.0</td>\n",
       "      <td>0.0</td>\n",
       "      <td>0.000000</td>\n",
       "      <td>0.0</td>\n",
       "      <td>0.0</td>\n",
       "      <td>0.0</td>\n",
       "      <td>0.0</td>\n",
       "    </tr>\n",
       "    <tr>\n",
       "      <th>doc2</th>\n",
       "      <td>0.0</td>\n",
       "      <td>0.0</td>\n",
       "      <td>0.0</td>\n",
       "      <td>0.0</td>\n",
       "      <td>0.0</td>\n",
       "      <td>0.0</td>\n",
       "      <td>0.0</td>\n",
       "      <td>0.0</td>\n",
       "      <td>0.0</td>\n",
       "      <td>0.0</td>\n",
       "      <td>...</td>\n",
       "      <td>0.0</td>\n",
       "      <td>0.0</td>\n",
       "      <td>0.0</td>\n",
       "      <td>0.0</td>\n",
       "      <td>0.0</td>\n",
       "      <td>0.000000</td>\n",
       "      <td>0.0</td>\n",
       "      <td>0.0</td>\n",
       "      <td>0.0</td>\n",
       "      <td>0.0</td>\n",
       "    </tr>\n",
       "    <tr>\n",
       "      <th>doc3</th>\n",
       "      <td>0.0</td>\n",
       "      <td>0.0</td>\n",
       "      <td>0.0</td>\n",
       "      <td>0.0</td>\n",
       "      <td>0.0</td>\n",
       "      <td>0.0</td>\n",
       "      <td>0.0</td>\n",
       "      <td>0.0</td>\n",
       "      <td>0.0</td>\n",
       "      <td>0.0</td>\n",
       "      <td>...</td>\n",
       "      <td>0.0</td>\n",
       "      <td>0.0</td>\n",
       "      <td>0.0</td>\n",
       "      <td>0.0</td>\n",
       "      <td>0.0</td>\n",
       "      <td>0.000000</td>\n",
       "      <td>0.0</td>\n",
       "      <td>0.0</td>\n",
       "      <td>0.0</td>\n",
       "      <td>0.0</td>\n",
       "    </tr>\n",
       "    <tr>\n",
       "      <th>doc4</th>\n",
       "      <td>0.0</td>\n",
       "      <td>0.0</td>\n",
       "      <td>0.0</td>\n",
       "      <td>0.0</td>\n",
       "      <td>0.0</td>\n",
       "      <td>0.0</td>\n",
       "      <td>0.0</td>\n",
       "      <td>0.0</td>\n",
       "      <td>0.0</td>\n",
       "      <td>0.0</td>\n",
       "      <td>...</td>\n",
       "      <td>0.0</td>\n",
       "      <td>0.0</td>\n",
       "      <td>0.0</td>\n",
       "      <td>0.0</td>\n",
       "      <td>0.0</td>\n",
       "      <td>0.047781</td>\n",
       "      <td>0.0</td>\n",
       "      <td>0.0</td>\n",
       "      <td>0.0</td>\n",
       "      <td>0.0</td>\n",
       "    </tr>\n",
       "    <tr>\n",
       "      <th>doc5</th>\n",
       "      <td>0.0</td>\n",
       "      <td>0.0</td>\n",
       "      <td>0.0</td>\n",
       "      <td>0.0</td>\n",
       "      <td>0.0</td>\n",
       "      <td>0.0</td>\n",
       "      <td>0.0</td>\n",
       "      <td>0.0</td>\n",
       "      <td>0.0</td>\n",
       "      <td>0.0</td>\n",
       "      <td>...</td>\n",
       "      <td>0.0</td>\n",
       "      <td>0.0</td>\n",
       "      <td>0.0</td>\n",
       "      <td>0.0</td>\n",
       "      <td>0.0</td>\n",
       "      <td>0.000000</td>\n",
       "      <td>0.0</td>\n",
       "      <td>0.0</td>\n",
       "      <td>0.0</td>\n",
       "      <td>0.0</td>\n",
       "    </tr>\n",
       "  </tbody>\n",
       "</table>\n",
       "<p>5 rows × 21092 columns</p>\n",
       "</div>"
      ],
      "text/plain": [
       "      aaa  aaliyah  aardman  aaron  abandon  abandoned  abandoning  abandons  \\\n",
       "doc1  0.0      0.0      0.0    0.0      0.0        0.0         0.0       0.0   \n",
       "doc2  0.0      0.0      0.0    0.0      0.0        0.0         0.0       0.0   \n",
       "doc3  0.0      0.0      0.0    0.0      0.0        0.0         0.0       0.0   \n",
       "doc4  0.0      0.0      0.0    0.0      0.0        0.0         0.0       0.0   \n",
       "doc5  0.0      0.0      0.0    0.0      0.0        0.0         0.0       0.0   \n",
       "\n",
       "      abby  abc   ...     zoo  zoologist  zooming  zooms  zoot      zorg  \\\n",
       "doc1   0.0  0.0   ...     0.0        0.0      0.0    0.0   0.0  0.000000   \n",
       "doc2   0.0  0.0   ...     0.0        0.0      0.0    0.0   0.0  0.000000   \n",
       "doc3   0.0  0.0   ...     0.0        0.0      0.0    0.0   0.0  0.000000   \n",
       "doc4   0.0  0.0   ...     0.0        0.0      0.0    0.0   0.0  0.047781   \n",
       "doc5   0.0  0.0   ...     0.0        0.0      0.0    0.0   0.0  0.000000   \n",
       "\n",
       "      zorro  zucker  zwick  zwigoff  \n",
       "doc1    0.0     0.0    0.0      0.0  \n",
       "doc2    0.0     0.0    0.0      0.0  \n",
       "doc3    0.0     0.0    0.0      0.0  \n",
       "doc4    0.0     0.0    0.0      0.0  \n",
       "doc5    0.0     0.0    0.0      0.0  \n",
       "\n",
       "[5 rows x 21092 columns]"
      ]
     },
     "execution_count": 231,
     "metadata": {},
     "output_type": "execute_result"
    }
   ],
   "source": [
    "data.columns = vectorizer.get_feature_names()\n",
    "data.index = ['doc'+str(i+1) for i in range(len(data))]\n",
    "data.head()"
   ]
  },
  {
   "cell_type": "markdown",
   "metadata": {},
   "source": [
    "## 3.分类\n",
    "\n",
    "我们首先使用经典的朴素贝叶斯方法进行分类，假设单词的条件概率都是独立的，计算每个类别单词出现的条件概率，每个文本的条件概率就是每个单词的条件概率之积。"
   ]
  },
  {
   "cell_type": "code",
   "execution_count": 190,
   "metadata": {
    "collapsed": true
   },
   "outputs": [],
   "source": [
    "import time\n",
    "from sklearn.metrics import f1_score\n",
    "from sklearn.naive_bayes import MultinomialNB"
   ]
  },
  {
   "cell_type": "code",
   "execution_count": 191,
   "metadata": {
    "collapsed": true
   },
   "outputs": [],
   "source": [
    "start = time.time()\n",
    "clf_nb = MultinomialNB().fit(doc_train_vec, label_train)"
   ]
  },
  {
   "cell_type": "code",
   "execution_count": 192,
   "metadata": {
    "collapsed": false
   },
   "outputs": [
    {
     "name": "stdout",
     "output_type": "stream",
     "text": [
      "Micro F1: 0.823\n"
     ]
    }
   ],
   "source": [
    "#Test the model\n",
    "predicted = clf_nb.predict(doc_test_vec)\n",
    "#Micro F1\n",
    "print('Micro F1: {:.3f}'.format(f1_score(label_test, predicted, average='micro')))"
   ]
  },
  {
   "cell_type": "code",
   "execution_count": 232,
   "metadata": {
    "collapsed": true
   },
   "outputs": [],
   "source": [
    "from sklearn.metrics import confusion_matrix\n",
    "confusionMatrix = confusion_matrix(label_test, predicted)"
   ]
  },
  {
   "cell_type": "code",
   "execution_count": 233,
   "metadata": {
    "collapsed": false
   },
   "outputs": [
    {
     "data": {
      "text/plain": [
       "array([[270,  38],\n",
       "       [ 68, 224]], dtype=int64)"
      ]
     },
     "execution_count": 233,
     "metadata": {},
     "output_type": "execute_result"
    }
   ],
   "source": [
    "confusionMatrix"
   ]
  },
  {
   "cell_type": "code",
   "execution_count": null,
   "metadata": {
    "collapsed": true
   },
   "outputs": [],
   "source": []
  }
 ],
 "metadata": {
  "hide_input": false,
  "kernelspec": {
   "display_name": "Python [default]",
   "language": "python",
   "name": "python3"
  },
  "language_info": {
   "codemirror_mode": {
    "name": "ipython",
    "version": 3
   },
   "file_extension": ".py",
   "mimetype": "text/x-python",
   "name": "python",
   "nbconvert_exporter": "python",
   "pygments_lexer": "ipython3",
   "version": "3.5.2"
  }
 },
 "nbformat": 4,
 "nbformat_minor": 2
}
