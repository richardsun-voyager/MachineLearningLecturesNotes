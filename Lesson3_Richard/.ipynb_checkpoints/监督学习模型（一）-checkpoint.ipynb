{
 "cells": [
  {
   "cell_type": "markdown",
   "metadata": {},
   "source": [
    "机器学习主要分为监督学习、非监督学习两大块（还有强化学习），简单讲，其中输入数据有标签的称之为监督学习（supervised learning），我们可以对数据进行训练、测试；没有标签的称之为非监督学习（unsupervised learning）。常见的监督学习有分类、回归，分类的模型有逻辑回归、朴素贝叶斯、决策树、支持矢量机等，回归模型有线性回归、多项式回归、决策树回归等。下面结合自己的学习经历，谈谈对几种监督学习模型的认识，在优达视频资料基础上主要参考李航博士《统计机器学习》。"
   ]
  },
  {
   "cell_type": "code",
   "execution_count": 2,
   "metadata": {
    "collapsed": true
   },
   "outputs": [],
   "source": [
    "import numpy as np\n",
    "import matplotlib.pyplot as plt\n",
    "%matplotlib inline"
   ]
  },
  {
   "cell_type": "markdown",
   "metadata": {},
   "source": [
    "## 一、感知器模型（perceptron）\n",
    "\n",
    "首先看一个比较熟悉的平面二维图，横坐标为x1，纵坐标为x2，上面有若干个点，通过红蓝两种颜色区分为两个类型。假设现在有条直线$3x_2 - 2x_1 - 6 = 0$在这两类点中间，直线上方红色的点$(x_1=3， x_2=5.9)$，代入到直线公式中$3*5.9 - 2*3 - 6 = 5.7>0$，而直线下方蓝色的点$(x_1=5， x_2=4.1)$， 代入到公式中$3*4.1 - 2*5 - 6 = -3.7<0$。实际上直线两侧的点，代入直线解析式中，它们的计算结果符号相反。这样我们可以利用这条直线进行分类，在直线上方的点分为正类、下方的点分为负类，实际上这就是简单的感知器。"
   ]
  },
  {
   "cell_type": "code",
   "execution_count": 44,
   "metadata": {
    "collapsed": false
   },
   "outputs": [
    {
     "data": {
      "text/plain": [
       "<matplotlib.text.Text at 0x10fb97358>"
      ]
     },
     "execution_count": 44,
     "metadata": {},
     "output_type": "execute_result"
    },
    {
     "data": {
      "image/png": "[encoded data removed]",
      "text/plain": [
       "<matplotlib.figure.Figure at 0x10f899518>"
      ]
     },
     "metadata": {},
     "output_type": "display_data"
    }
   ],
   "source": [
    "from matplotlib.lines import Line2D\n",
    "#散点坐标\n",
    "x1 = [3.0, 3, 3.5, 4, 5, 3.1, 3.4, 4, 4.5, 5]\n",
    "x2 = [5.9, 7, 9, 7, 8, 1.0, 1, 1.4, 3.2, 4.1]\n",
    "color = ['r'] * 5 + ['b'] * 5\n",
    "plt.scatter(x1, x2, c=color)\n",
    "plt.xlim([0, 6])\n",
    "plt.ylim([0, 10])\n",
    "#绘制直线\n",
    "plt.xlabel('x1')\n",
    "plt.ylabel('x2')\n",
    "plt.plot([0, 6], [2, 6], linewidth=1, color='blue')\n",
    "#加标注\n",
    "plt.text(2, 4, '$3x_2-2x_1-6=0$')\n",
    "plt.text(2.3, 6, '(3, 5.9)')\n",
    "plt.text(5, 4, '(5, 4.1)')"
   ]
  },
  {
   "cell_type": "markdown",
   "metadata": {},
   "source": [
    "### 1、感知器定义\n",
    "学术上所谓感知器，就是二类分类的线性分类模型，其输入为样本的特征向量(如上图，每个样本有两个特征x1，x2)，输出为样本的类别，取+1和-1二值，即通过某样本的特征，就可以准确判断该样本属于哪一类（[引用自CSDN博客](http://blog.csdn.net/mutex86/article/details/9159111)）。\n",
    "\n",
    "用公式表达，由输入空间到输出空间的函数：\n",
    "\n",
    "$f(x) = sign(wx + b)$，其中sign(x)是符号函数\n",
    "$$\n",
    "sign(x) = \n",
    "\\begin{cases}\n",
    "  1 \\ if \\ x>0 \\\\\n",
    "  -1 \\ if \\ x<0\n",
    "\\end{cases}\n",
    "$$\n",
    "f(x)称为感知机，w和b为感知机参数，w为权值（weight），b为偏置（bias），sign为符号函数。\n",
    "\n",
    "假设输入数据n个特征属性，$f(x) = sign(wx + b) = sign(\\sum_{i=1}^n{w_ix_i} + b)$。\n",
    "\n",
    "在上面二维属性基础上，感知器可以引申到多维空间，几何意义上讲，感知器学习目的是在多维空间寻找一个分离超平面S，对应的线性方程为$wx+b=0$，超平面将样本正确划分为正负两类。\n",
    "\n",
    "\n",
    "![perceptron](pic/perceptron.png)"
   ]
  },
  {
   "cell_type": "markdown",
   "metadata": {
    "collapsed": true
   },
   "source": [
    "感知机是早期机器学习模型，也是后面神经网络、支持矢量机等模型基础。\n",
    "\n",
    "### 2、感知器学习策略\n",
    "\n",
    "#### 2.1损失函数\n",
    "\n",
    "给定的二类可分样本空间，怎么样求解分类超平面S，具体来讲怎样确定参数w和b？需要确定一个策略，即定义损失函数并将之最小化。损失函数的一个自然选择就是误分类点个数，但是这样的损失函数不是w、b的连续可导函数，难以优化。另一种途径就是将损失函数定义为所有误分点离超平面S距离之和。先回顾下$R^n$空间中任何一点$x_0$到超平面S（表达式为$wx+b=0$）的距离为：\n",
    "$$\\frac{|wx_0+b|}{\\|w\\|}$$\n",
    "\n",
    "其中$\\|w\\|$是w的L2范数，也就是权重平方和的平方根。对于误分类数据$(x_i, y_i)来说，\n",
    "$$y_i(wx_i+b)<0$，所以其绝对值在前面加个负号，误分类点到超平面的距离为：\n",
    "$$\\frac{-y_i(wx_i+b)}{\\|w\\|}$$\n",
    "\n",
    "所有误分类点到超平面S的距离和则为：\n",
    "$$\\frac{-\\sum_{x_i\\in M}{y_i(wx_i+b)}}{\\|w\\|}$$\n",
    "\n",
    "对于特定的超平面，$\\|w\\|$为常数，不考虑它，感知器学习的损失函数为：\n",
    "$$L(w, b) = - \\sum_{x_i\\in M}{y_i(wx_i+b)}$$\n",
    "\n",
    "#### 2.2梯度\n",
    "\n",
    "给定一个训练数据集，学习就要求参数w、b，使得损失函数最小：\n",
    "$$min  \\ L(w, b) = - \\sum_{x_i \\in M}{y_i(wx_i+b)}$$\n",
    "\n",
    "那么 导数：\n",
    "$$\\Delta_w L(w, b) = - \\sum_{x_i \\in M}{y_ix_i} $$\n",
    "$$\\Delta_b L(w, b) = - \\sum_{x_i \\in. M}{y_i}$$\n",
    "\n",
    "#### 2.3训练过程\n",
    "\n",
    "- 选取初值 $w_0, b_0$\n",
    "- 随机选取一个误分类点$(x_i, y_i)$\n",
    "- 对w、b进行更新：\n",
    "    $$w \\leftarrow w + \\eta y_ix_i$$\n",
    "    $$b \\leftarrow b + \\eta y_i$$\n",
    "    其中$\\eta$是步长（学习率），大于0。\n",
    "这样通过迭代可以期待损失函数不断减小，直到为0。\n",
    "\n",
    "可以证明，对于线性可分数据集算法是收敛的，具体参见《统计学习方法》P61。"
   ]
  },
  {
   "cell_type": "markdown",
   "metadata": {},
   "source": [
    "迭代过程中，$w^{*} = w + \\eta y_ix_i$，$b^{*} = b + \\eta y_i$，代入到损失函数中，$L(w^{*}, b^{*}) = - \\sum_{x_i\\in M}{y_i(wx_i + \\eta y_ix_i^2 + b + \\eta y_i)} = - \\sum_{x_i\\in M}{y_i(wx_i + b)} - \\eta \\sum_{x_i\\in M}{(x_i^2y_i^2 + y_i^2)} \\leq - \\sum_{x_i\\in M}{y_i(wx_i + b)} = L(w,b)$\n",
    "\n",
    "也就是说，在训练过程中，损失函数L是单调递减的。"
   ]
  },
  {
   "cell_type": "markdown",
   "metadata": {},
   "source": [
    "## 二、支持矢量机模型\n",
    "\n",
    "![svm](pic/svm.jpeg)"
   ]
  },
  {
   "cell_type": "markdown",
   "metadata": {},
   "source": [
    "感知机的目的在于找到一个线性分类器，也就是一个超平面，能够将正负样本完全正确分开。如上图所示，这样的超平面有无穷个，支持矢量机的目的是求解能够正确划分训练数据集并且几何间隔最大的分离超平面，这样的分离超平面是唯一的。从图上可以看出，几何间隔最大的超平面意味着以充分大的确信度对训练数据进行分类，也就是说离最近的正负样本点都足够远，对未知的新实例有很好的分类预测能力，泛化性也很好。\n",
    "\n",
    "关于支持矢量机，CSDN上有一篇详细的博客可供参考，http://blog.csdn.net/v_july_v/article/details/7624837。\n",
    "\n",
    "### 1、几何间隔\n",
    "样本空间中每个点$(x_i, y_i)$离超平面距离为：\n",
    "$$\\gamma_i = y_i(wx_i + b)/\\|w\\|$$\n",
    "\n",
    "函数间隔：\n",
    "$$\\hat \\gamma_i = y_i(wx_i + b)$$\n",
    "\n",
    "定义样本空间上各点距离最小值为$\\gamma = min \\gamma_i$，那么$\\gamma_i>=\\gamma$，这个最小值$\\gamma$称为样本数据与超平面的几何间隔,，也就是离超平面最近点的距离称之为整个样本点的几何间隔。这些边缘的点对几何间隔影响比较大，它们来决定边界，所以称之为支持矢量。\n",
    "![supporting vector](pic/supportingvector.jpeg)\n",
    "\n",
    "### 2、最大间隔分离超平面模型\n",
    "现在我们要求解的模型能够使上述几何间隔$\\gamma$最大，这是一个带约束的最优化问题，具体可以用带约束条件的优化模型表述为：\n",
    "$$max_{w, b}   \\    \\gamma$$\n",
    "\n",
    "$$subject \\ to:  \\gamma_i \\geq \\gamma, i=1,2,...,N$$\n",
    "\n",
    "约束条件可以写成：$$s.t. \\ \\frac {y_i(wx_i+b)}{\\|w\\|} >= \\gamma$$\n",
    "\n",
    "优化模型可以改写成：\n",
    "$$max_{w, b} \\ \\gamma$$\n",
    "\n",
    "$$s.t. \\ y_i(wx_i + b) \\geq \\|w\\|\\gamma$$\n",
    "\n",
    "用函数间隔代替:\n",
    "$$max_{w, b} \\ \\frac {\\hat \\gamma}{\\|w\\|}$$\n",
    "\n",
    "$$s.t. \\ y_i(wx_i + b) \\geq \\hat \\gamma, \\ i=1,2...,N$$\n",
    "\n",
    "参数w, b按比例改变时不影响最优化问题的解，我们可以取$\\gamma = 1$（或者令$w^{*} = w/\\hat \\gamma, b^{*} = b/\\hat \\gamma$），注意到最大化$\\frac {1}{\\|w\\|}$和最小化$\\frac {\\|w\\|^2}{2}$是等价的。 所以最优化问题可以写成：\n",
    "\n",
    "$$min \\ \\frac {1}{2}\\|w\\|^2$$\n",
    "\n",
    "$$ s.t. \\ y_i(wx_i + b) - 1 \\geq 0, \\ i=1,2...,N$$"
   ]
  },
  {
   "cell_type": "markdown",
   "metadata": {},
   "source": [
    "### 3、学习的对偶算法"
   ]
  },
  {
   "cell_type": "markdown",
   "metadata": {},
   "source": [
    "这是一个凸二次规划问题，因为有约束条件不能直接利用目标函数梯度下降来求解，但是对于凸优化问题有相关的方法进行求解。约束最优化问题模型描述如下：\n",
    "\n",
    "$$ min_w \\ f(w)$$\n",
    "\n",
    "$$ s.t. \\ g_i(w) \\leq 0, i=1,2,...k$$\n",
    "\n",
    "$$      h_i(w) = 0, i=1,2,...,l$$"
   ]
  },
  {
   "cell_type": "markdown",
   "metadata": {},
   "source": [
    "这类优化问题，可以使用拉格朗日对偶性将原来问题转化成对偶问题，通过解对偶问题2⃣️得到原始问题的解。这样做的优点，一是对偶问题往往更容易求解；二是自然引入核函数，进而推广到非线性分类问题。上述规划模型的拉格朗日函数为：\n",
    "$$L(w, \\alpha, \\beta) = f(w) + \\sum_{i=1}^{k}\\alpha_ic_i(x) + \\sum_{j=1}^{l}\\beta_jh_j(x)$$\n",
    "\n",
    "其中$\\alpha_i， \\beta_j$都是拉格朗日乘子，$\\alpha_i>=0$。"
   ]
  },
  {
   "cell_type": "markdown",
   "metadata": {},
   "source": [
    "首先构建拉格朗日函数，对每一个不等式引进拉格朗日乘子$\\alpha_i>=0，i=1,2,...N$，最大间隔超平面模型可以写成朗格朗日函数：\n",
    "$$L(w, b, \\alpha) = \\frac{\\|w\\|^2}{2} - \\sum_{i=1}^{N}\\alpha_i(y_i(wx_i + b) - 1)$$\n",
    "\n",
    "原始问题的对偶问题是极大极小问题：\n",
    "$$max_{\\alpha}min_{w, b} \\ L(w, b, \\alpha)$$\n",
    "\n",
    "下面我们尝试求解对偶问题的解。"
   ]
  },
  {
   "cell_type": "markdown",
   "metadata": {},
   "source": [
    "（1）求$min_{w, b}\\ L(w, b, \\alpha)$\n",
    "\n",
    "对拉格朗日函数分别对w， b求导数并令其为0。\n",
    "$$\\Delta_wL(w, b, \\alpha) = w - \\sum_{i=1}^{N}\\alpha_iy_ix_i = 0$$\n",
    "$$ \\Delta_bL(w, b, \\alpha) = \\sum_{i=1}^{N}\\alpha_iy_i = 0$$\n",
    "\n",
    "得到：\n",
    "$$w = \\sum_{i=1}^{N}\\alpha_iy_ix_i$$\n",
    "$$\\sum_{i=1}^{N}\\alpha_iy_i = 0$$\n",
    "\n",
    "将结果代入到拉格朗日函数中，得到：\n",
    "$$L(w, b, \\alpha) = -\\sum_{i=1}^{N} \\sum_{j=1}^{N} \\alpha_i\\alpha_jy_iy_j(x_i  x_j)/2 + \\sum_{i=1}^{N}\\alpha_i$$"
   ]
  },
  {
   "cell_type": "markdown",
   "metadata": {},
   "source": [
    "(2)求$min_{w, b} \\ L(w, b, \\alpha)对\\alpha$的极大，即是对偶问题：\n",
    "$$ max_\\alpha \\ -\\sum_{i=1}^{N} \\sum_{j=1}^{N} \\alpha_i\\alpha_jy_iy_j(x_i \\cdot x_j)/2 + \\sum_{i=1}^{N}\\alpha_i$$\n",
    "$$ s.t. \\ \\sum_{i=1}^{N}\\alpha_iy_i = 0$$\n",
    "\n",
    "$$ \\alpha_i \\geq 0, i=1,2,...,N$$"
   ]
  },
  {
   "cell_type": "markdown",
   "metadata": {},
   "source": [
    "现在规划问题转化成求解$\\alpha$从而达到求解w，b。目标函数中$x_ix_j$就是内积，方便进行非线性变换。假设向量$\\alpha = (\\alpha_1,\\alpha_l)^T$是上面对偶问题的解，且第j个元素$\\alpha_j>0$最后的w，b解为：\n",
    "\n",
    "$$w = \\sum_{i=1}^{N}\\alpha_iy_ix_i$$\n",
    "\n",
    "$$b = y_j - \\sum_{i=1}^{N}\\alpha_iy_i(x_i \\cdot x_j)$$\n",
    "\n",
    "分类决策函数可以写成：\n",
    "\n",
    "$$f(x) = sign(\\sum_{i=1}^{N}\\alpha_iy_i(x \\cdot x_i) + b)$$\n",
    "\n",
    "这种规划模型可以用SMO（sequential minimal optimization）算法。"
   ]
  },
  {
   "cell_type": "markdown",
   "metadata": {},
   "source": [
    "### 4、数据集非线性可分的处理\n",
    "\n",
    "以上的模型都是基于训练集线性可分，实际上支持矢量机还可以处理线性不可分的情况。我们可以将那些不可分的点看作是特异点（outlier），将这些点除去后剩下的样本点就是线性可分。\n",
    "![outlier](pic/outlier.png)"
   ]
  },
  {
   "cell_type": "markdown",
   "metadata": {},
   "source": [
    "在模型上，为了解决这个问题，我们可以对每个样本点$(x_i, y_i)$ 引入松弛变量$\\epsilon_i>=0$，使函数间隔加上松弛变量大于等于1。经过计算后，当该点被正确分类且在支持矢量内侧时，$\\epsilon_i = 0$；当该点被正确分类但是处在间隔边界和分离超平面之间时，$\\epsilon_i$在0，1之间；当$\\epsilon_i>1$时，意味着该点被错分。引入松弛变量后的最优化模型表达如下："
   ]
  },
  {
   "cell_type": "markdown",
   "metadata": {
    "collapsed": true
   },
   "source": [
    "$$ min_{w, b, \\epsilon} \\ \\frac{\\|w\\|^2}{2} + C\\sum_{i=1}^{N}\\epsilon_i $$\n",
    "\n",
    "$$ s.t. y_i(wx_i + b) \\geq 1 - \\epsilon_i, i=1,2...,N$$\n",
    "\n",
    "$$ \\epsilon_i \\geq 0, i=1,2,...,N$$"
   ]
  },
  {
   "cell_type": "markdown",
   "metadata": {},
   "source": [
    "上述模型也是二次凸优化模型，C是松弛变量的惩罚因子。类似地也可以使用拉格朗日变换，使用对偶算法进行求解，不过求解变量中多了$\\epsilon$。\n",
    "$$拉格朗日函数：L(w, b, \\epsilon, \\alpha, \\mu) = \\frac{\\|w\\|^2}{2} + C\\sum_{i=1}^{N}\\epsilon_i - \\sum_{i=1}^{N}\\alpha_i(y_i(wx_i+b)-1+\\epsilon_i) - \\sum_{i=1}^{N}\\mu_i\\epsilon_i$$\n",
    "\n",
    "对偶问题：\n",
    "$$max_\\alpha \\ -\\sum_{i=1}^{N}\\sum_{j=1}^{N}\\alpha_i\\alpha_jy_iy_j(x_i \\cdot x_j)/2 + \\sum_{i=1}^{N}\\alpha_i$$\n",
    "\n",
    "$$ s.t. \\ \\sum_{i=1}^{N}\\alpha_iy_i = 0$$\n",
    "\n",
    "$$ 0 \\leq \\alpha_i\\leq C, i=1,2,...,N$$\n"
   ]
  },
  {
   "cell_type": "markdown",
   "metadata": {},
   "source": [
    "$x_i，x_j$分别是第i，j个样本特征属性向量，它们的内积为$x_i^Tx_j$。"
   ]
  },
  {
   "cell_type": "markdown",
   "metadata": {},
   "source": [
    "### 5、核技巧\n",
    "\n",
    "有时候分类问题是非线性的，无法直接用线性模型将正负实例分开，但是如果能用$R^n$中的一个超曲面将正负类正确分开，则称这个问题为非线性可分问题，如下图左边的例子，可以用椭圆曲线将正负点正确分开：\n",
    "![curve](pic/curves.png)\n",
    "\n",
    "非线性问题往往不好求解，所以希望能用线性分类问题的方法解决。所采取的方法是进行非线性变换，将非线性问题转化成线性问题，然后用上面的线性模型进行求解。假设上面左图中的样本属性空间为x，有两个特征属性$x1，x2$，空间中的椭圆曲线为：\n",
    "$$w1(x1)^2 + w2(x2)^2 + b = 0$$"
   ]
  },
  {
   "cell_type": "markdown",
   "metadata": {},
   "source": [
    "现在假设新的样本空间为z，特征属性为$z_1, z_2$，原空间到新空间的变换为：\n",
    "\n",
    "$$ z = \\phi(x) = ((x1)^2, (x2)^2) $$\n",
    "\n",
    "$$ z1 = (x1)^2, \\ z2 = (x2)^2 $$\n",
    "\n",
    "原来的椭圆曲线可以变成新的空间里面的直线：\n",
    "\n",
    "$$ w1z1 + w2z2 + b = 0$$\n",
    "或者写成：\n",
    "$$ wz + b =0$$\n",
    "\n",
    "分类决策函数式称为：\n",
    "\n",
    "$$f(x) = sign(\\sum_{i=1}^{N}\\alpha_iy_i\\phi(x_i) \\cdot \\phi(x) + b) = sign(\\sum_{i=1}^{N}\\alpha_iy_iK(x_i, x) + b)$$\n",
    "\n",
    "上面的椭圆转换后的分类器为：\n",
    "\n",
    "$$f(x) = sign(\\sum_{i=1}^{N}\\alpha_iy_i(z_i \\cdot z) + b) $$\n",
    "\n",
    "常用的核函数：\n",
    "\n",
    "（1）多项式核函数\n",
    "$$ K(x, z) = (x \\cdot z + 1)^p$$\n",
    "\n",
    "（2）高斯核函数\n",
    "$$ K(x, z) = exp(- \\frac {\\|x - z\\|^2}{2\\sigma^2})$$\n"
   ]
  },
  {
   "cell_type": "markdown",
   "metadata": {},
   "source": [
    "### 5、示例\n",
    "\n",
    "下面是Sklearn官方文档上的一个示例，具体参见[SVM练习](http://scikit-learn.org/stable/auto_examples/exercises/plot_iris_exercise.html#sphx-glr-auto-examples-exercises-plot-iris-exercise-py)。"
   ]
  },
  {
   "cell_type": "code",
   "execution_count": 22,
   "metadata": {
    "collapsed": false
   },
   "outputs": [
    {
     "name": "stdout",
     "output_type": "stream",
     "text": [
      "Accuracy: 0.633333333333\n",
      "Accuracy: 0.6\n",
      "Accuracy: 0.633333333333\n"
     ]
    },
    {
     "data": {
      "image/png": "[encoded data removed]",
      "text/plain": [
       "<matplotlib.figure.Figure at 0x11e3f8828>"
      ]
     },
     "metadata": {},
     "output_type": "display_data"
    },
    {
     "data": {
      "image/png": "[encoded data removed]",
      "text/plain": [
       "<matplotlib.figure.Figure at 0x11e3eb780>"
      ]
     },
     "metadata": {},
     "output_type": "display_data"
    },
    {
     "data": {
      "image/png": "[encoded data removed]",
      "text/plain": [
       "<matplotlib.figure.Figure at 0x11cfa1748>"
      ]
     },
     "metadata": {},
     "output_type": "display_data"
    }
   ],
   "source": [
    "from sklearn import datasets, svm\n",
    "from sklearn.model_selection import train_test_split\n",
    "\n",
    "#加载鸢尾花数据\n",
    "iris = datasets.load_iris()\n",
    "X = iris.data\n",
    "y = iris.target\n",
    "\n",
    "#选择两类数据\n",
    "#只选取前面两个特征，方便平面显示\n",
    "X = X[y != 0, :2]\n",
    "y = y[y != 0]\n",
    "\n",
    "\n",
    "#划分为训练集和测试集\n",
    "X_train, X_test, y_train, y_test = train_test_split(\n",
    "    X, y, test_size=0.3, random_state=0)\n",
    "\n",
    "# 用三种核进行分类\n",
    "for fig_num, kernel in enumerate(('linear', 'rbf', 'poly')):\n",
    "    clf = svm.SVC(kernel=kernel, gamma=10)\n",
    "    clf.fit(X_train, y_train)\n",
    "    \n",
    "    print('Accuracy:', np.mean(clf.predict(X_test) == y_test))\n",
    "\n",
    "    plt.figure(fig_num)\n",
    "    plt.clf()\n",
    "    plt.scatter(X[:, 0], X[:, 1], c=y, zorder=10, cmap=plt.cm.Paired)\n",
    "\n",
    "    # 圈出测试数据\n",
    "    plt.scatter(X_test[:, 0], X_test[:, 1], s=80, facecolors='none', zorder=10)\n",
    "\n",
    "    plt.axis('tight')\n",
    "    #坐标范围\n",
    "    x_min = X[:, 0].min()\n",
    "    x_max = X[:, 0].max()\n",
    "    y_min = X[:, 1].min()\n",
    "    y_max = X[:, 1].max()\n",
    "\n",
    "    XX, YY = np.mgrid[x_min:x_max:200j, y_min:y_max:200j]\n",
    "    #到超平面的距离\n",
    "    Z = clf.decision_function(np.c_[XX.ravel(), YY.ravel()])\n",
    "\n",
    "    # 画图\n",
    "    Z = Z.reshape(XX.shape)\n",
    "    plt.pcolormesh(XX, YY, Z > 0, cmap=plt.cm.Paired)\n",
    "    #等高线\n",
    "    plt.contour(XX, YY, Z, colors=['k', 'k', 'k'], linestyles=['--', '-', '-.'],\n",
    "                levels=[-.5, 0, .5])\n",
    "\n",
    "    plt.title(kernel)\n",
    "#plt.show()"
   ]
  },
  {
   "cell_type": "markdown",
   "metadata": {
    "collapsed": true
   },
   "source": [
    "## 三、人工神经网络\n",
    "\n",
    "人工神经网络（Artificial Neural Network，即ANN ），是20世纪80 年代以来人工智能领域兴起的研究热点。它从信息处理角度对人脑神经元网络进行抽象， 建立某种简单模型，按不同的连接方式组成不同的网络。在工程与学术界也常直接简称为神经网络或类神经网络[百度百科](http://baike.baidu.com/link?url=sbJ_N2TxWLLIeoc8q9X2Xdy1m9DqWuLtpT1lJUHpTyichhtOvci2qjLnIIDJjcMSUd2SkCtMm2C2_yZchQzKOwXoGap-htAJnjHUb_NjJduntKH4W6AyNYEdhQDC7iAmXCpo9PxL_6y8AxV7YlSZ-_)。神经网络是后面课程中深度学习的基础。"
   ]
  },
  {
   "cell_type": "markdown",
   "metadata": {},
   "source": [
    "在上面我们谈到过感知器模型，x1、x2...xn是输入样本的特征属性值，激活函数我们使用的是符号函数sign，输出为+1、-1：\n",
    "\n",
    "$$ y = \\phi(wx+b) = sign(wx+b)$$\n",
    "![perceptron2](pic/perceptron.png)"
   ]
  },
  {
   "cell_type": "markdown",
   "metadata": {},
   "source": [
    "### 1、sigmoid神经元\n",
    "如果把上图中的激活函数从符号函数换成sigmoid函数，那么就可以得到一个sigmoid人工神经元：\n",
    "\n",
    "$$y = sigmoid(x) = \\frac {1}{1+e^{-x}}$$\n",
    "\n",
    "给定权重核偏置值，对于样本$x=(x_1, x_2, ..., x_N)$的输出值为：\n",
    "\n",
    "$$sigmoid(wx+b) = \\frac {1}{1+e^{-wx-b}}= \\frac {1}{1+e^{-\\sum_{i=1}^{N}(w_ix_i+b)}}$$\n",
    "\n",
    "![sigmoid](pic/sigmoid.png)\n",
    "\n",
    "sigmoid函数输出值在0，1之间，这种特性已经用在逻辑回归中用于分类，另外它还有个特性：\n",
    "\n",
    "$$ \\frac{dy}{dx} = \\frac {e^{-x}}{(1+e^{-x})^2} = y(1-y)$$\n",
    "\n",
    "也就是说sigmod函数的导数求解计算比较方便。"
   ]
  },
  {
   "cell_type": "markdown",
   "metadata": {},
   "source": [
    "### 2、神经网络\n",
    "\n",
    "所谓神经网络就是将许多个单一“神经元”联结在一起，这样，一个“神经元”的输出就可以是另一个“神经元”的输入。例如，下图就是一个简单的神经网络([斯坦福大学神经网络](http://ufldl.stanford.edu/wiki/index.php/%E7%A5%9E%E7%BB%8F%E7%BD%91%E7%BB%9C))：\n",
    "\n",
    "![neuralnetworks](pic/neuralnetwork3.png)\n",
    "\n",
    "我们使用圆圈来表示神经网络的输入，标上“+1”的圆圈被称为偏置节点，也就是截距项。神经网络最左边的一层叫做输入层，有x1,x2,x3三个特征属性，最右的一层叫做输出层（本例中，输出层只有一个节点）。中间所有节点组成的一层叫做隐藏层，因为我们不能在训练样本集中观测到它们的值，中间层有3个神经元节点。\n"
   ]
  },
  {
   "cell_type": "markdown",
   "metadata": {},
   "source": [
    "#### 前向传播\n",
    "\n",
    "在上图神经网络中，每层的节点与下一层节点完全相连接，可以称之为全连接网络。层与层之间神经元连接都有权重W，比如中间层节第1个点与输入层x1节点的权重为$W_{11}^{(1)}$，与输入层x2节点与连接权重是$W_{12}^{(1)}$。"
   ]
  },
  {
   "cell_type": "markdown",
   "metadata": {},
   "source": [
    "\n",
    "![feedforward](pic/feedward.png)"
   ]
  },
  {
   "cell_type": "markdown",
   "metadata": {},
   "source": [
    "上面$a_i^{(l)}$表示等l层的第i个节点的输出，比如$a_1^{(2)}$表示第2层第1个节点的输出值，其中f(x)为激活函数，这里是sigmoid函数。为表达方便，我们将线性相加部分定义为z：\n",
    "\n",
    "$$ z_1^{(2)} = W_{11}^{(1)}x_1 + W_{12}^{(1)}x_2 + W_{13}^{(1)}x_3+ b_1^{(1)}$$\n",
    "\n",
    "$$ a_1^{(2)} = f(z_1^{(2)})$$\n",
    "\n",
    "$$ z_2^{(2)} = W_{21}^{(1)}x_1 + W_{22}^{(1)}x_2 + W_{23}^{(1)}x_3+ b_2^{(1)}$$\n",
    "\n",
    "$$ a_2^{(2)} = f(z_2^{(2)})$$\n",
    "\n",
    "$$ z_3^{(2)} = W_{31}^{(1)}x_1 + W_{32}^{(1)}x_2 + W_{33}^{(1)}x_3+ b_3^{(1)}$$\n",
    "\n",
    "$$ a_3^{(2)} = f(z_3^{(2)})$$\n",
    "\n",
    "$$ z_1^{(3)} = W_{11}^{(2)}a_1^{(2)} + W_{12}^{(2)}a_2^{(2)} + W_{13}^{(2)}a_3^{(2)}+ b_1^{(2)}$$\n",
    "\n",
    "$$ h(x) = a_1^{(3)} = f(z_1^{(3)})$$\n",
    "\n",
    "我们可以用向量的形式表示上面公式：\n",
    "\n",
    "$$z_i^{(l)} = W_i^{(l-1)}x + b_i^{(l-1)}$$\n",
    "$$a_i^{(l)} = f(z_i^{(l)})$$"
   ]
  },
  {
   "cell_type": "markdown",
   "metadata": {},
   "source": [
    "上面的计算步骤称之为前向传播，每一层的输出作为下一层的输入，由前往后传播。"
   ]
  },
  {
   "cell_type": "markdown",
   "metadata": {},
   "source": [
    "#### 反向传播\n",
    "\n",
    "在神经网络中，我们只知道输入数据x和标签y，需要求解的是权重W和偏置b以使损失函数最少。常用的是梯度下降算法，实际上很多机器学习问题采用梯度下降算法，需要计算目标损失函数对权重W和偏置b的梯度然后进行迭代求解。在前向神经网络计算完毕的情况下，假设对任意单个样本x，y损失函数为：\n",
    "\n",
    "$$ E = (y-h_{w, b}(x))^2/2$$\n",
    "\n",
    "首先求解第2层和第3层之间的全连接权重梯度：\n",
    "$$ \\frac {\\partial E}{\\partial W_{ij}^{(2)}} = \\frac {\\partial E}{\\partial z_i^{(3)}} * \\frac {\\partial z_i^{(3)}}{\\partial W_{ij}^{(2)}} =\\frac {\\partial E}{\\partial h} * \\frac {\\partial h}{\\partial z_i^{(3)}} * \\frac {\\partial z_i^{(3)}}{\\partial W_{ij}^{(2)}}$$\n",
    "\n",
    "其中：\n",
    "\n",
    "$$ \\frac {\\partial E}{\\partial h} = - (y - h) $$\n",
    "\n",
    "$$ \\frac {\\partial h}{\\partial z_i^{(3)}} = h * (1 - h)$$\n",
    "\n",
    "$$ \\frac {\\partial z_i^{(3)}}{\\partial W_{ij}} = a_j^{(2)}$$\n",
    "\n",
    "所以第2、3层连接权重梯度（这里只有1个输出，所以i=1）：\n",
    "\n",
    "$$ \\frac {\\partial E}{\\partial W_{ij}^{(2)}} = - (y - h) * h * (1 - h) * a_j^{(2)}$$"
   ]
  },
  {
   "cell_type": "markdown",
   "metadata": {},
   "source": [
    "假设\n",
    "$$\\delta_i^{(3)} = \\frac {\\partial E}{\\partial z_i^{(3)}}$$\n",
    "那么\n",
    "\n",
    "$$ \\frac {\\partial E}{\\partial W_{ij}^{(2)}} = \\delta_i^{(3)} * a_j^{(2)}$$\n"
   ]
  },
  {
   "cell_type": "markdown",
   "metadata": {},
   "source": [
    "下面计算第1、2层之间的连接权重梯度：\n",
    "\n",
    "$$ \\frac {\\partial E}{\\partial W_{ij}^{(1)}} = \\frac {\\partial E}{\\partial z_1^{(3)}} * \\frac {\\partial z_1^{(3)}}{\\partial z_i^{(2)}} * \\frac {\\partial z_i^{(2)}}{\\partial W_{ij}^{(1)}}$$"
   ]
  },
  {
   "cell_type": "markdown",
   "metadata": {},
   "source": [
    "其中$$\\frac {\\partial z_1^{(3)}}{\\partial z_i^{(2)}} = \\frac {\\partial W_{1i}a_i^{(2)}}{\\partial z_i^{(2)}} = W_{1i}^{(2)} * a_i^{(2)}*(1- a_i^{(2)})$$\n",
    "\n",
    "$$\\frac {\\partial z_i^{(2)}}{\\partial W_{ij}^{(2)}} = x_j$$\n",
    "\n",
    "所以：\n",
    "$$\\delta_i^{(2)} = \\frac {\\partial E}{\\partial z_i^{(2)}} = \\delta_i^{(3)} * W_{1i}^{(2)} * a_i^{(2)}*(1- a_i^{(2)})$$\n",
    "\n",
    "$$\\frac {\\partial E}{\\partial W_{ij}^{(1)}} = \\delta_i^{(2)} * x_j$$"
   ]
  },
  {
   "cell_type": "markdown",
   "metadata": {},
   "source": [
    "类似的，偏置的梯度，甚至多层神经网络每层权重梯度都可以依次求解。从上述求梯度过程中可以看到，梯度的计算是从右到左，正好与前向神经网络相反。通用的反向传导算法可以参考斯坦福的大学教程，http://ufldl.stanford.edu/wiki/index.php/反向传导算法。 反向传导求解过程看上去比较繁琐，现在的神经网络工具如sklearn的mlp方法，以及谷歌的tensorflow都可以自动进行梯度计算求解。"
   ]
  },
  {
   "cell_type": "code",
   "execution_count": 12,
   "metadata": {
    "collapsed": false
   },
   "outputs": [
    {
     "name": "stdout",
     "output_type": "stream",
     "text": [
      "Extracting MNIST_data/train-images-idx3-ubyte.gz\n",
      "Extracting MNIST_data/train-labels-idx1-ubyte.gz\n",
      "Extracting MNIST_data/t10k-images-idx3-ubyte.gz\n",
      "Extracting MNIST_data/t10k-labels-idx1-ubyte.gz\n",
      "Training Image Shape: (55000, 784)\n",
      "Training Label Shape: (55000, 10)\n"
     ]
    }
   ],
   "source": [
    "#加载手写数字库\n",
    "import tensorflow.examples.tutorials.mnist.input_data as input_data\n",
    "mnist = input_data.read_data_sets(\"MNIST_data/\", one_hot=True)\n",
    "print('Training Image Shape:', mnist.train.images.shape)\n",
    "print('Training Label Shape:', mnist.train.labels.shape)"
   ]
  },
  {
   "cell_type": "code",
   "execution_count": 17,
   "metadata": {
    "collapsed": false
   },
   "outputs": [
    {
     "name": "stdout",
     "output_type": "stream",
     "text": [
      "Digit Label:  8\n"
     ]
    },
    {
     "data": {
      "image/png": "[encoded data removed]",
      "text/plain": [
       "<matplotlib.figure.Figure at 0x1155f4be0>"
      ]
     },
     "metadata": {},
     "output_type": "display_data"
    }
   ],
   "source": [
    "train_images = mnist.train.images\n",
    "train_labels = mnist.train.labels\n",
    "test_images = mnist.test.images\n",
    "test_labels = mnist.test.labels\n",
    "index = 5\n",
    "#显示手写汉字\n",
    "plt.imshow(train_images[index].reshape(28, 28))\n",
    "print('Digit Label: ', mnist.train.labels[index].argmax())"
   ]
  },
  {
   "cell_type": "code",
   "execution_count": 19,
   "metadata": {
    "collapsed": false
   },
   "outputs": [
    {
     "name": "stdout",
     "output_type": "stream",
     "text": [
      "Iteration 1, loss = 0.69900672\n",
      "Iteration 2, loss = 0.37272014\n",
      "Iteration 3, loss = 0.30829214\n",
      "Iteration 4, loss = 0.27296177\n",
      "Iteration 5, loss = 0.24786453\n",
      "Iteration 6, loss = 0.23241189\n",
      "Iteration 7, loss = 0.21832879\n",
      "Iteration 8, loss = 0.20879373\n",
      "Iteration 9, loss = 0.19726959\n",
      "Iteration 10, loss = 0.19207165\n"
     ]
    },
    {
     "name": "stderr",
     "output_type": "stream",
     "text": [
      "/Users/richardsun/anaconda3/lib/python3.6/site-packages/sklearn/neural_network/multilayer_perceptron.py:563: ConvergenceWarning: Stochastic Optimizer: Maximum iterations reached and the optimization hasn't converged yet.\n",
      "  % (), ConvergenceWarning)\n"
     ]
    },
    {
     "name": "stdout",
     "output_type": "stream",
     "text": [
      "Training set score: 0.952400\n",
      "Test set score: 0.934000\n"
     ]
    }
   ],
   "source": [
    "#加载多层神经网络模型\n",
    "from sklearn.neural_network import MLPClassifier\n",
    "\n",
    "#创建隐层50个神经元的网络，梯度下降法进行训练\n",
    "mlp = MLPClassifier(hidden_layer_sizes=(50,), max_iter=10, alpha=1e-4,\n",
    "                    solver='sgd', verbose=10, tol=1e-4, random_state=1,\n",
    "                    learning_rate_init=.1)\n",
    "\n",
    "mlp.fit(train_images, train_labels)\n",
    "print(\"Training set score: %f\" % mlp.score(train_images, train_labels))\n",
    "print(\"Test set score: %f\" % mlp.score(test_images, test_labels))"
   ]
  },
  {
   "cell_type": "markdown",
   "metadata": {},
   "source": [
    "## 参考文献：\n",
    "\n",
    "- 《统计学习方法》，李航\n",
    "- 支持向量机通俗导论（理解SVM的三层境界），http://blog.csdn.net/macyang/article/details/38782399/\n",
    "- 支持矢量机数学原理，http://blog.csdn.net/v_july_v/article/details/7624837\n",
    "- 怎么样理解SVM？，https://www.zhihu.com/question/21094489\n",
    "- 神经网络入门， http://neuralnetworksanddeeplearning.com/chap1.html\n",
    "- 神经网络，斯坦福，http://ufldl.stanford.edu/wiki/index.php/%E7%A5%9E%E7%BB%8F%E7%BD%91%E7%BB%9C\n",
    "- 神经网络，多伦多大学，https://www.coursera.org/learn/neural-networks/"
   ]
  },
  {
   "cell_type": "code",
   "execution_count": null,
   "metadata": {
    "collapsed": true
   },
   "outputs": [],
   "source": []
  }
 ],
 "metadata": {
  "anaconda-cloud": {},
  "kernelspec": {
   "display_name": "Python [default]",
   "language": "python",
   "name": "python3"
  },
  "language_info": {
   "codemirror_mode": {
    "name": "ipython",
    "version": 3
   },
   "file_extension": ".py",
   "mimetype": "text/x-python",
   "name": "python",
   "nbconvert_exporter": "python",
   "pygments_lexer": "ipython3",
   "version": "3.5.2"
  }
 },
 "nbformat": 4,
 "nbformat_minor": 2
}
