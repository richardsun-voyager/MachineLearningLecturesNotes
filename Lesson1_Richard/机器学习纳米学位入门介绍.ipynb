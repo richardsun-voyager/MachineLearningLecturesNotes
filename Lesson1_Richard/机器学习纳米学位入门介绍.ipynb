{
 "cells": [
  {
   "cell_type": "markdown",
   "metadata": {
    "nbpresent": {
     "id": "ffb937e5-d4ed-49f8-8ef7-48eb74eb24e4"
    }
   },
   "source": [
    "优达学城机器学习纳米学位课程主要包括三大块：\n",
    "\n",
    "- 机器学习专业知识，内容包括常用机器学习算法介绍、工具包使用、课堂小测试等。建议观看视频并完成课堂小测验以巩固知识点，如存在不明白之处，除视频外，还可以利用百度、谷歌搜索相关资料，或者在微信群、优达论坛里进行查询询问。\n",
    "\n",
    "\n",
    "- 职业发展训练，内容包括不同背景求职简历撰写、个人社交账户维护、面试技巧等。建议在校大学生、待求职人士通过学习认真撰写完善个人简历、社交网站，毕业后其完整的简历可以放在优达学城人才库里待匹配。\n",
    "\n",
    "\n",
    "- 实战项目，内容包括4个小项目和1个毕业项目，比如波士顿房价预测、学生干涉系统建设、智能小车设计等。学员不仅要完成代码编写，还要回答关于机器学习相关问题比如模型选择、数据特征、模型眼睁睁等，每次项目提交后都有专业评审员进行评审并反馈意见建议。特别是毕业项目属于开放性问题，需要综合运用所学知识解决实际问题，最能体现学员独立思考解决问题的能力，也能展现其对机器学习技术的掌握和理解程度。所有项目可以放在github代码库上作为学习成果供他人参考，包括未来的雇主、导师等。\n",
    "\n",
    "**注意：**\n",
    "- **1. 学员需坚持独立完成每个项目，不能直接讨论项目中的题目以及答案，杜绝刷题行为。项目若没有通过，可以按照评审员修改意见建议完善再次提交。**\n",
    "- **2. 保持团队学习状态，定期抽时间参加一对一交流辅导、视频授课，关注微信群信息，欢迎分享经验和资料，学有余力同学可以积极帮助和回答其他学员问题，展现良好的团队精神。**\n",
    "- **3. 每月撰写一篇学习心得体会，发表正在知乎网站上。**\n",
    "\n"
   ]
  },
  {
   "cell_type": "markdown",
   "metadata": {
    "nbpresent": {
     "id": "23786a5d-1cad-4f1b-bd6c-a85d1ced01a3"
    }
   },
   "source": [
    "本次授课主要介绍机器学习课程专业知识部分框架、先修知识以及编程环境配置。"
   ]
  },
  {
   "cell_type": "markdown",
   "metadata": {
    "nbpresent": {
     "id": "cda3f827-f755-4165-9af3-99a2bf81a139"
    }
   },
   "source": [
    "## 一、课程内容架构\n",
    "\n",
    "### 欢迎篇\n",
    "  - 机器学习先修知识（概率论、线代、微积分）回顾\n",
    "  - 人工智能及机器学习概念\n",
    "  - 课程设置及帮助\n",
    "  \n",
    "### 模型评估及验证\n",
    "  - 数据分析工具包numpy&Pandas介绍\n",
    "  - 机器学习工具包scikit-learn介绍\n",
    "  - 模型评估指标、验证方法简介\n",
    "  \n",
    "### 监督学习\n",
    "  - 监督学习概念，回归与分类的概念\n",
    "  - 常用监督学习模型\n",
    "    - 决策树(Decision Trees)\n",
    "    - 人工神经网络(Artificial Neural Networks)\n",
    "    - 支持矢量机(Support Vector Machines)\n",
    "    - 贝叶斯方法(Bayesian Methods)\n",
    "    - 集成学习(Ensemble Methods)\n",
    "    \n",
    "### 无监督学习\n",
    "  - 无监督学习概念\n",
    "  - 聚类介绍\n",
    "    - k均值聚类\n",
    "    - 期望最大化(EM)算法\n",
    "  - 特征工程(Feature Engineering)\n",
    "  - 降维(Dimensionality Reduction)\n",
    "    - 主成份分析(PCA)\n",
    "    - 独立成分分析(ICA)\n",
    "    \n",
    "### 强化学习\n",
    "  - 强化学习概念\n",
    "  - 马尔科夫过程\n",
    "  - 博弈论\n",
    "  - Q学习介绍\n",
    "  \n",
    "### 深度学习\n",
    "  - tensorflow使用\n",
    "  - 神经网络概念\n",
    "  - 多层神经网络\n",
    "  - 卷积神经网络\n",
    "  - 循环神经网络\n",
    "  \n",
    "### 毕业项目\n",
    "  - 图像识别\n",
    "  - 自然语言处理\n",
    "  - 教育大数据\n",
    "  - 其他\n"
   ]
  },
  {
   "cell_type": "markdown",
   "metadata": {
    "nbpresent": {
     "id": "ef50d266-30e6-4410-8f54-69b849ff7121"
    }
   },
   "source": [
    "## 二、机器学习课程先修基础知识"
   ]
  },
  {
   "cell_type": "markdown",
   "metadata": {
    "nbpresent": {
     "id": "f8c692fd-c315-40e0-bf0f-15ef0bdc2faa"
    }
   },
   "source": [
    "### 1、线性代数基本概念回顾\n",
    "\n",
    "- 矩阵的表达：$A ∈ R^{m×n}$，A为m行n列的实数矩阵，$a_{ij}$表示矩阵里第i行第j列元素，如下图\n",
    "![矩阵表达](矩阵表达.png)"
   ]
  },
  {
   "cell_type": "markdown",
   "metadata": {
    "nbpresent": {
     "id": "1ee7ce81-b40a-4a5e-801f-25e85e36283b"
    }
   },
   "source": [
    "下面我们试用numpy创建几个矩阵。"
   ]
  },
  {
   "cell_type": "code",
   "execution_count": 1,
   "metadata": {
    "collapsed": false,
    "nbpresent": {
     "id": "699433f8-e5ca-4ab7-af58-df2997d59502"
    }
   },
   "outputs": [
    {
     "data": {
      "text/plain": [
       "matrix([[ 1.62434536, -0.61175641, -0.52817175, -1.07296862,  0.86540763],\n",
       "        [-2.3015387 ,  1.74481176, -0.7612069 ,  0.3190391 , -0.24937038],\n",
       "        [ 1.46210794, -2.06014071, -0.3224172 , -0.38405435,  1.13376944],\n",
       "        [-1.09989127, -0.17242821, -0.87785842,  0.04221375,  0.58281521]])"
      ]
     },
     "execution_count": 1,
     "metadata": {},
     "output_type": "execute_result"
    }
   ],
   "source": [
    "##利用numpy创建矩阵4*5的矩阵\n",
    "import numpy as np\n",
    "np.random.seed(1)\n",
    "A = np.random.randn(4,5)\n",
    "np.mat(A)"
   ]
  },
  {
   "cell_type": "code",
   "execution_count": 11,
   "metadata": {
    "collapsed": false,
    "nbpresent": {
     "id": "4a606d61-8465-42ec-a0e1-112b3264d1bb"
    }
   },
   "outputs": [
    {
     "data": {
      "text/plain": [
       "matrix([[ 1.,  0.,  0.,  0.,  0.],\n",
       "        [ 0.,  1.,  0.,  0.,  0.],\n",
       "        [ 0.,  0.,  1.,  0.,  0.],\n",
       "        [ 0.,  0.,  0.,  1.,  0.],\n",
       "        [ 0.,  0.,  0.,  0.,  1.]])"
      ]
     },
     "execution_count": 11,
     "metadata": {},
     "output_type": "execute_result"
    }
   ],
   "source": [
    "##创建一个5*5的单位矩阵,有一类对角线上全是1而其他元素都为0的矩阵称之为单位矩阵表示为I，\n",
    "np.mat(np.eye(5))"
   ]
  },
  {
   "cell_type": "code",
   "execution_count": 12,
   "metadata": {
    "collapsed": false
   },
   "outputs": [
    {
     "data": {
      "text/plain": [
       "matrix([[1, 0, 3, 4, 2]])"
      ]
     },
     "execution_count": 12,
     "metadata": {},
     "output_type": "execute_result"
    }
   ],
   "source": [
    "##创建一个向量\n",
    "np.mat(np.array([1, 0, 3, 4, 2]))"
   ]
  },
  {
   "cell_type": "markdown",
   "metadata": {
    "nbpresent": {
     "id": "00e7a6c6-7807-48f6-ae71-bec80bce044c"
    }
   },
   "source": [
    "- 向量的表达：$x ∈ R^{m}$，x为有m个元素的向量。矩阵A里面的每列和每行可看成列向量和行向量。\n",
    "![向量](向量.png)\n",
    "  \n",
    "- 矩阵乘法\n",
    "  矩阵$A ∈ R^{m×n}， B ∈ R^{n×k}$，那么它们相乘其积为$C = AB  ∈  R^{m×k}$，新的矩阵第i行j列元素为 A矩阵第i行向量与B矩阵第j列向量之积,                                 \n",
    "  向量的乘法也是元素相乘求和 。$C_{ij}=\\sum_{p=1}^n A_{ip}B_{pj}$\n",
    "  ![向量乘法](向量乘法.png)"
   ]
  },
  {
   "cell_type": "code",
   "execution_count": 13,
   "metadata": {
    "collapsed": false,
    "nbpresent": {
     "id": "00e148bb-a132-434f-a35d-3ad493af7bf7"
    }
   },
   "outputs": [
    {
     "data": {
      "text/plain": [
       "matrix([[2, 1],\n",
       "        [1, 1]])"
      ]
     },
     "execution_count": 13,
     "metadata": {},
     "output_type": "execute_result"
    }
   ],
   "source": [
    "##两个矩阵相乘, A为2*3，B为3*2\n",
    "A = np.mat([[1,2,1],\n",
    "            [1,1,1]])\n",
    "B = np.mat([[0,1],\n",
    "            [1,0],\n",
    "            [0,0]])\n",
    "A*B"
   ]
  },
  {
   "cell_type": "markdown",
   "metadata": {
    "nbpresent": {
     "id": "765f467b-e8f0-4d20-afcc-469c5c6d65ae"
    }
   },
   "source": [
    "- 矩阵转置：\n",
    "  将矩阵A转置后$A^T$，假设$A ∈ R^{m×n}$，那么$A^T ∈ R^{n×m}$，里面元素$a^{T}_{ij} = a_{ji}$\n",
    "    \n",
    "- 逆矩阵：\n",
    "  有一类对角线上全是1而其他元素都为0的矩阵称之为单位矩阵表示为I，对于任意矩阵$A ∈ R^{m×n}，I∈ R^{n×n}，AI = A$。假设矩阵$A ∈ R^{n×n}$的逆矩阵为$A^{-1}$，那么$AA^{-1} = I$。"
   ]
  },
  {
   "cell_type": "code",
   "execution_count": 14,
   "metadata": {
    "collapsed": false,
    "nbpresent": {
     "id": "84d6bf6f-a062-4ee4-9e71-afdf72f7a519"
    }
   },
   "outputs": [
    {
     "data": {
      "text/plain": [
       "matrix([[1, 1],\n",
       "        [2, 1],\n",
       "        [1, 1]])"
      ]
     },
     "execution_count": 14,
     "metadata": {},
     "output_type": "execute_result"
    }
   ],
   "source": [
    "##矩阵转置\n",
    "A = np.mat([[1,2,1],\n",
    "            [1,1,1]])\n",
    "A.T"
   ]
  },
  {
   "cell_type": "code",
   "execution_count": 2,
   "metadata": {
    "collapsed": false
   },
   "outputs": [
    {
     "data": {
      "text/plain": [
       "matrix([[1],\n",
       "        [2],\n",
       "        [3],\n",
       "        [4]])"
      ]
     },
     "execution_count": 2,
     "metadata": {},
     "output_type": "execute_result"
    }
   ],
   "source": [
    "A = np.array([1, 2, 3, 4])\n",
    "A = np.mat(A)\n",
    "A.T"
   ]
  },
  {
   "cell_type": "code",
   "execution_count": 15,
   "metadata": {
    "collapsed": false,
    "nbpresent": {
     "id": "ec435798-7ecb-49b5-b729-2537493908d3"
    }
   },
   "outputs": [
    {
     "data": {
      "text/plain": [
       "matrix([[-1.10061918,  1.14472371,  0.90159072,  0.50249434],\n",
       "        [ 0.90085595, -0.68372786, -0.12289023, -0.93576943],\n",
       "        [-0.26788808,  0.53035547, -0.69166075, -0.39675353],\n",
       "        [-0.6871727 , -0.84520564, -0.67124613, -0.0126646 ]])"
      ]
     },
     "execution_count": 15,
     "metadata": {},
     "output_type": "execute_result"
    }
   ],
   "source": [
    "##矩阵求逆\n",
    "A = np.random.randn(4,4)\n",
    "A = np.mat(A)\n",
    "A"
   ]
  },
  {
   "cell_type": "code",
   "execution_count": 16,
   "metadata": {
    "collapsed": false,
    "nbpresent": {
     "id": "f1cd4df8-5a31-48cb-8b11-20cacc8a7754"
    }
   },
   "outputs": [
    {
     "data": {
      "text/plain": [
       "matrix([[ -6.72649500e-01,  -3.04465760e-01,  -1.10388789e-01,\n",
       "          -7.33988720e-01],\n",
       "        [  7.54820061e-03,  -2.50525616e-01,   6.19013671e-01,\n",
       "          -5.81835643e-01],\n",
       "        [  6.93144052e-01,   6.50993198e-01,  -6.57519394e-01,\n",
       "          -4.29197713e-04],\n",
       "        [ -7.44095524e-01,  -1.26418870e+00,  -4.72208823e-01,\n",
       "          -2.81424155e-01]])"
      ]
     },
     "execution_count": 16,
     "metadata": {},
     "output_type": "execute_result"
    }
   ],
   "source": [
    "A_inv = A.I\n",
    "A_inv"
   ]
  },
  {
   "cell_type": "markdown",
   "metadata": {
    "nbpresent": {
     "id": "15036cfa-fd09-478b-88d6-ca0606195fe7"
    }
   },
   "source": [
    "### 2、统计学基本概念回顾\n",
    "#### 概率\n",
    "\n",
    "- “概率是对随机事件发生的可能性的度量，一般以一个在0到1之间的实数表示一个事件发生的可能性大小。越接近1，该事件更可能发生；越接近0，则该事件更不可能发生。在一定条件下，重复做n次试验，nA为n次试验中事件A发生的次数，如果随着n逐渐增大，频率nA/n逐渐稳定在某一数值p附近，则数值p称为事件A在该条件下发生的概率，记做P（A）=p。这个定义成为概率的统计定义。”（引用自[百度百科](http://baike.baidu.com/link?url=m0owwerLK2SWV8N8xiXp3jH2SYqGjwx7opvV1GK8dj0cNvIuxhK5ebQyd6rsvg7oqLFaanj4pND2GA_9T4M_lxB5LwuToZqxaUdpMGXeayO)）比如一个普通硬币，每投掷一次不是正面就是反面落地，每个面出现的概率都是0.5。\n",
    "\n",
    "- 条件概率：事件A在另外一个事件B已经发生条件下的发生概率。条件概率表示为$P(A|B)$，读作“在B条件下A的概率”。表示为：\n",
    "$P(A\\mid B) = \\frac{P(AB)}{P(B)}$  \n",
    "  同理，“在A的条件下B的概率” 可以表示为$P(B\\mid A) = \\frac{P(AB)}{P(A)}$\n",
    "  \n",
    "- 如果A、B是两随机事件，如果它们独立，那么$P(AB) = P(A)P(B)$， $P(A\\mid B) = P(A)$。\n",
    "\n",
    "- 全概率公式：设事件组${{B_i}}$是样本空间Ω 的一个划分，且$P(Bi)>0(i=1，2，…n)$，对任一事件A，\n",
    "$P(A) = \\sum_{i=1}^{n} P(A\\mid B_i)P(B_i)$\n",
    "\n",
    "   比如将骰子每次投掷的结果划分为$B_1到B_6$，$P(B_i) = 1/6$ 假设事件A为当前投掷值为偶数，则\n",
    "$P(A) = \\sum_{i=1}^{6} P(A\\mid B_i)P(B_i) = \\sum_{i=1}^{6} P(A\\mid B_i)*1/6) = 1/2$\n",
    "\n",
    "- 贝叶斯公式：设事件组${B_i}$是完备事件组，对任一时间$A，P(A) > 0$，有                                                                          $P(B_i|A) = \\frac {P(AB_i)}{P(A)} = \\frac {P(B_i)P(A\\mid B_i)}{\\sum_{k=1}^{n}P(A\\mid B_k)P(B_k)}$\n"
   ]
  },
  {
   "cell_type": "markdown",
   "metadata": {
    "nbpresent": {
     "id": "5a6a1278-057a-4ee6-9170-26a8cf0133f2"
    }
   },
   "source": [
    "#### 统计量\n",
    "- 期望值$E(X)$：随机变量的期望又可称为平均数，对于离散变量，期望值就是变量取值与相应概率之和，$E(X) = \\sum_{i=1}^{\\infty} XP(x)$。投掷骰子的期望值？\n",
    "- 方差$D(X)$：方差的定义为$E(X-E(X))^2$\n",
    "- 协方差$Cov(X, Y)$：$E(X-E(X))E(Y-E(Y))\n",
    "\n",
    "“数理统计中，我们把“研究对象的全体”称之为总体，而总体中的每个成员称为个体。”（《概率论数理统计与随机过程》第6.1节）从总体中抽取一部分个体，叫做样本。设总体为$X$，从中随机抽取$n$个个体，记为$X_1,X_2,...,X_n$，称为随机样本，理论上$X_i$与$X$有相同的分布。\n",
    "- 样本平均值\n",
    "$\\overline X = \\sum_{i=1}^n X_i/n$\n",
    "- 样本方差$S^2 = \\sum_{i=1}^n (\\overline X - X_i)^2/(n-1)$\n",
    "- 样本标准差$S = \\sqrt S^2$\n",
    "- 样本中位数。对于有限的数集，可以通过把所有观察值高低排序后找出正中间的一个作为中位数。如果观察值有偶数个，通常取最中间的两个数值的平均数作为中位数。\n",
    "- 四分位数。统计学中，有种类型的四分位，用三个点将排序好的数据分为样本数相等的四部分，如下图所示。\n",
    "![四分熟](quartiles.png)\n",
    "\n"
   ]
  },
  {
   "cell_type": "code",
   "execution_count": 104,
   "metadata": {
    "collapsed": false,
    "nbpresent": {
     "id": "f66a2d36-0e7f-4c9c-9f5b-b2e32fbd6c34"
    }
   },
   "outputs": [
    {
     "name": "stdout",
     "output_type": "stream",
     "text": [
      "[ 1.62434536 -0.61175641 -0.52817175 -1.07296862  0.86540763 -2.3015387\n",
      "  1.74481176 -0.7612069   0.3190391  -0.24937038  1.46210794 -2.06014071\n",
      " -0.3224172  -0.38405435  1.13376944 -1.09989127 -0.17242821 -0.87785842\n",
      "  0.04221375  0.58281521 -1.10061918  1.14472371  0.90159072  0.50249434\n",
      "  0.90085595 -0.68372786 -0.12289023 -0.93576943 -0.26788808  0.53035547\n",
      " -0.69166075 -0.39675353 -0.6871727  -0.84520564 -0.67124613 -0.0126646\n",
      " -1.11731035  0.2344157   1.65980218  0.74204416 -0.19183555 -0.88762896\n",
      " -0.74715829  1.6924546   0.05080775 -0.63699565  0.19091548  2.10025514\n",
      "  0.12015895  0.61720311  0.30017032 -0.35224985 -1.1425182  -0.34934272\n",
      " -0.20889423  0.58662319  0.83898341  0.93110208  0.28558733  0.88514116\n",
      " -0.75439794  1.25286816  0.51292982 -0.29809284  0.48851815 -0.07557171\n",
      "  1.13162939  1.51981682  2.18557541 -1.39649634 -1.44411381 -0.50446586\n",
      "  0.16003707  0.87616892  0.31563495 -2.02220122 -0.30620401  0.82797464\n",
      "  0.23009474  0.76201118 -0.22232814 -0.20075807  0.18656139  0.41005165\n",
      "  0.19829972  0.11900865 -0.67066229  0.37756379  0.12182127  1.12948391\n",
      "  1.19891788  0.18515642 -0.37528495 -0.63873041  0.42349435  0.07734007\n",
      " -0.34385368  0.04359686 -0.62000084  0.69803203]\n",
      "样本均值为: $0.061\n",
      "样本标准差为: $0.885\n"
     ]
    }
   ],
   "source": [
    "##随机产生标准正态分布的样本\n",
    "np.random.seed(1)\n",
    "x = np.random.randn(100)\n",
    "print(x)\n",
    "print('样本均值为: ${:,.3f}'.format(np.mean(x)))\n",
    "print('样本标准差为: ${:,.3f}'.format(np.std(x)))"
   ]
  },
  {
   "cell_type": "markdown",
   "metadata": {
    "nbpresent": {
     "id": "352200b0-eaa8-4083-89de-e3803ef979c9"
    }
   },
   "source": [
    "#### 正态分布\n",
    "若随机变量$X$服从一个位置参数为$\\mu$、尺度参数为$\\sigma$的概率分布，且其概率密度函数为\n",
    "![概率密度](正态分布概率密度.jpg)\n",
    "则这个随机变量称之为正态分布（引用于[百度百科](http://baike.baidu.com/link?url=H38CNegHQkLLc0IDM6ZsxdBDk3aE75jz9uXQNaYPhpHFYNNHbcPpZByQ-MgR-1qMV-jrNCHePgpzZgr4yksiupaxA_AHxcASGBryKJyi3opk1jxpMZlmFeJBbS9ZWv0l)）。\n",
    "其分布图形特征如下：\n",
    "![正态分布图](正态分布.jpg)\n",
    "\n",
    "设$X ∈ N(\\mu, \\sigma^2)$， 设$X_1,X_2,...,X_n$为来自样本总体$X$的样本。\n"
   ]
  },
  {
   "cell_type": "code",
   "execution_count": 17,
   "metadata": {
    "collapsed": false,
    "nbpresent": {
     "id": "ce893889-ea49-4d91-80b7-64fe6745ca81"
    }
   },
   "outputs": [
    {
     "data": {
      "text/plain": [
       "<matplotlib.text.Text at 0x1f4981f6048>"
      ]
     },
     "execution_count": 17,
     "metadata": {},
     "output_type": "execute_result"
    },
    {
     "data": {
      "image/png": "[encoded data removed]",
      "text/plain": [
       "<matplotlib.figure.Figure at 0x1f49817a908>"
      ]
     },
     "metadata": {},
     "output_type": "display_data"
    }
   ],
   "source": [
    "##产生正态分布样本N(25, 30)\n",
    "from matplotlib import pyplot\n",
    "import matplotlib.mlab as mlab  \n",
    "%matplotlib inline\n",
    "np.random.seed(1)\n",
    "mu = 25\n",
    "sigma = 30\n",
    "x = sigma * np.random.randn(10000) + mu\n",
    "num_bins = 50  \n",
    "n, bins, patches = pyplot.hist(x, num_bins, normed=1, facecolor='green', alpha=0.5, range=(-75,125))  \n",
    "y = mlab.normpdf(bins, mu, sigma)#画一条逼近的曲线  \n",
    "pyplot.plot(bins, y, 'r--')  \n",
    "pyplot.xlabel('Samples')  \n",
    "pyplot.ylabel('Probability')  \n",
    "pyplot.title(r'Histogram of Samples: $\\mu=25$, $\\sigma=30$')#中文标题 u'xxx'"
   ]
  },
  {
   "cell_type": "markdown",
   "metadata": {
    "nbpresent": {
     "id": "13ac4bcd-60ad-4db8-ad70-48e7c4001b97"
    }
   },
   "source": [
    "#### 相关系数和皮尔逊检验\n",
    "\n",
    "在机器学习中，我们在讨论变量时除了它们自身的部分特性外，还会考虑它们之间的关系，于是我们可以引入[相关系数](http://baike.baidu.com/link?url=UsaM_IyFRRReBwKKeoQJBGI7wNWUpR8wRLetciMZa8SnOJV5MKDcx3P-eYrzcrtei1uSjv9EoFpUXCK9JnpmLeBEjtwaRJ7P2w3QL2_fJec1EojUB3LdcmT8a904Hbtr)。对于随机变量$X，Y$， 其方差$D(X)，D(Y)$均为非零实数，那么其相关系数$\\rho$为$\\rho = Cov(X, Y)/ \\sqrt {D(X)D(Y)}$，$\\rho$的大小描述了X与Y之间的相关性程度，最常用的是皮尔逊估计。"
   ]
  },
  {
   "cell_type": "code",
   "execution_count": 18,
   "metadata": {
    "collapsed": false,
    "nbpresent": {
     "id": "122d4b3f-df44-4d1c-9363-663e5728399a"
    }
   },
   "outputs": [
    {
     "name": "stdout",
     "output_type": "stream",
     "text": [
      "Lower noise (0.99508337431090166, 2.6253965475043595e-301)\n",
      "Higher noise (0.057964292079338155, 0.31700993885324752)\n"
     ]
    }
   ],
   "source": [
    "from scipy.stats import pearsonr\n",
    "np.random.seed(0)\n",
    "size = 300\n",
    "x = np.random.randn(size)\n",
    "y = x + np.random.randn(size) * 0.1\n",
    "y_ = x + np.random.randn(size) * 10\n",
    "print(\"Lower noise\", pearsonr(x, y))\n",
    "print(\"Higher noise\", pearsonr(x, y_))"
   ]
  },
  {
   "cell_type": "markdown",
   "metadata": {
    "nbpresent": {
     "id": "2cd65749-df5b-4dc8-bd35-7b7c5ef0401e"
    }
   },
   "source": [
    "计算结果的值域为[-1,1]，其中，1 表示X和Y完全正相关，-1 表示完全负相关，0 表示无关。绝对值越大表明相关性越强."
   ]
  },
  {
   "cell_type": "markdown",
   "metadata": {},
   "source": [
    "### 3.导数"
   ]
  },
  {
   "cell_type": "markdown",
   "metadata": {},
   "source": [
    "机器学习中，梯度下降法经常用于求解参数值，而梯度的计算离不开目标函数对参数求导。\n",
    "导数是函数的局部性质。一个函数在某一点的导数描述了这个函数在这一点附近的变化率。如果函数的自变量和取值都是实数的话，函数在某一点的导数就是该函数所代表的曲线在这一点上的切线斜率。导数的本质是通过极限的概念对函数进行局部的线性逼近。例如在运动学中，物体的位移对于时间的导数就是物体的瞬时速度。（摘自[百度百科](http://baike.baidu.com/link?url=-WvJVjPf8DHQjRiuvxHaN9LtrVF8efPgN3T79-c1Kef8Nt1wlOzYXYPeNLCnkh08s_IJcNgrhXL9W-Q9vpTfL9PnYtY8d4OICHghXp-rS7_)）\n",
    "![求导](求导.jpg)\n",
    "![导数](导数.jpg)\n",
    "\n",
    "假设$y(x) = x^2$, 那么$y(x+\\Delta x) = (x + \\Delta x)^2 = x^2 + 2x\\Delta x + \\Delta x^2$, $\\Delta y = y(x+\\Delta x) - y(x) = 2x\\Delta x + \\Delta x^2$，那么$ y\\prime(x) = 2x$。\n",
    "\n",
    "常用的导数公式有（引用自百度百科）：\n",
    "![求导公式](求导公式.png)\n"
   ]
  },
  {
   "cell_type": "markdown",
   "metadata": {
    "nbpresent": {
     "id": "b6d31671-923f-46ea-892a-4746c84d5de1"
    }
   },
   "source": [
    "## 三、编程环境配置及常用工具包简介"
   ]
  },
  {
   "cell_type": "markdown",
   "metadata": {
    "nbpresent": {
     "id": "33ac5bf2-b438-4a6b-93ad-2d15bedeff8c"
    }
   },
   "source": [
    "当前机器学习纳米学位视频及项目所试用的编程语言为Python2.7，需要用到的工具包有：\n",
    "- [numpy](http://www.numpy.org/): 科学计算工具包，能够创建和操作矩阵、数组。\n",
    "- [pandas](http://pandas.pydata.org/)：数据分析工具包\n",
    "- [scikit-learn](http://scikit-learn.org/)：机器学习工具包\n",
    "- [tensorflow](http://www.tensorfly.cn/)：深度学习工具包\n",
    "- [matplotlib](http://matplotlib.org/)：绘图工具包"
   ]
  },
  {
   "cell_type": "markdown",
   "metadata": {
    "nbpresent": {
     "id": "8bd2e464-a8ad-4911-a0ae-1241ef15e68a"
    }
   },
   "source": [
    "### 1. Anaconda环境配置\n",
    "\n",
    "建议初学者使用[Anaconda](https://www.continuum.io/)科学计算环境，里面直接集成了几乎所有常用的科学计算工具，无需一一安装工具包，非常适用于离线环境或者国外服务器连接不稳定环境，而且针对Windows、OSX、Linux均有相应版本。编程环境推荐试用[jupyter notebook](http://jupyter.org/)，可以在网页上直接编辑文字和代码。以Windows为例，下载安装Anaconda2后，会在开始菜单里看到Anaconda程序集，主要分为三个模块：\n",
    "- 导航器：可以查看集成开发环境、虚拟环境设置、工具包安装情况、开发社区、文档等\n",
    "- 命令行：可以直接编写Python脚本\n",
    "- 开发环境：主要有Jupyte notebook，Spyder\n",
    "\n",
    "#### 工具包管理\n",
    "\n",
    "Anaconda安装卸载工具包也比较方便，比如在命令行里输入\n",
    "```\n",
    "conda install <工具包名称>\n",
    "conda uninstall <工具包名称>\n",
    "conda update <工具包名称>\n",
    "```\n",
    "当然也可以使用Python经典的pip命令，比如在明了行列输入\n",
    "```\n",
    "pip install <工具包名称>\n",
    "pip uninstall <工具包名称>\n",
    "pip update <工具包名称>\n",
    "```\n",
    "\n",
    "#### 环境设置\n",
    "这也是Anaconda又一重要功能，能够在同一台机器上创建多个不同的Python环境。比如，你当前安装的是Python2.7版本，但是你又需要运行Python3.5版本，这时候可以利用Anaconda创建一个3.5的虚拟环境，好比你在Windows机器上又部署一个Ubuntu虚拟机，具体可参考[官方文档](https://conda.io/docs/using/envs.html)。命令如下：\n",
    "```\n",
    "##创建名为myPython3的环境，Python版本设置为3.5\n",
    "conda create -n myPython3 python=3.5 \n",
    "##列出所有的环境\n",
    "conda info --envs \n",
    "```\n",
    "然后既可以看到新创建的myPython3.5环境，若需要使用该环境，可以用下列命令激活并在里面安装所需的工具包：\n",
    "```\n",
    "activate  myPython3\n",
    "```\n",
    "如果不需要某个环境。也可将其移除。\n",
    "```\n",
    "conda remove --name myPython3 --all\n",
    "conda info --envs \n",
    "```\n",
    "### Jupyter notebook\n",
    "Anaconda安装后，在命令行里输入jupyter notebook，即可启动该服务，默认配置下会打开浏览器并显示根目录文件夹，如下图：\n",
    "![jupyter notebook](jupyter_notebook.png)\n",
    "用户可以创建新的文本文件、文件夹、ipython文件，也可以打开命令行。jupyter notebook可以配置多个不同的运行内核(kernel)，如python2.7内核、python3.5内核甚至R内核。简单讲，可以将上面提到的每个Python环境配置为运行核供用户选择试用，具体内容可参见[优达论坛贴文](https://discussions.youdaxue.com/t/sklearn/17353)。\n",
    "\n",
    "jupyter notebook文件里面主要有两种单元格(cell)：Markdown文本和代码。下图上部分就是Markdown文本区，下部分是代码区.\n",
    "![cell](单元格.png)\n",
    "\n",
    "Jupyter notebook能够便捷将ipython文档转换成html网页、pdf文档、py文件，甚至可以转换成幻灯片。\n",
    "![Jupyter Notebook](jupyter.png)\n",
    "\n",
    "通过修改配置文件，可以设置jupyter notebook启动目录、默认浏览器、密码保护等，特别是能够将它配置在远程服务器上，比如在亚马逊云服务器上安装部署jupyter notebook，建立项目库，可以在不同终端利用互联网访问，编辑和运行程序。具体操作请参考[优达论坛小帖](https://discussions.youdaxue.com/t/jupyter-notebook/17565)。\n",
    "\n",
    "\n"
   ]
  },
  {
   "cell_type": "markdown",
   "metadata": {
    "nbpresent": {
     "id": "02d86c22-89f9-4260-bdc2-8df200ca5eba"
    }
   },
   "source": [
    "### 2.Markdown语言简介\n",
    "\n",
    "Markdown 的目标是实现「易读易写」（可参考[appinn网站](http://www.appinn.com/markdown/#img)）。利用简单的语法规则实现文本复杂的格式设置、公式编辑、图片插入。\n",
    "#### 格式设置\n",
    "\n",
    "通过‘#’和空格可以设置标题，在Markdown单元格中输入\n",
    "```\n",
    "# 一级标题\n",
    "## 二级标题\n",
    "### 三级标题\n",
    "```"
   ]
  },
  {
   "cell_type": "markdown",
   "metadata": {},
   "source": [
    "显示效果如下：\n",
    "# 一级标题\n",
    "## 二级标题\n",
    "### 三级标题"
   ]
  },
  {
   "cell_type": "markdown",
   "metadata": {},
   "source": [
    "\n",
    "通过'>'设置引用\n",
    "```\n",
    ">这是引用\n",
    "```\n",
    "通过'- '设置链表\n",
    "```\n",
    "- 第一节\n",
    "- 第二节\n",
    "- 第三节\n",
    "```\n",
    "通过'\\*'设置斜体，‘\\*\\*’表示加粗\n",
    "```\n",
    "*这是斜体*\n",
    "**这是加粗**\n",
    "```\n",
    "\n",
    "显示效果如下："
   ]
  },
  {
   "cell_type": "markdown",
   "metadata": {},
   "source": [
    ">这是引用\n",
    "\n",
    "- 第一节\n",
    "- 第二节\n",
    "- 第三节\n",
    "\n",
    "*这是斜体*\n",
    "\n",
    "**这是加粗**\n"
   ]
  },
  {
   "cell_type": "markdown",
   "metadata": {},
   "source": [
    "#### 公式编辑\n",
    "\n",
    "机器学习者在撰写博客或论坛发帖时，除文字外，经常会利用公式来解释模型、算法，利用Latex语法可以灵活编辑公式，比较全面的说明可以参考这篇优达[博文](http://data-blog.udacity.com/posts/2016/10/latex-primer/)。公式编辑需要在Markdown单元格中进行，以'\\$'符号起始和终止，如下例：\n",
    "```\n",
    "$y = ax + b$\n",
    "```\n",
    "显示为$y = ax + b$。\n",
    "\n",
    "‘_’表示下标，'^'表示上标，如下所示：\n",
    "\n",
    "```\n",
    "$y = \\sum_{i=1}^10 x_i$\n",
    "```\n",
    "$y = \\sum_{i=1}^n x_i$\n",
    "\n",
    "‘\\mid’代表‘|’，‘\\frac’代表分数，如下：\n",
    "```\n",
    " $P(A\\mid B) = \\frac{P(B\\mid A)P(A)}{P(B)}$\n",
    "```\n",
    " $P(A\\mid B) = \\frac{P(B\\mid A)P(A)}{P(B)}$"
   ]
  },
  {
   "cell_type": "markdown",
   "metadata": {},
   "source": [
    "#### 插入链接、图片\n",
    "\n",
    "插入连接、图片方法比较类似，具体如下：\n",
    "- 插入链接\n",
    "\n",
    "```格式为‘[链接名称](链接url地址)’，比如[优达学城](http://cn.udacity.com)。```显示为[优达学城](http://cn.udacity.com)。\n",
    "\n",
    "- 插入图片\n",
    "\n",
    "```格式为![图片名](图片路径或地址)，比如'![图片1](图片1.png)'```，显示为\n",
    "![图片1](图片1.png)"
   ]
  },
  {
   "cell_type": "markdown",
   "metadata": {},
   "source": [
    "### 4.Python编程规范与帮助\n",
    "\n",
    "如同写文章，Python程序编写也需要满足简明、清晰、齐整、注释完善等条件，否则可读性较差。详细的规范可以参考[谷歌PEP 8文件](https://www.python.org/dev/peps/pep-0008/)，也可参加这篇[中文博客](http://blog.csdn.net/waterforest_pang/article/details/25226129).\n",
    "\n",
    "#### Python风格\n",
    "- 不要在行尾加分号, 也不要用分号将两条命令放在同一行，如：\n",
    "```\n",
    "a = 1; b = a + 3\n",
    "```\n",
    "应写成\n",
    "```\n",
    "a = 1\n",
    "b = a + 3\n",
    "```\n",
    "- 每行不超过80个字符，注释里的URL例外，不要使用反斜杠连接行，如：\n",
    "```\n",
    "x = 'This will build a very long long long long long long long long string'\n",
    "```\n",
    "应写成\n",
    "```\n",
    "x = ('This will build a very long long '\n",
    "     'long long long long long long string')\n",
    "```\n",
    "- 用4个空格来缩进代码\n",
    "\n",
    "```\n",
    "for i in range(10):\n",
    "  print(i)\n",
    "\n",
    "```\n",
    "应写成\n",
    "```\n",
    "for i in range(10):\n",
    "   print(i)\n",
    "   \n",
    "```\n",
    "- 按照标准的排版规范来使用标点两边的空格\n",
    "\n",
    "```\n",
    "x,y=3,4\n",
    "for i in range(10):\n",
    "   if i<3:\n",
    "     print x,y\n",
    "```\n",
    "改写成\n",
    "\n",
    "```\n",
    "x, y = 3, 4\n",
    "for i in range(10):\n",
    "   if i < 3:\n",
    "     print x, y\n",
    "```\n",
    "\n",
    "- 引用时注意明确具体的模块\n",
    "\n",
    "```\n",
    "import sys, os\n",
    "```\n",
    "写成\n",
    "```\n",
    "import sys\n",
    "import os\n",
    "```\n",
    "\n",
    "避免使用```from pandas import *```这样的引用方式，在工具管理上可能会造成混乱，最好使用什么对象工具就引用什么。\n",
    "- 注释要详细到位，例如：\n",
    "```\n",
    "def fetch_bigtable_rows(big_table, keys, other_silly_variable=None):\n",
    "    \"\"\"Fetches rows from a Bigtable.\n",
    "\n",
    "    Retrieves rows pertaining to the given keys from the Table instance\n",
    "    represented by big_table.  Silly things may happen if\n",
    "    other_silly_variable is not None.\n",
    "\n",
    "    Args:\n",
    "        big_table: An open Bigtable Table instance.\n",
    "        keys: A sequence of strings representing the key of each table row\n",
    "            to fetch.\n",
    "        other_silly_variable: Another optional variable, that has a much\n",
    "            longer name than the other args, and which does nothing.\n",
    "\n",
    "    Returns:\n",
    "        A dict mapping keys to the corresponding table row data\n",
    "        fetched. Each row is represented as a tuple of strings. For\n",
    "        example:\n",
    "\n",
    "        {'Serak': ('Rigel VII', 'Preparer'),\n",
    "         'Zim': ('Irk', 'Invader'),\n",
    "         'Lrrr': ('Omicron Persei 8', 'Emperor')}\n",
    "\n",
    "        If a key from the keys argument is missing from the dictionary,\n",
    "        then that row was not found in the table.\n",
    "\n",
    "    Raises:\n",
    "        IOError: An error occurred accessing the bigtable.Table object.\n",
    "    \"\"\"\n",
    "    pass\n",
    "```"
   ]
  },
  {
   "cell_type": "markdown",
   "metadata": {},
   "source": [
    "#### Python帮助\n",
    "\n",
    "无论是在Python编程中，还是在应用机器学习算法时，经常会遇到一时难以解决的问题。有两种途径可供参考，一是通过查阅文献自己找到解决办法，二是与他人交流寻求解决方案。\n",
    "- 利用Python自带的帮助文件查看\n",
    "\n",
    "```\n",
    "import os\n",
    "help(os)\n",
    "```"
   ]
  },
  {
   "cell_type": "code",
   "execution_count": 148,
   "metadata": {
    "collapsed": false
   },
   "outputs": [
    {
     "name": "stdout",
     "output_type": "stream",
     "text": [
      "Help on module os:\n",
      "\n",
      "NAME\n",
      "    os - OS routines for NT or Posix depending on what system we're on.\n",
      "\n",
      "FILE\n",
      "    c:\\program files\\anaconda2\\envs\\udacity_review\\lib\\os.py\n",
      "\n",
      "DESCRIPTION\n",
      "    This exports:\n",
      "      - all functions from posix, nt, os2, or ce, e.g. unlink, stat, etc.\n",
      "      - os.path is one of the modules posixpath, or ntpath\n",
      "      - os.name is 'posix', 'nt', 'os2', 'ce' or 'riscos'\n",
      "      - os.curdir is a string representing the current directory ('.' or ':')\n",
      "      - os.pardir is a string representing the parent directory ('..' or '::')\n",
      "      - os.sep is the (or a most common) pathname separator ('/' or ':' or '\\\\')\n",
      "      - os.extsep is the extension separator ('.' or '/')\n",
      "      - os.altsep is the alternate pathname separator (None or '/')\n",
      "      - os.pathsep is the component separator used in $PATH etc\n",
      "      - os.linesep is the line separator in text files ('\\r' or '\\n' or '\\r\\n')\n",
      "      - os.defpath is the default search path for executables\n",
      "      - os.devnull is the file path of the null device ('/dev/null', etc.)\n",
      "    \n",
      "    Programs that import and use 'os' stand a better chance of being\n",
      "    portable between different platforms.  Of course, they must then\n",
      "    only use functions that are defined by all platforms (e.g., unlink\n",
      "    and opendir), and leave all pathname manipulation to os.path\n",
      "    (e.g., split and join).\n",
      "\n",
      "CLASSES\n",
      "    __builtin__.object\n",
      "        nt.stat_result\n",
      "        nt.statvfs_result\n",
      "    exceptions.EnvironmentError(exceptions.StandardError)\n",
      "        exceptions.OSError\n",
      "    \n",
      "    error = class OSError(EnvironmentError)\n",
      "     |  OS system call failed.\n",
      "     |  \n",
      "     |  Method resolution order:\n",
      "     |      OSError\n",
      "     |      EnvironmentError\n",
      "     |      StandardError\n",
      "     |      Exception\n",
      "     |      BaseException\n",
      "     |      __builtin__.object\n",
      "     |  \n",
      "     |  Methods defined here:\n",
      "     |  \n",
      "     |  __init__(...)\n",
      "     |      x.__init__(...) initializes x; see help(type(x)) for signature\n",
      "     |  \n",
      "     |  ----------------------------------------------------------------------\n",
      "     |  Data and other attributes defined here:\n",
      "     |  \n",
      "     |  __new__ = <built-in method __new__ of type object>\n",
      "     |      T.__new__(S, ...) -> a new object with type S, a subtype of T\n",
      "     |  \n",
      "     |  ----------------------------------------------------------------------\n",
      "     |  Methods inherited from EnvironmentError:\n",
      "     |  \n",
      "     |  __reduce__(...)\n",
      "     |  \n",
      "     |  __str__(...)\n",
      "     |      x.__str__() <==> str(x)\n",
      "     |  \n",
      "     |  ----------------------------------------------------------------------\n",
      "     |  Data descriptors inherited from EnvironmentError:\n",
      "     |  \n",
      "     |  errno\n",
      "     |      exception errno\n",
      "     |  \n",
      "     |  filename\n",
      "     |      exception filename\n",
      "     |  \n",
      "     |  strerror\n",
      "     |      exception strerror\n",
      "     |  \n",
      "     |  ----------------------------------------------------------------------\n",
      "     |  Methods inherited from BaseException:\n",
      "     |  \n",
      "     |  __delattr__(...)\n",
      "     |      x.__delattr__('name') <==> del x.name\n",
      "     |  \n",
      "     |  __getattribute__(...)\n",
      "     |      x.__getattribute__('name') <==> x.name\n",
      "     |  \n",
      "     |  __getitem__(...)\n",
      "     |      x.__getitem__(y) <==> x[y]\n",
      "     |  \n",
      "     |  __getslice__(...)\n",
      "     |      x.__getslice__(i, j) <==> x[i:j]\n",
      "     |      \n",
      "     |      Use of negative indices is not supported.\n",
      "     |  \n",
      "     |  __repr__(...)\n",
      "     |      x.__repr__() <==> repr(x)\n",
      "     |  \n",
      "     |  __setattr__(...)\n",
      "     |      x.__setattr__('name', value) <==> x.name = value\n",
      "     |  \n",
      "     |  __setstate__(...)\n",
      "     |  \n",
      "     |  __unicode__(...)\n",
      "     |  \n",
      "     |  ----------------------------------------------------------------------\n",
      "     |  Data descriptors inherited from BaseException:\n",
      "     |  \n",
      "     |  __dict__\n",
      "     |  \n",
      "     |  args\n",
      "     |  \n",
      "     |  message\n",
      "    \n",
      "    class stat_result(__builtin__.object)\n",
      "     |  stat_result: Result from stat or lstat.\n",
      "     |  \n",
      "     |  This object may be accessed either as a tuple of\n",
      "     |    (mode, ino, dev, nlink, uid, gid, size, atime, mtime, ctime)\n",
      "     |  or via the attributes st_mode, st_ino, st_dev, st_nlink, st_uid, and so on.\n",
      "     |  \n",
      "     |  Posix/windows: If your platform supports st_blksize, st_blocks, st_rdev,\n",
      "     |  or st_flags, they are available as attributes only.\n",
      "     |  \n",
      "     |  See os.stat for more information.\n",
      "     |  \n",
      "     |  Methods defined here:\n",
      "     |  \n",
      "     |  __add__(...)\n",
      "     |      x.__add__(y) <==> x+y\n",
      "     |  \n",
      "     |  __contains__(...)\n",
      "     |      x.__contains__(y) <==> y in x\n",
      "     |  \n",
      "     |  __eq__(...)\n",
      "     |      x.__eq__(y) <==> x==y\n",
      "     |  \n",
      "     |  __ge__(...)\n",
      "     |      x.__ge__(y) <==> x>=y\n",
      "     |  \n",
      "     |  __getitem__(...)\n",
      "     |      x.__getitem__(y) <==> x[y]\n",
      "     |  \n",
      "     |  __getslice__(...)\n",
      "     |      x.__getslice__(i, j) <==> x[i:j]\n",
      "     |      \n",
      "     |      Use of negative indices is not supported.\n",
      "     |  \n",
      "     |  __gt__(...)\n",
      "     |      x.__gt__(y) <==> x>y\n",
      "     |  \n",
      "     |  __hash__(...)\n",
      "     |      x.__hash__() <==> hash(x)\n",
      "     |  \n",
      "     |  __le__(...)\n",
      "     |      x.__le__(y) <==> x<=y\n",
      "     |  \n",
      "     |  __len__(...)\n",
      "     |      x.__len__() <==> len(x)\n",
      "     |  \n",
      "     |  __lt__(...)\n",
      "     |      x.__lt__(y) <==> x<y\n",
      "     |  \n",
      "     |  __mul__(...)\n",
      "     |      x.__mul__(n) <==> x*n\n",
      "     |  \n",
      "     |  __ne__(...)\n",
      "     |      x.__ne__(y) <==> x!=y\n",
      "     |  \n",
      "     |  __reduce__(...)\n",
      "     |  \n",
      "     |  __repr__(...)\n",
      "     |      x.__repr__() <==> repr(x)\n",
      "     |  \n",
      "     |  __rmul__(...)\n",
      "     |      x.__rmul__(n) <==> n*x\n",
      "     |  \n",
      "     |  ----------------------------------------------------------------------\n",
      "     |  Data descriptors defined here:\n",
      "     |  \n",
      "     |  st_atime\n",
      "     |      time of last access\n",
      "     |  \n",
      "     |  st_ctime\n",
      "     |      time of last change\n",
      "     |  \n",
      "     |  st_dev\n",
      "     |      device\n",
      "     |  \n",
      "     |  st_gid\n",
      "     |      group ID of owner\n",
      "     |  \n",
      "     |  st_ino\n",
      "     |      inode\n",
      "     |  \n",
      "     |  st_mode\n",
      "     |      protection bits\n",
      "     |  \n",
      "     |  st_mtime\n",
      "     |      time of last modification\n",
      "     |  \n",
      "     |  st_nlink\n",
      "     |      number of hard links\n",
      "     |  \n",
      "     |  st_size\n",
      "     |      total size, in bytes\n",
      "     |  \n",
      "     |  st_uid\n",
      "     |      user ID of owner\n",
      "     |  \n",
      "     |  ----------------------------------------------------------------------\n",
      "     |  Data and other attributes defined here:\n",
      "     |  \n",
      "     |  __new__ = <built-in method __new__ of type object>\n",
      "     |      T.__new__(S, ...) -> a new object with type S, a subtype of T\n",
      "     |  \n",
      "     |  n_fields = 13\n",
      "     |  \n",
      "     |  n_sequence_fields = 10\n",
      "     |  \n",
      "     |  n_unnamed_fields = 3\n",
      "    \n",
      "    class statvfs_result(__builtin__.object)\n",
      "     |  statvfs_result: Result from statvfs or fstatvfs.\n",
      "     |  \n",
      "     |  This object may be accessed either as a tuple of\n",
      "     |    (bsize, frsize, blocks, bfree, bavail, files, ffree, favail, flag, namemax),\n",
      "     |  or via the attributes f_bsize, f_frsize, f_blocks, f_bfree, and so on.\n",
      "     |  \n",
      "     |  See os.statvfs for more information.\n",
      "     |  \n",
      "     |  Methods defined here:\n",
      "     |  \n",
      "     |  __add__(...)\n",
      "     |      x.__add__(y) <==> x+y\n",
      "     |  \n",
      "     |  __contains__(...)\n",
      "     |      x.__contains__(y) <==> y in x\n",
      "     |  \n",
      "     |  __eq__(...)\n",
      "     |      x.__eq__(y) <==> x==y\n",
      "     |  \n",
      "     |  __ge__(...)\n",
      "     |      x.__ge__(y) <==> x>=y\n",
      "     |  \n",
      "     |  __getitem__(...)\n",
      "     |      x.__getitem__(y) <==> x[y]\n",
      "     |  \n",
      "     |  __getslice__(...)\n",
      "     |      x.__getslice__(i, j) <==> x[i:j]\n",
      "     |      \n",
      "     |      Use of negative indices is not supported.\n",
      "     |  \n",
      "     |  __gt__(...)\n",
      "     |      x.__gt__(y) <==> x>y\n",
      "     |  \n",
      "     |  __hash__(...)\n",
      "     |      x.__hash__() <==> hash(x)\n",
      "     |  \n",
      "     |  __le__(...)\n",
      "     |      x.__le__(y) <==> x<=y\n",
      "     |  \n",
      "     |  __len__(...)\n",
      "     |      x.__len__() <==> len(x)\n",
      "     |  \n",
      "     |  __lt__(...)\n",
      "     |      x.__lt__(y) <==> x<y\n",
      "     |  \n",
      "     |  __mul__(...)\n",
      "     |      x.__mul__(n) <==> x*n\n",
      "     |  \n",
      "     |  __ne__(...)\n",
      "     |      x.__ne__(y) <==> x!=y\n",
      "     |  \n",
      "     |  __reduce__(...)\n",
      "     |  \n",
      "     |  __repr__(...)\n",
      "     |      x.__repr__() <==> repr(x)\n",
      "     |  \n",
      "     |  __rmul__(...)\n",
      "     |      x.__rmul__(n) <==> n*x\n",
      "     |  \n",
      "     |  ----------------------------------------------------------------------\n",
      "     |  Data descriptors defined here:\n",
      "     |  \n",
      "     |  f_bavail\n",
      "     |  \n",
      "     |  f_bfree\n",
      "     |  \n",
      "     |  f_blocks\n",
      "     |  \n",
      "     |  f_bsize\n",
      "     |  \n",
      "     |  f_favail\n",
      "     |  \n",
      "     |  f_ffree\n",
      "     |  \n",
      "     |  f_files\n",
      "     |  \n",
      "     |  f_flag\n",
      "     |  \n",
      "     |  f_frsize\n",
      "     |  \n",
      "     |  f_namemax\n",
      "     |  \n",
      "     |  ----------------------------------------------------------------------\n",
      "     |  Data and other attributes defined here:\n",
      "     |  \n",
      "     |  __new__ = <built-in method __new__ of type object>\n",
      "     |      T.__new__(S, ...) -> a new object with type S, a subtype of T\n",
      "     |  \n",
      "     |  n_fields = 10\n",
      "     |  \n",
      "     |  n_sequence_fields = 10\n",
      "     |  \n",
      "     |  n_unnamed_fields = 0\n",
      "\n",
      "FUNCTIONS\n",
      "    abort(...)\n",
      "        abort() -> does not return!\n",
      "        \n",
      "        Abort the interpreter immediately.  This 'dumps core' or otherwise fails\n",
      "        in the hardest way possible on the hosting operating system.\n",
      "    \n",
      "    access(...)\n",
      "        access(path, mode) -> True if granted, False otherwise\n",
      "        \n",
      "        Use the real uid/gid to test for access to a path.  Note that most\n",
      "        operations will use the effective uid/gid, therefore this routine can\n",
      "        be used in a suid/sgid environment to test if the invoking user has the\n",
      "        specified access to the path.  The mode argument can be F_OK to test\n",
      "        existence, or the inclusive-OR of R_OK, W_OK, and X_OK.\n",
      "    \n",
      "    chdir(...)\n",
      "        chdir(path)\n",
      "        \n",
      "        Change the current working directory to the specified path.\n",
      "    \n",
      "    chmod(...)\n",
      "        chmod(path, mode)\n",
      "        \n",
      "        Change the access permissions of a file.\n",
      "    \n",
      "    close(...)\n",
      "        close(fd)\n",
      "        \n",
      "        Close a file descriptor (for low level IO).\n",
      "    \n",
      "    closerange(...)\n",
      "        closerange(fd_low, fd_high)\n",
      "        \n",
      "        Closes all file descriptors in [fd_low, fd_high), ignoring errors.\n",
      "    \n",
      "    dup(...)\n",
      "        dup(fd) -> fd2\n",
      "        \n",
      "        Return a duplicate of a file descriptor.\n",
      "    \n",
      "    dup2(...)\n",
      "        dup2(old_fd, new_fd)\n",
      "        \n",
      "        Duplicate file descriptor.\n",
      "    \n",
      "    execl(file, *args)\n",
      "        execl(file, *args)\n",
      "        \n",
      "        Execute the executable file with argument list args, replacing the\n",
      "        current process.\n",
      "    \n",
      "    execle(file, *args)\n",
      "        execle(file, *args, env)\n",
      "        \n",
      "        Execute the executable file with argument list args and\n",
      "        environment env, replacing the current process.\n",
      "    \n",
      "    execlp(file, *args)\n",
      "        execlp(file, *args)\n",
      "        \n",
      "        Execute the executable file (which is searched for along $PATH)\n",
      "        with argument list args, replacing the current process.\n",
      "    \n",
      "    execlpe(file, *args)\n",
      "        execlpe(file, *args, env)\n",
      "        \n",
      "        Execute the executable file (which is searched for along $PATH)\n",
      "        with argument list args and environment env, replacing the current\n",
      "        process.\n",
      "    \n",
      "    execv(...)\n",
      "        execv(path, args)\n",
      "        \n",
      "        Execute an executable path with arguments, replacing current process.\n",
      "        \n",
      "            path: path of executable file\n",
      "            args: tuple or list of strings\n",
      "    \n",
      "    execve(...)\n",
      "        execve(path, args, env)\n",
      "        \n",
      "        Execute a path with arguments and environment, replacing current process.\n",
      "        \n",
      "            path: path of executable file\n",
      "            args: tuple or list of arguments\n",
      "            env: dictionary of strings mapping to strings\n",
      "    \n",
      "    execvp(file, args)\n",
      "        execvp(file, args)\n",
      "        \n",
      "        Execute the executable file (which is searched for along $PATH)\n",
      "        with argument list args, replacing the current process.\n",
      "        args may be a list or tuple of strings.\n",
      "    \n",
      "    execvpe(file, args, env)\n",
      "        execvpe(file, args, env)\n",
      "        \n",
      "        Execute the executable file (which is searched for along $PATH)\n",
      "        with argument list args and environment env , replacing the\n",
      "        current process.\n",
      "        args may be a list or tuple of strings.\n",
      "    \n",
      "    fdopen(...)\n",
      "        fdopen(fd [, mode='r' [, bufsize]]) -> file_object\n",
      "        \n",
      "        Return an open file object connected to a file descriptor.\n",
      "    \n",
      "    fstat(...)\n",
      "        fstat(fd) -> stat result\n",
      "        \n",
      "        Like stat(), but for an open file descriptor.\n",
      "    \n",
      "    fsync(...)\n",
      "        fsync(fildes)\n",
      "        \n",
      "        force write of file with filedescriptor to disk.\n",
      "    \n",
      "    getcwd(...)\n",
      "        getcwd() -> path\n",
      "        \n",
      "        Return a string representing the current working directory.\n",
      "    \n",
      "    getcwdu(...)\n",
      "        getcwdu() -> path\n",
      "        \n",
      "        Return a unicode string representing the current working directory.\n",
      "    \n",
      "    getenv(key, default=None)\n",
      "        Get an environment variable, return None if it doesn't exist.\n",
      "        The optional second argument can specify an alternate default.\n",
      "    \n",
      "    getpid(...)\n",
      "        getpid() -> pid\n",
      "        \n",
      "        Return the current process id\n",
      "    \n",
      "    isatty(...)\n",
      "        isatty(fd) -> bool\n",
      "        \n",
      "        Return True if the file descriptor 'fd' is an open file descriptor\n",
      "        connected to the slave end of a terminal.\n",
      "    \n",
      "    kill(...)\n",
      "        kill(pid, sig)\n",
      "        \n",
      "        Kill a process with a signal.\n",
      "    \n",
      "    listdir(...)\n",
      "        listdir(path) -> list_of_strings\n",
      "        \n",
      "        Return a list containing the names of the entries in the directory.\n",
      "        \n",
      "            path: path of directory to list\n",
      "        \n",
      "        The list is in arbitrary order.  It does not include the special\n",
      "        entries '.' and '..' even if they are present in the directory.\n",
      "    \n",
      "    lseek(...)\n",
      "        lseek(fd, pos, how) -> newpos\n",
      "        \n",
      "        Set the current position of a file descriptor.\n",
      "        Return the new cursor position in bytes, starting from the beginning.\n",
      "    \n",
      "    lstat(...)\n",
      "        lstat(path) -> stat result\n",
      "        \n",
      "        Like stat(path), but do not follow symbolic links.\n",
      "    \n",
      "    makedirs(name, mode=511)\n",
      "        makedirs(path [, mode=0777])\n",
      "        \n",
      "        Super-mkdir; create a leaf directory and all intermediate ones.\n",
      "        Works like mkdir, except that any intermediate path segment (not\n",
      "        just the rightmost) will be created if it does not exist.  This is\n",
      "        recursive.\n",
      "    \n",
      "    mkdir(...)\n",
      "        mkdir(path [, mode=0777])\n",
      "        \n",
      "        Create a directory.\n",
      "    \n",
      "    open(...)\n",
      "        open(filename, flag [, mode=0777]) -> fd\n",
      "        \n",
      "        Open a file (for low level IO).\n",
      "    \n",
      "    pipe(...)\n",
      "        pipe() -> (read_end, write_end)\n",
      "        \n",
      "        Create a pipe.\n",
      "    \n",
      "    popen(...)\n",
      "        popen(command [, mode='r' [, bufsize]]) -> pipe\n",
      "        \n",
      "        Open a pipe to/from a command returning a file object.\n",
      "    \n",
      "    popen2(...)\n",
      "    \n",
      "    popen3(...)\n",
      "    \n",
      "    popen4(...)\n",
      "    \n",
      "    putenv(...)\n",
      "        putenv(key, value)\n",
      "        \n",
      "        Change or add an environment variable.\n",
      "    \n",
      "    read(...)\n",
      "        read(fd, buffersize) -> string\n",
      "        \n",
      "        Read a file descriptor.\n",
      "    \n",
      "    remove(...)\n",
      "        remove(path)\n",
      "        \n",
      "        Remove a file (same as unlink(path)).\n",
      "    \n",
      "    removedirs(name)\n",
      "        removedirs(path)\n",
      "        \n",
      "        Super-rmdir; remove a leaf directory and all empty intermediate\n",
      "        ones.  Works like rmdir except that, if the leaf directory is\n",
      "        successfully removed, directories corresponding to rightmost path\n",
      "        segments will be pruned away until either the whole path is\n",
      "        consumed or an error occurs.  Errors during this latter phase are\n",
      "        ignored -- they generally mean that a directory was not empty.\n",
      "    \n",
      "    rename(...)\n",
      "        rename(old, new)\n",
      "        \n",
      "        Rename a file or directory.\n",
      "    \n",
      "    renames(old, new)\n",
      "        renames(old, new)\n",
      "        \n",
      "        Super-rename; create directories as necessary and delete any left\n",
      "        empty.  Works like rename, except creation of any intermediate\n",
      "        directories needed to make the new pathname good is attempted\n",
      "        first.  After the rename, directories corresponding to rightmost\n",
      "        path segments of the old name will be pruned until either the\n",
      "        whole path is consumed or a nonempty directory is found.\n",
      "        \n",
      "        Note: this function can fail with the new directory structure made\n",
      "        if you lack permissions needed to unlink the leaf directory or\n",
      "        file.\n",
      "    \n",
      "    rmdir(...)\n",
      "        rmdir(path)\n",
      "        \n",
      "        Remove a directory.\n",
      "    \n",
      "    spawnl(mode, file, *args)\n",
      "        spawnl(mode, file, *args) -> integer\n",
      "        \n",
      "        Execute file with arguments from args in a subprocess.\n",
      "        If mode == P_NOWAIT return the pid of the process.\n",
      "        If mode == P_WAIT return the process's exit code if it exits normally;\n",
      "        otherwise return -SIG, where SIG is the signal that killed it.\n",
      "    \n",
      "    spawnle(mode, file, *args)\n",
      "        spawnle(mode, file, *args, env) -> integer\n",
      "        \n",
      "        Execute file with arguments from args in a subprocess with the\n",
      "        supplied environment.\n",
      "        If mode == P_NOWAIT return the pid of the process.\n",
      "        If mode == P_WAIT return the process's exit code if it exits normally;\n",
      "        otherwise return -SIG, where SIG is the signal that killed it.\n",
      "    \n",
      "    spawnv(...)\n",
      "        spawnv(mode, path, args)\n",
      "        \n",
      "        Execute the program 'path' in a new process.\n",
      "        \n",
      "            mode: mode of process creation\n",
      "            path: path of executable file\n",
      "            args: tuple or list of strings\n",
      "    \n",
      "    spawnve(...)\n",
      "        spawnve(mode, path, args, env)\n",
      "        \n",
      "        Execute the program 'path' in a new process.\n",
      "        \n",
      "            mode: mode of process creation\n",
      "            path: path of executable file\n",
      "            args: tuple or list of arguments\n",
      "            env: dictionary of strings mapping to strings\n",
      "    \n",
      "    startfile(...)\n",
      "        startfile(filepath [, operation]) - Start a file with its associated\n",
      "        application.\n",
      "        \n",
      "        When \"operation\" is not specified or \"open\", this acts like\n",
      "        double-clicking the file in Explorer, or giving the file name as an\n",
      "        argument to the DOS \"start\" command: the file is opened with whatever\n",
      "        application (if any) its extension is associated.\n",
      "        When another \"operation\" is given, it specifies what should be done with\n",
      "        the file.  A typical operation is \"print\".\n",
      "        \n",
      "        startfile returns as soon as the associated application is launched.\n",
      "        There is no option to wait for the application to close, and no way\n",
      "        to retrieve the application's exit status.\n",
      "        \n",
      "        The filepath is relative to the current directory.  If you want to use\n",
      "        an absolute path, make sure the first character is not a slash (\"/\");\n",
      "        the underlying Win32 ShellExecute function doesn't work if it is.\n",
      "    \n",
      "    stat(...)\n",
      "        stat(path) -> stat result\n",
      "        \n",
      "        Perform a stat system call on the given path.\n",
      "    \n",
      "    stat_float_times(...)\n",
      "        stat_float_times([newval]) -> oldval\n",
      "        \n",
      "        Determine whether os.[lf]stat represents time stamps as float objects.\n",
      "        If newval is True, future calls to stat() return floats, if it is False,\n",
      "        future calls return ints. \n",
      "        If newval is omitted, return the current setting.\n",
      "    \n",
      "    strerror(...)\n",
      "        strerror(code) -> string\n",
      "        \n",
      "        Translate an error code to a message string.\n",
      "    \n",
      "    system(...)\n",
      "        system(command) -> exit_status\n",
      "        \n",
      "        Execute the command (a string) in a subshell.\n",
      "    \n",
      "    tempnam(...)\n",
      "        tempnam([dir[, prefix]]) -> string\n",
      "        \n",
      "        Return a unique name for a temporary file.\n",
      "        The directory and a prefix may be specified as strings; they may be omitted\n",
      "        or None if not needed.\n",
      "    \n",
      "    times(...)\n",
      "        times() -> (utime, stime, cutime, cstime, elapsed_time)\n",
      "        \n",
      "        Return a tuple of floating point numbers indicating process times.\n",
      "    \n",
      "    tmpfile(...)\n",
      "        tmpfile() -> file object\n",
      "        \n",
      "        Create a temporary file with no directory entries.\n",
      "    \n",
      "    tmpnam(...)\n",
      "        tmpnam() -> string\n",
      "        \n",
      "        Return a unique name for a temporary file.\n",
      "    \n",
      "    umask(...)\n",
      "        umask(new_mask) -> old_mask\n",
      "        \n",
      "        Set the current numeric umask and return the previous umask.\n",
      "    \n",
      "    unlink(...)\n",
      "        unlink(path)\n",
      "        \n",
      "        Remove a file (same as remove(path)).\n",
      "    \n",
      "    urandom(...)\n",
      "        urandom(n) -> str\n",
      "        \n",
      "        Return n random bytes suitable for cryptographic use.\n",
      "    \n",
      "    utime(...)\n",
      "        utime(path, (atime, mtime))\n",
      "        utime(path, None)\n",
      "        \n",
      "        Set the access and modified time of the file to the given values.  If the\n",
      "        second form is used, set the access and modified times to the current time.\n",
      "    \n",
      "    waitpid(...)\n",
      "        waitpid(pid, options) -> (pid, status << 8)\n",
      "        \n",
      "        Wait for completion of a given process.  options is ignored on Windows.\n",
      "    \n",
      "    walk(top, topdown=True, onerror=None, followlinks=False)\n",
      "        Directory tree generator.\n",
      "        \n",
      "        For each directory in the directory tree rooted at top (including top\n",
      "        itself, but excluding '.' and '..'), yields a 3-tuple\n",
      "        \n",
      "            dirpath, dirnames, filenames\n",
      "        \n",
      "        dirpath is a string, the path to the directory.  dirnames is a list of\n",
      "        the names of the subdirectories in dirpath (excluding '.' and '..').\n",
      "        filenames is a list of the names of the non-directory files in dirpath.\n",
      "        Note that the names in the lists are just names, with no path components.\n",
      "        To get a full path (which begins with top) to a file or directory in\n",
      "        dirpath, do os.path.join(dirpath, name).\n",
      "        \n",
      "        If optional arg 'topdown' is true or not specified, the triple for a\n",
      "        directory is generated before the triples for any of its subdirectories\n",
      "        (directories are generated top down).  If topdown is false, the triple\n",
      "        for a directory is generated after the triples for all of its\n",
      "        subdirectories (directories are generated bottom up).\n",
      "        \n",
      "        When topdown is true, the caller can modify the dirnames list in-place\n",
      "        (e.g., via del or slice assignment), and walk will only recurse into the\n",
      "        subdirectories whose names remain in dirnames; this can be used to prune the\n",
      "        search, or to impose a specific order of visiting.  Modifying dirnames when\n",
      "        topdown is false is ineffective, since the directories in dirnames have\n",
      "        already been generated by the time dirnames itself is generated. No matter\n",
      "        the value of topdown, the list of subdirectories is retrieved before the\n",
      "        tuples for the directory and its subdirectories are generated.\n",
      "        \n",
      "        By default errors from the os.listdir() call are ignored.  If\n",
      "        optional arg 'onerror' is specified, it should be a function; it\n",
      "        will be called with one argument, an os.error instance.  It can\n",
      "        report the error to continue with the walk, or raise the exception\n",
      "        to abort the walk.  Note that the filename is available as the\n",
      "        filename attribute of the exception object.\n",
      "        \n",
      "        By default, os.walk does not follow symbolic links to subdirectories on\n",
      "        systems that support them.  In order to get this functionality, set the\n",
      "        optional argument 'followlinks' to true.\n",
      "        \n",
      "        Caution:  if you pass a relative pathname for top, don't change the\n",
      "        current working directory between resumptions of walk.  walk never\n",
      "        changes the current directory, and assumes that the client doesn't\n",
      "        either.\n",
      "        \n",
      "        Example:\n",
      "        \n",
      "        import os\n",
      "        from os.path import join, getsize\n",
      "        for root, dirs, files in os.walk('python/Lib/email'):\n",
      "            print root, \"consumes\",\n",
      "            print sum([getsize(join(root, name)) for name in files]),\n",
      "            print \"bytes in\", len(files), \"non-directory files\"\n",
      "            if 'CVS' in dirs:\n",
      "                dirs.remove('CVS')  # don't visit CVS directories\n",
      "    \n",
      "    write(...)\n",
      "        write(fd, string) -> byteswritten\n",
      "        \n",
      "        Write a string to a file descriptor.\n",
      "\n",
      "DATA\n",
      "    F_OK = 0\n",
      "    O_APPEND = 8\n",
      "    O_BINARY = 32768\n",
      "    O_CREAT = 256\n",
      "    O_EXCL = 1024\n",
      "    O_NOINHERIT = 128\n",
      "    O_RANDOM = 16\n",
      "    O_RDONLY = 0\n",
      "    O_RDWR = 2\n",
      "    O_SEQUENTIAL = 32\n",
      "    O_SHORT_LIVED = 4096\n",
      "    O_TEMPORARY = 64\n",
      "    O_TEXT = 16384\n",
      "    O_TRUNC = 512\n",
      "    O_WRONLY = 1\n",
      "    P_DETACH = 4\n",
      "    P_NOWAIT = 1\n",
      "    P_NOWAITO = 3\n",
      "    P_OVERLAY = 2\n",
      "    P_WAIT = 0\n",
      "    R_OK = 4\n",
      "    SEEK_CUR = 1\n",
      "    SEEK_END = 2\n",
      "    SEEK_SET = 0\n",
      "    TMP_MAX = 32767\n",
      "    W_OK = 2\n",
      "    X_OK = 1\n",
      "    __all__ = ['altsep', 'curdir', 'pardir', 'sep', 'extsep', 'pathsep', '...\n",
      "    altsep = '/'\n",
      "    curdir = '.'\n",
      "    defpath = r'.;C:\\bin'\n",
      "    devnull = 'nul'\n",
      "    environ = {'TMP': 'C:\\\\Users\\\\ADMINI~1\\\\AppData\\\\Local\\\\Te...'868', 'U...\n",
      "    extsep = '.'\n",
      "    linesep = '\\r\\n'\n",
      "    name = 'nt'\n",
      "    pardir = '..'\n",
      "    pathsep = ';'\n",
      "    sep = r'\\'\n",
      "\n",
      "\n"
     ]
    }
   ],
   "source": [
    "import os\n",
    "help(os)"
   ]
  },
  {
   "cell_type": "markdown",
   "metadata": {},
   "source": [
    "- 利用官方网站、百度、谷歌、[stackoverflow](http://stackoverflow.com/)查询解决方案\n",
    "- 在微信群里、论坛里发帖向他人请教。优达学城论坛里有很多以前学员在学习过程中问过的问题及解答，可供参考。"
   ]
  },
  {
   "cell_type": "markdown",
   "metadata": {},
   "source": [
    "#### Python程序调试\n",
    "\n",
    "Python自带的pdb库可以对程序进行调试，Python官方文档上有[详细说明](https://docs.python.org/3/library/pdb.html)。更多的调试方式可以查看[文档](https://www.ibm.com/developerworks/cn/linux/l-cn-pythondebugger/)。\n",
    "```\n",
    "import math\n",
    "a = -1\n",
    "math.log(a)\n",
    "```"
   ]
  },
  {
   "cell_type": "markdown",
   "metadata": {},
   "source": [
    "### 3.Numpy&Pandas简介"
   ]
  },
  {
   "cell_type": "markdown",
   "metadata": {},
   "source": [
    "Python自带的基本数据类型除了整型、浮点性等外，有特色的当属链表list和字典dict。但是在科学计算、数据分析时，这些常用的基本数据类型远远不够，通常会使用numpy、pandas工具包来进行开发。\n",
    "### Numpy\n",
    "numpy的特点在与具有强大的科学计算功能，比如便捷灵活的数组操作工具。\n",
    "\n",
    "- 创建、操作数组。"
   ]
  },
  {
   "cell_type": "code",
   "execution_count": 31,
   "metadata": {
    "collapsed": false
   },
   "outputs": [
    {
     "name": "stdout",
     "output_type": "stream",
     "text": [
      "('1D Array:', array([ 1.,  2.,  3.,  4.]))\n",
      "('2D Array:', array([[ 1.,  2.,  3.,  4.],\n",
      "       [ 2.,  4.,  7.,  1.]]))\n",
      "('3D Array:', array([[[ 1.,  2.,  3.,  4.]],\n",
      "\n",
      "       [[ 2.,  4.,  7.,  1.]],\n",
      "\n",
      "       [[ 3.,  2.,  1.,  5.]]]))\n",
      "('Shape:', (3L, 1L, 4L))\n"
     ]
    }
   ],
   "source": [
    "##利用链表创建1D数组\n",
    "a = np.array([1, 2, 3, 4], float)\n",
    "print('1D Array:', a)\n",
    "#创建2D数组\n",
    "a = np.array([[1, 2, 3, 4],\n",
    "              [2, 4, 7, 1]],float)\n",
    "print('2D Array:', a)\n",
    "#创建3D数组\n",
    "a = np.array([[[1, 2, 3, 4]],\n",
    "             [[2, 4, 7, 1]],\n",
    "              [[3, 2, 1, 5]]],float)\n",
    "print('3D Array:', a)\n",
    "print('Shape:', a.shape)"
   ]
  },
  {
   "cell_type": "code",
   "execution_count": 32,
   "metadata": {
    "collapsed": false
   },
   "outputs": [
    {
     "name": "stdout",
     "output_type": "stream",
     "text": [
      "('Dimesnion:', 3)\n",
      "('Shape:', (3L, 5L, 2L))\n",
      "('Data Type:', 'int32')\n",
      "('Size:', 30)\n"
     ]
    }
   ],
   "source": [
    "#数组纬度变化\n",
    "a = np.arange(30).reshape(3, 5, 2)\n",
    "print(a)\n",
    "print('Dimesnion:', a.ndim)\n",
    "print('Shape:', a.shape)\n",
    "print('Data Type:', a.dtype.name)\n",
    "print('Size:', a.size)"
   ]
  },
  {
   "cell_type": "markdown",
   "metadata": {},
   "source": [
    "#### 随机数"
   ]
  },
  {
   "cell_type": "code",
   "execution_count": 135,
   "metadata": {
    "collapsed": false
   },
   "outputs": [
    {
     "name": "stdout",
     "output_type": "stream",
     "text": [
      "('Array of Normal Distribution:', array([[-0.41675785, -0.05626683, -2.1361961 ,  1.64027081, -1.79343559,\n",
      "        -0.84174737],\n",
      "       [ 0.50288142, -1.24528809, -1.05795222, -0.90900761,  0.55145404,\n",
      "         2.29220801],\n",
      "       [ 0.04153939, -1.11792545,  0.53905832, -0.5961597 , -0.0191305 ,\n",
      "         1.17500122],\n",
      "       [-0.74787095,  0.00902525, -0.87810789, -0.15643417,  0.25657045,\n",
      "        -0.98877905],\n",
      "       [-0.33882197, -0.23618403, -0.63765501, -1.18761229, -1.42121723,\n",
      "        -0.1534952 ]]))\n"
     ]
    }
   ],
   "source": [
    "#创建随机数\n",
    "np.random.seed(2)\n",
    "a = np.random.randn(5, 6)\n",
    "print('Array of Normal Distribution:', a)"
   ]
  },
  {
   "cell_type": "code",
   "execution_count": 141,
   "metadata": {
    "collapsed": false
   },
   "outputs": [
    {
     "name": "stdout",
     "output_type": "stream",
     "text": [
      "[ 8 15]\n",
      "[12, 0, 14, 6, 19, 15, 3, 10, 9, 4, 5, 16, 1, 2, 7, 18, 17, 11, 8, 13]\n"
     ]
    }
   ],
   "source": [
    "#随机选择2个数\n",
    "np.random.seed(2)\n",
    "a = range(20)\n",
    "print(np.random.choice(a, 2))\n",
    "#随机排序\n",
    "np.random.shuffle(a)\n",
    "print(a)"
   ]
  },
  {
   "cell_type": "code",
   "execution_count": 129,
   "metadata": {
    "collapsed": false
   },
   "outputs": [
    {
     "name": "stdout",
     "output_type": "stream",
     "text": [
      "[0 1 2 3 4 5 6 7 8 9]\n",
      "[  0.     2.75   5.5    8.25  11.  ]\n"
     ]
    }
   ],
   "source": [
    "#创建序列\n",
    "a = np.arange(10)\n",
    "print(a)\n",
    "a = np.linspace(0, 11, 5)\n",
    "print(a)"
   ]
  },
  {
   "cell_type": "markdown",
   "metadata": {},
   "source": [
    "#### 科学计算"
   ]
  },
  {
   "cell_type": "code",
   "execution_count": 20,
   "metadata": {
    "collapsed": false
   },
   "outputs": [
    {
     "data": {
      "text/plain": [
       "1.6690459207925603"
      ]
     },
     "execution_count": 20,
     "metadata": {},
     "output_type": "execute_result"
    }
   ],
   "source": [
    "def standardDeviation(X):\n",
    "    \"\"\"\n",
    "    计算变量X的样本方差\n",
    "    输入： 一维数组X\n",
    "    输出：方差\n",
    "    \"\"\"\n",
    "    if X is None:\n",
    "        print('Input Error!')\n",
    "    else:\n",
    "        x_mean = np.mean(X)\n",
    "        s = 0\n",
    "        for item in X:\n",
    "            s += (item - x_mean)**2\n",
    "        if len(X) > 1:\n",
    "            s /= (len(X) - 1)\n",
    "        else:\n",
    "            s = 0\n",
    "        return np.sqrt(s)\n",
    "\n",
    "X = np.array([1, 2, 3, 4, 5, 6, 2, 3])\n",
    "standardDeviation(X)"
   ]
  },
  {
   "cell_type": "code",
   "execution_count": 34,
   "metadata": {
    "collapsed": false
   },
   "outputs": [
    {
     "data": {
      "text/plain": [
       "1.5612494995995996"
      ]
     },
     "execution_count": 34,
     "metadata": {},
     "output_type": "execute_result"
    }
   ],
   "source": [
    "np.std(X)"
   ]
  },
  {
   "cell_type": "markdown",
   "metadata": {},
   "source": [
    "### Pandas\n",
    "\n",
    "pandas工具包具有强劲的数据分析功能，能够对数据进行读写、清洗、变换、统计分析，支持csv、jason、excel等多种格式，是机器学习中常用工具。关于pandas数据分析具体功能可以参考《Python for Data Analysis》或优达学城数据分析课程及学位。"
   ]
  },
  {
   "cell_type": "code",
   "execution_count": 5,
   "metadata": {
    "collapsed": false
   },
   "outputs": [
    {
     "name": "stdout",
     "output_type": "stream",
     "text": [
      "0           Dave\n",
      "1      Cheng-Han\n",
      "2        Udacity\n",
      "3             42\n",
      "4    -1789710578\n",
      "dtype: object\n"
     ]
    }
   ],
   "source": [
    "#创建一个序列\n",
    "import pandas as pd\n",
    "series = pd.Series(['Dave', 'Cheng-Han', 'Udacity', 42, -1789710578])\n",
    "print (series)"
   ]
  },
  {
   "cell_type": "code",
   "execution_count": 10,
   "metadata": {
    "collapsed": false
   },
   "outputs": [
    {
     "name": "stdout",
     "output_type": "stream",
     "text": [
      "   losses     team  wins  year\n",
      "0       5    Bears    11  2010\n",
      "1       8    Bears     8  2011\n",
      "2       6    Bears    10  2012\n",
      "3       1  Packers    15  2011\n",
      "4       5  Packers    11  2012\n",
      "5      10    Lions     6  2010\n",
      "6       6    Lions    10  2011\n",
      "7      12    Lions     4  2012\n"
     ]
    }
   ],
   "source": [
    "#创建一个dataframe\n",
    "#首先创建一个字典\n",
    "data = {'year': [2010, 2011, 2012, 2011, 2012, 2010, 2011, 2012],\n",
    "        'team': ['Bears', 'Bears', 'Bears', 'Packers', 'Packers', 'Lions',\n",
    "                 'Lions', 'Lions'],\n",
    "        'wins': [11, 8, 10, 15, 11, 6, 10, 4],\n",
    "        'losses': [5, 8, 6, 1, 5, 10, 6, 12]}\n",
    "football = pd.DataFrame(data)\n",
    "print (football)"
   ]
  },
  {
   "cell_type": "code",
   "execution_count": 11,
   "metadata": {
    "collapsed": false
   },
   "outputs": [
    {
     "name": "stdout",
     "output_type": "stream",
     "text": [
      " \n",
      "<class 'pandas.core.frame.DataFrame'>\n",
      "RangeIndex: 8 entries, 0 to 7\n",
      "Data columns (total 4 columns):\n",
      "losses    8 non-null int64\n",
      "team      8 non-null object\n",
      "wins      8 non-null int64\n",
      "year      8 non-null int64\n",
      "dtypes: int64(3), object(1)\n",
      "memory usage: 328.0+ bytes\n",
      "None\n"
     ]
    }
   ],
   "source": [
    "print(' ')\n",
    "print (football.info())"
   ]
  },
  {
   "cell_type": "code",
   "execution_count": 13,
   "metadata": {
    "collapsed": false
   },
   "outputs": [
    {
     "name": "stdout",
     "output_type": "stream",
     "text": [
      "\n",
      "          losses       wins         year\n",
      "count   8.000000   8.000000     8.000000\n",
      "mean    6.625000   9.375000  2011.125000\n",
      "std     3.377975   3.377975     0.834523\n",
      "min     1.000000   4.000000  2010.000000\n",
      "25%     5.000000   7.500000  2010.750000\n",
      "50%     6.000000  10.000000  2011.000000\n",
      "75%     8.500000  11.000000  2012.000000\n",
      "max    12.000000  15.000000  2012.000000\n"
     ]
    }
   ],
   "source": [
    "print (\"\")\n",
    "print (football.describe())"
   ]
  },
  {
   "cell_type": "code",
   "execution_count": 16,
   "metadata": {
    "collapsed": false
   },
   "outputs": [
    {
     "data": {
      "text/plain": [
       "3.1598061649411346"
      ]
     },
     "execution_count": 16,
     "metadata": {},
     "output_type": "execute_result"
    }
   ],
   "source": [
    "#Pandas的std计算与numpy中std不一致\n",
    "np.std(football.losses)"
   ]
  },
  {
   "cell_type": "code",
   "execution_count": 14,
   "metadata": {
    "collapsed": false
   },
   "outputs": [
    {
     "name": "stdout",
     "output_type": "stream",
     "text": [
      "\n",
      "   losses     team  wins  year\n",
      "0       5    Bears    11  2010\n",
      "1       8    Bears     8  2011\n",
      "2       6    Bears    10  2012\n",
      "3       1  Packers    15  2011\n",
      "4       5  Packers    11  2012\n",
      "\n",
      "   losses     team  wins  year\n",
      "3       1  Packers    15  2011\n",
      "4       5  Packers    11  2012\n",
      "5      10    Lions     6  2010\n",
      "6       6    Lions    10  2011\n",
      "7      12    Lions     4  2012\n"
     ]
    }
   ],
   "source": [
    "print (\"\")\n",
    "print (football.head())\n",
    "print (\"\")\n",
    "print (football.tail())"
   ]
  },
  {
   "cell_type": "code",
   "execution_count": 17,
   "metadata": {
    "collapsed": false
   },
   "outputs": [
    {
     "data": {
      "text/plain": [
       "team     year\n",
       "Bears    2010     5\n",
       "         2011     8\n",
       "         2012     6\n",
       "Lions    2010    10\n",
       "         2011     6\n",
       "         2012    12\n",
       "Packers  2011     1\n",
       "         2012     5\n",
       "Name: losses, dtype: int64"
      ]
     },
     "execution_count": 17,
     "metadata": {},
     "output_type": "execute_result"
    }
   ],
   "source": [
    "#求解平均值\n",
    "football.groupby(['team', 'year']).losses.mean()"
   ]
  },
  {
   "cell_type": "markdown",
   "metadata": {
    "slideshow": {
     "slide_type": "slide"
    }
   },
   "source": [
    "### sklearn\n",
    "\n",
    "[sklearn](http://scikit-learn.org/stable/documentation.html)是机器学习方面通用的Python工具包，基本上涵盖了常规的监督和非监督学习模型以及模型评估验证的各类工具。其使用方法非常简便明了，符合一般人的思维逻辑。用户只需定制输入数据、输入参数即可，其运算过程封装在工具包里，启动训练和预测就可以完成机器学习模型的应用。主要有以下部分：\n",
    "- 模型。比如svm，tree，neighbors, naive_bayes，linear_model\n",
    "- 指标。比如准确度，最小均方差等。\n",
    "- 模型选择。比如训练集测试集划分，交叉验证，网格搜素等。\n",
    "- 工具。数据加载包，数据预处理，特征抽取，特征选择。\n",
    "\n",
    "具体见下例:"
   ]
  },
  {
   "cell_type": "code",
   "execution_count": 40,
   "metadata": {
    "collapsed": false
   },
   "outputs": [
    {
     "data": {
      "text/plain": [
       "['__SKLEARN_SETUP__',\n",
       " '__all__',\n",
       " '__builtins__',\n",
       " '__cached__',\n",
       " '__check_build',\n",
       " '__doc__',\n",
       " '__file__',\n",
       " '__loader__',\n",
       " '__name__',\n",
       " '__package__',\n",
       " '__path__',\n",
       " '__spec__',\n",
       " '__version__',\n",
       " 'base',\n",
       " 'clone',\n",
       " 'datasets',\n",
       " 'exceptions',\n",
       " 'externals',\n",
       " 'feature_extraction',\n",
       " 'feature_selection',\n",
       " 'gaussian_process',\n",
       " 'linear_model',\n",
       " 'metrics',\n",
       " 'model_selection',\n",
       " 'multiclass',\n",
       " 'naive_bayes',\n",
       " 'neighbors',\n",
       " 'neural_network',\n",
       " 'preprocessing',\n",
       " 'random_projection',\n",
       " 're',\n",
       " 'setup_module',\n",
       " 'svm',\n",
       " 'sys',\n",
       " 'tree',\n",
       " 'utils',\n",
       " 'warnings']"
      ]
     },
     "execution_count": 40,
     "metadata": {},
     "output_type": "execute_result"
    }
   ],
   "source": [
    "import sklearn\n",
    "dir(sklearn)"
   ]
  },
  {
   "cell_type": "code",
   "execution_count": 2,
   "metadata": {
    "collapsed": false
   },
   "outputs": [
    {
     "name": "stdout",
     "output_type": "stream",
     "text": [
      "Data shape (150, 4)\n",
      "Head of Data [[ 5.1  3.5  1.4  0.2]\n",
      " [ 4.9  3.   1.4  0.2]\n",
      " [ 4.7  3.2  1.3  0.2]\n",
      " [ 4.6  3.1  1.5  0.2]\n",
      " [ 5.   3.6  1.4  0.2]]\n",
      "Head of Target [0 0 0 0 0]\n"
     ]
    },
    {
     "name": "stderr",
     "output_type": "stream",
     "text": [
      "/Users/richardsun/anaconda3/lib/python3.6/site-packages/sklearn/externals/joblib/_multiprocessing_helpers.py:28: UserWarning: [Errno 28] No space left on device.  joblib will operate in serial mode\n",
      "  warnings.warn('%s.  joblib will operate in serial mode' % (e,))\n"
     ]
    }
   ],
   "source": [
    "#导入模块\n",
    "from sklearn import datasets\n",
    "##读取数据\n",
    "iris = datasets.load_iris()\n",
    "data = iris.data\n",
    "target = iris.target\n",
    "print('Data shape', data.shape)\n",
    "print('Head of Data', data[:5])\n",
    "print('Head of Target', target[:5])"
   ]
  },
  {
   "cell_type": "code",
   "execution_count": 34,
   "metadata": {
    "collapsed": false
   },
   "outputs": [],
   "source": [
    "from sklearn.model_selection import train_test_split\n",
    "\n",
    "#划分为训练集和测试集\n",
    "X_train, X_test, y_train, y_test = train_test_split(\n",
    "    data, target, test_size=0.3, random_state=42)"
   ]
  },
  {
   "cell_type": "code",
   "execution_count": 38,
   "metadata": {
    "collapsed": false
   },
   "outputs": [
    {
     "name": "stdout",
     "output_type": "stream",
     "text": [
      "Accuracy of prediction: 1.0\n"
     ]
    }
   ],
   "source": [
    "#决策树模型训练\n",
    "#导入机器学习模型\n",
    "from sklearn import tree\n",
    "#from sklearn import naive_bayes\n",
    "#from sklearn import svm\n",
    "#from sklearn import neural_network \n",
    "clf = tree.DecisionTreeClassifier(random_state=2)\n",
    "clf = clf.fit(X_train, y_train)\n",
    "#对测试集预测结果，并计算正确率\n",
    "from sklearn.metrics import accuracy_score\n",
    "#acc = np.mean(clf.predict(X_test) == y_test)\n",
    "acc = accuracy_score(clf.predict(X_test), y_test)\n",
    "print('Accuracy of prediction:', acc)"
   ]
  },
  {
   "cell_type": "code",
   "execution_count": 5,
   "metadata": {
    "collapsed": false
   },
   "outputs": [
    {
     "data": {
      "image/png": "[encoded data removed]",
      "text/plain": [
       "<IPython.core.display.Image object>"
      ]
     },
     "execution_count": 5,
     "metadata": {},
     "output_type": "execute_result"
    }
   ],
   "source": [
    "#绘图，需要预先安装pydotplus工具包和graphviz程序\n",
    "import pydotplus \n",
    "dot_data = tree.export_graphviz(clf, out_file=None, \n",
    "                         feature_names=iris.feature_names,  \n",
    "                         class_names=iris.target_names,  \n",
    "                         filled=True, rounded=True,  \n",
    "                         special_characters=True)  \n",
    "graph = pydotplus.graph_from_dot_data(dot_data) \n",
    "#graph.write_pdf(\"iris.pdf\") \n",
    "#dir(graph)\n",
    "from IPython.display import Image  \n",
    "Image(graph.create_png())"
   ]
  },
  {
   "cell_type": "markdown",
   "metadata": {},
   "source": [
    "#### tensorflow\n",
    "\n",
    "[tensorflow](https://github.com/tensorflow/tensorflow)是谷歌公司面对深度学习推出的开源框架，也是当前比较流行的深度学习工具之一，支持GPU运算。最新发布版本为1.0，支持分布式计算，提供了更加丰富的高级接口。"
   ]
  },
  {
   "cell_type": "code",
   "execution_count": 27,
   "metadata": {
    "collapsed": false
   },
   "outputs": [
    {
     "name": "stdout",
     "output_type": "stream",
     "text": [
      "Extracting MNIST_data/train-images-idx3-ubyte.gz\n",
      "Extracting MNIST_data/train-labels-idx1-ubyte.gz\n",
      "Extracting MNIST_data/t10k-images-idx3-ubyte.gz\n",
      "Extracting MNIST_data/t10k-labels-idx1-ubyte.gz\n",
      "Training Image Shape: (55000, 784)\n",
      "Training Label Shape: (55000, 10)\n"
     ]
    }
   ],
   "source": [
    "#读取数据\n",
    "import tensorflow as tf\n",
    "import tensorflow.examples.tutorials.mnist.input_data as input_data\n",
    "mnist = input_data.read_data_sets(\"MNIST_data/\", one_hot=True)\n",
    "print('Training Image Shape:', mnist.train.images.shape)\n",
    "print('Training Label Shape:', mnist.train.labels.shape)"
   ]
  },
  {
   "cell_type": "code",
   "execution_count": 30,
   "metadata": {
    "collapsed": false
   },
   "outputs": [
    {
     "name": "stdout",
     "output_type": "stream",
     "text": [
      "Digit Label:  8\n"
     ]
    }
   ],
   "source": [
    "train_images = mnist.train.images\n",
    "train_labels = mnist.train.labels\n",
    "index = 5\n",
    "print('Digit Label: ', mnist.train.labels[index].argmax())"
   ]
  },
  {
   "cell_type": "code",
   "execution_count": 31,
   "metadata": {
    "collapsed": false
   },
   "outputs": [
    {
     "data": {
      "text/plain": [
       "<matplotlib.image.AxesImage at 0x1f49a4e7f60>"
      ]
     },
     "execution_count": 31,
     "metadata": {},
     "output_type": "execute_result"
    },
    {
     "data": {
      "image/png": "[encoded data removed]",
      "text/plain": [
       "<matplotlib.figure.Figure at 0x1f499e8e630>"
      ]
     },
     "metadata": {},
     "output_type": "display_data"
    }
   ],
   "source": [
    "#显示手写汉字\n",
    "pyplot.imshow(train_images[index].reshape(28, 28))"
   ]
  },
  {
   "cell_type": "code",
   "execution_count": 2,
   "metadata": {
    "collapsed": true
   },
   "outputs": [],
   "source": [
    "#定义feed数据\n",
    "#定义输入数据\n",
    "x = tf.placeholder(tf.float32, [None, 784])\n",
    "#输入数据对应标签\n",
    "y_ = tf.placeholder(tf.float32, [None,10])"
   ]
  },
  {
   "cell_type": "code",
   "execution_count": 3,
   "metadata": {
    "collapsed": true
   },
   "outputs": [],
   "source": [
    "#定义权重和偏置参数变量\n",
    "W = tf.Variable(tf.zeros([784,10]))\n",
    "b = tf.Variable(tf.zeros([10]))"
   ]
  },
  {
   "cell_type": "code",
   "execution_count": 4,
   "metadata": {
    "collapsed": true
   },
   "outputs": [],
   "source": [
    "#系统输出类别\n",
    "y = tf.nn.softmax(tf.matmul(x,W) + b)"
   ]
  },
  {
   "cell_type": "code",
   "execution_count": 5,
   "metadata": {
    "collapsed": true
   },
   "outputs": [],
   "source": [
    "#定义目标函数，采用交叉熵\n",
    "cross_entropy = -tf.reduce_sum(y_*tf.log(y))"
   ]
  },
  {
   "cell_type": "code",
   "execution_count": 6,
   "metadata": {
    "collapsed": true
   },
   "outputs": [],
   "source": [
    "#定义训练方式，梯度下降法\n",
    "train_step = tf.train.GradientDescentOptimizer(0.01).minimize(cross_entropy)"
   ]
  },
  {
   "cell_type": "code",
   "execution_count": 9,
   "metadata": {
    "collapsed": false
   },
   "outputs": [
    {
     "name": "stdout",
     "output_type": "stream",
     "text": [
      "测试精度： 0.3045\n",
      "测试精度： 0.8699\n",
      "测试精度： 0.8743\n",
      "测试精度： 0.8549\n",
      "测试精度： 0.9014\n",
      "测试精度： 0.8833\n",
      "测试精度： 0.9072\n",
      "测试精度： 0.9033\n",
      "测试精度： 0.9099\n",
      "测试精度： 0.9107\n",
      "测试精度： 0.9028\n",
      "测试精度： 0.9096\n",
      "测试精度： 0.9097\n",
      "测试精度： 0.8926\n",
      "测试精度： 0.9151\n",
      "测试精度： 0.9106\n",
      "测试精度： 0.9122\n",
      "测试精度： 0.8925\n",
      "测试精度： 0.9165\n",
      "测试精度： 0.9188\n",
      "测试精度： 0.8992\n"
     ]
    }
   ],
   "source": [
    "num_steps = 1001\n",
    "batch_size = 64\n",
    "#创建会话\n",
    "with tf.Session() as sess:\n",
    "    #初始化所有变量\n",
    "    init_op = tf.global_variables_initializer()\n",
    "    sess.run(init_op)\n",
    "    for step in range(num_steps):\n",
    "        offset = (step * batch_size) % (train_labels.shape[0] - batch_size)\n",
    "        #采用随机梯队下降方法，每次选部分样本进行训练      \n",
    "        batch_data = train_images[offset:(offset + batch_size), :]\n",
    "        batch_labels = train_labels[offset:(offset + batch_size), :]\n",
    "        #将数据传递给字典\n",
    "        feed_dict = {x : batch_data, y_ : batch_labels}\n",
    "        _, loss = sess.run([train_step, cross_entropy], feed_dict=feed_dict)\n",
    "        if step%50 == 0:\n",
    "            #定义模型评价指标精确度\n",
    "            correct_prediction = tf.equal(tf.argmax(y,1), tf.argmax(y_,1))\n",
    "            accuracy = tf.reduce_mean(tf.cast(correct_prediction, \"float\"))\n",
    "            result = sess.run(accuracy, feed_dict={x: mnist.test.images, y_: mnist.test.labels})\n",
    "            print(\"测试精度：\", result)"
   ]
  },
  {
   "cell_type": "markdown",
   "metadata": {},
   "source": [
    "## 参考文献"
   ]
  },
  {
   "cell_type": "markdown",
   "metadata": {
    "nbpresent": {
     "id": "202fa067-5cd3-4e6e-ae2e-e8f1f6874fb7"
    }
   },
   "source": [
    "优达学城课程资料：https://classroom.udacity.com/nanodegrees/nd009/syllabus\n",
    "\n",
    "线性代数回顾：http://cs229.stanford.edu/section/cs229-linalg.pdf\n",
    "\n",
    "概率论回顾：http://cs229.stanford.edu/section/cs229-prob.pdf\n",
    "\n",
    "凸规划回顾：http://cs229.stanford.edu/section/cs229-cvxopt.pdf\n",
    "\n",
    "Python教程：\n",
    "\n",
    "https://www.programiz.com/python-programming\n",
    "\n",
    "https://zhuanlan.zhihu.com/p/25031562"
   ]
  },
  {
   "cell_type": "code",
   "execution_count": null,
   "metadata": {
    "collapsed": true
   },
   "outputs": [],
   "source": []
  }
 ],
 "metadata": {
  "anaconda-cloud": {},
  "kernelspec": {
   "display_name": "Python 3",
   "language": "python",
   "name": "python3"
  },
  "language_info": {
   "codemirror_mode": {
    "name": "ipython",
    "version": 3
   },
   "file_extension": ".py",
   "mimetype": "text/x-python",
   "name": "python",
   "nbconvert_exporter": "python",
   "pygments_lexer": "ipython3",
   "version": "3.6.0"
  },
  "nbpresent": {
   "slides": {
    "0f7a1037-5b86-4b15-8598-df1f73204552": {
     "id": "0f7a1037-5b86-4b15-8598-df1f73204552",
     "prev": "18cd4fee-c238-41e9-a28c-3d252b1060bf",
     "regions": {
      "bf5857aa-5c6b-4fc3-ad99-a0b61baddd33": {
       "attrs": {
        "height": 0.8,
        "width": 0.8,
        "x": 0.1,
        "y": 0.1
       },
       "content": {
        "cell": "131c64df-4295-4fd3-93c9-86878e4d9069",
        "part": "whole"
       },
       "id": "bf5857aa-5c6b-4fc3-ad99-a0b61baddd33"
      }
     }
    },
    "122132c9-cd2e-4939-a33f-ac7022501a35": {
     "id": "122132c9-cd2e-4939-a33f-ac7022501a35",
     "prev": "0f7a1037-5b86-4b15-8598-df1f73204552",
     "regions": {
      "997d87b9-9ee0-4fc1-b0a8-0d1960488416": {
       "attrs": {
        "height": 0.8,
        "width": 0.8,
        "x": 0.1,
        "y": 0.1
       },
       "content": {
        "cell": "4d3be556-4e36-4a74-80e2-3c27af57b3c6",
        "part": "whole"
       },
       "id": "997d87b9-9ee0-4fc1-b0a8-0d1960488416"
      }
     }
    },
    "189eecca-9438-457d-9505-adc6cbd15819": {
     "id": "189eecca-9438-457d-9505-adc6cbd15819",
     "prev": "89082a76-3072-4e6b-8cc9-f6936aa4cfa8",
     "regions": {
      "7b44650d-26fc-45fd-bbdc-5e1360a1ceef": {
       "attrs": {
        "height": 0.8,
        "width": 0.8,
        "x": 0.1,
        "y": 0.1
       },
       "content": {
        "cell": "f66a2d36-0e7f-4c9c-9f5b-b2e32fbd6c34",
        "part": "whole"
       },
       "id": "7b44650d-26fc-45fd-bbdc-5e1360a1ceef"
      }
     }
    },
    "18cd4fee-c238-41e9-a28c-3d252b1060bf": {
     "id": "18cd4fee-c238-41e9-a28c-3d252b1060bf",
     "prev": "f792ba56-1506-41a7-a1c8-9998c82b584b",
     "regions": {
      "4e4fb6d0-9b67-4aca-9e88-db18c126fc79": {
       "attrs": {
        "height": 0.8,
        "width": 0.8,
        "x": 0.1,
        "y": 0.1
       },
       "content": {
        "cell": "02d86c22-89f9-4260-bdc2-8df200ca5eba",
        "part": "whole"
       },
       "id": "4e4fb6d0-9b67-4aca-9e88-db18c126fc79"
      }
     }
    },
    "35fed0a9-6cf2-47e3-84d7-8a17409277cb": {
     "id": "35fed0a9-6cf2-47e3-84d7-8a17409277cb",
     "prev": "425cc2d8-9e9d-4590-9a2e-0546a839006a",
     "regions": {
      "8c8016b8-0a69-4e83-9576-2538ae3db785": {
       "attrs": {
        "height": 0.8,
        "width": 0.8,
        "x": 0.1,
        "y": 0.1
       },
       "content": {
        "cell": "ce893889-ea49-4d91-80b7-64fe6745ca81",
        "part": "whole"
       },
       "id": "8c8016b8-0a69-4e83-9576-2538ae3db785"
      }
     }
    },
    "36266ebb-eccc-4fb6-997a-bcd22ede7e43": {
     "id": "36266ebb-eccc-4fb6-997a-bcd22ede7e43",
     "prev": "e1cecfc6-d764-43a5-b4aa-fa5bf565d057",
     "regions": {
      "10148ca8-1a71-4ea8-855b-ab5b13f0bcc6": {
       "attrs": {
        "height": 0.8,
        "width": 0.8,
        "x": 0.1,
        "y": 0.1
       },
       "content": {
        "cell": "15036cfa-fd09-478b-88d6-ca0606195fe7",
        "part": "whole"
       },
       "id": "10148ca8-1a71-4ea8-855b-ab5b13f0bcc6"
      }
     }
    },
    "38d59980-98f6-4717-b63d-baf1e09136ba": {
     "id": "38d59980-98f6-4717-b63d-baf1e09136ba",
     "prev": "421a2f7f-aa30-4013-b056-8a7e0ed93153",
     "regions": {
      "81d07ab9-0709-4077-8e51-370b8ffb40f3": {
       "attrs": {
        "height": 0.8,
        "width": 0.8,
        "x": 0.1,
        "y": 0.1
       },
       "content": {
        "cell": "1ee7ce81-b40a-4a5e-801f-25e85e36283b",
        "part": "whole"
       },
       "id": "81d07ab9-0709-4077-8e51-370b8ffb40f3"
      }
     }
    },
    "3e755dd4-8580-4ab9-9719-ecac1991eeb7": {
     "id": "3e755dd4-8580-4ab9-9719-ecac1991eeb7",
     "prev": "9a325c93-5b65-41a5-9869-a6cda3ad23bc",
     "regions": {
      "3b0c7c3b-3eb7-40b8-93a1-f2eb30bcf08c": {
       "attrs": {
        "height": 0.8,
        "width": 0.8,
        "x": 0.1,
        "y": 0.1
       },
       "content": {
        "cell": "00e148bb-a132-434f-a35d-3ad493af7bf7",
        "part": "whole"
       },
       "id": "3b0c7c3b-3eb7-40b8-93a1-f2eb30bcf08c"
      }
     }
    },
    "421a2f7f-aa30-4013-b056-8a7e0ed93153": {
     "id": "421a2f7f-aa30-4013-b056-8a7e0ed93153",
     "prev": "61060df4-1019-462a-b3b2-350b0be5c6ba",
     "regions": {
      "3a262feb-af6f-4266-8a98-3588824c9b45": {
       "attrs": {
        "height": 0.8,
        "width": 0.8,
        "x": 0.1,
        "y": 0.1
       },
       "content": {
        "cell": "f8c692fd-c315-40e0-bf0f-15ef0bdc2faa",
        "part": "whole"
       },
       "id": "3a262feb-af6f-4266-8a98-3588824c9b45"
      }
     }
    },
    "425cc2d8-9e9d-4590-9a2e-0546a839006a": {
     "id": "425cc2d8-9e9d-4590-9a2e-0546a839006a",
     "prev": "189eecca-9438-457d-9505-adc6cbd15819",
     "regions": {
      "af6a1aba-d92c-4b2a-866b-51e2586bc206": {
       "attrs": {
        "height": 0.8,
        "width": 0.8,
        "x": 0.1,
        "y": 0.1
       },
       "content": {
        "cell": "352200b0-eaa8-4083-89de-e3803ef979c9",
        "part": "whole"
       },
       "id": "af6a1aba-d92c-4b2a-866b-51e2586bc206"
      }
     }
    },
    "4935e22c-c417-4ed7-a8a9-ec777a2555e3": {
     "id": "4935e22c-c417-4ed7-a8a9-ec777a2555e3",
     "prev": "5113faff-8ccd-4890-8caf-b9926d09f208",
     "regions": {
      "8fe29e6b-39fc-4046-8e3a-691fef773556": {
       "attrs": {
        "height": 0.8,
        "width": 0.8,
        "x": 0.1,
        "y": 0.1
       },
       "content": {
        "cell": "ec435798-7ecb-49b5-b729-2537493908d3",
        "part": "whole"
       },
       "id": "8fe29e6b-39fc-4046-8e3a-691fef773556"
      }
     }
    },
    "5113faff-8ccd-4890-8caf-b9926d09f208": {
     "id": "5113faff-8ccd-4890-8caf-b9926d09f208",
     "prev": "afb565dd-fb23-4937-ac07-b084de874b3d",
     "regions": {
      "6c305136-139b-450c-b215-c3eb5bf76ef4": {
       "attrs": {
        "height": 0.8,
        "width": 0.8,
        "x": 0.1,
        "y": 0.1
       },
       "content": {
        "cell": "84d6bf6f-a062-4ee4-9e71-afdf72f7a519",
        "part": "whole"
       },
       "id": "6c305136-139b-450c-b215-c3eb5bf76ef4"
      }
     }
    },
    "569e1896-eee0-4581-b347-fe41566a823c": {
     "id": "569e1896-eee0-4581-b347-fe41566a823c",
     "prev": "35fed0a9-6cf2-47e3-84d7-8a17409277cb",
     "regions": {
      "8d92ee78-b1b5-4218-8585-a1c4ee383380": {
       "attrs": {
        "height": 0.8,
        "width": 0.8,
        "x": 0.1,
        "y": 0.1
       },
       "content": {
        "cell": "13ac4bcd-60ad-4db8-ad70-48e7c4001b97",
        "part": "whole"
       },
       "id": "8d92ee78-b1b5-4218-8585-a1c4ee383380"
      }
     }
    },
    "5c59af54-32c0-4ca1-b136-83c3cfbfc94e": {
     "id": "5c59af54-32c0-4ca1-b136-83c3cfbfc94e",
     "prev": "e14c6c1d-494c-456c-b0aa-5a034dda8741",
     "regions": {
      "0e7fac9b-0aff-4a13-8eaf-a7c24347a07a": {
       "attrs": {
        "height": 0.8,
        "width": 0.8,
        "x": 0.1,
        "y": 0.1
       },
       "content": {
        "cell": "cda3f827-f755-4165-9af3-99a2bf81a139",
        "part": "whole"
       },
       "id": "0e7fac9b-0aff-4a13-8eaf-a7c24347a07a"
      }
     }
    },
    "61060df4-1019-462a-b3b2-350b0be5c6ba": {
     "id": "61060df4-1019-462a-b3b2-350b0be5c6ba",
     "prev": "5c59af54-32c0-4ca1-b136-83c3cfbfc94e",
     "regions": {
      "23b770ac-ab0e-45bc-a137-d3c7dad9d2f5": {
       "attrs": {
        "height": 0.8,
        "width": 0.8,
        "x": 0.1,
        "y": 0.1
       },
       "content": {
        "cell": "ef50d266-30e6-4410-8f54-69b849ff7121",
        "part": "whole"
       },
       "id": "23b770ac-ab0e-45bc-a137-d3c7dad9d2f5"
      }
     }
    },
    "6b558f8d-13b5-4e04-b49e-3ccc74e28e4c": {
     "id": "6b558f8d-13b5-4e04-b49e-3ccc74e28e4c",
     "prev": "ce858a73-be85-4678-8e3d-147b283e12bc",
     "regions": {
      "2e6b4fa7-fded-4a00-8c32-c60f9d52e455": {
       "attrs": {
        "height": 0.8,
        "width": 0.8,
        "x": 0.1,
        "y": 0.1
       },
       "content": {
        "cell": "4a606d61-8465-42ec-a0e1-112b3264d1bb",
        "part": "whole"
       },
       "id": "2e6b4fa7-fded-4a00-8c32-c60f9d52e455"
      }
     }
    },
    "75780b90-b294-42cb-8923-84825afbf5b1": {
     "id": "75780b90-b294-42cb-8923-84825afbf5b1",
     "prev": "f82dc11c-2227-4e9c-a814-1f87ba2ebde5",
     "regions": {
      "265f2f71-1cdc-4541-9c94-451cd3423376": {
       "attrs": {
        "height": 0.8,
        "width": 0.8,
        "x": 0.1,
        "y": 0.1
       },
       "content": {
        "cell": "2cd65749-df5b-4dc8-bd35-7b7c5ef0401e",
        "part": "whole"
       },
       "id": "265f2f71-1cdc-4541-9c94-451cd3423376"
      }
     }
    },
    "89082a76-3072-4e6b-8cc9-f6936aa4cfa8": {
     "id": "89082a76-3072-4e6b-8cc9-f6936aa4cfa8",
     "prev": "36266ebb-eccc-4fb6-997a-bcd22ede7e43",
     "regions": {
      "3861bc3e-c018-4ca0-95a3-cda0c23cb714": {
       "attrs": {
        "height": 0.8,
        "width": 0.8,
        "x": 0.1,
        "y": 0.1
       },
       "content": {
        "cell": "5a6a1278-057a-4ee6-9170-26a8cf0133f2",
        "part": "whole"
       },
       "id": "3861bc3e-c018-4ca0-95a3-cda0c23cb714"
      }
     }
    },
    "9a325c93-5b65-41a5-9869-a6cda3ad23bc": {
     "id": "9a325c93-5b65-41a5-9869-a6cda3ad23bc",
     "prev": "6b558f8d-13b5-4e04-b49e-3ccc74e28e4c",
     "regions": {
      "cd81b81c-2792-4768-954a-6a3f22946e31": {
       "attrs": {
        "height": 0.8,
        "width": 0.8,
        "x": 0.1,
        "y": 0.1
       },
       "content": {
        "cell": "00e7a6c6-7807-48f6-ae71-bec80bce044c",
        "part": "whole"
       },
       "id": "cd81b81c-2792-4768-954a-6a3f22946e31"
      }
     }
    },
    "af9bca77-f8d2-43b7-b678-b455c7db839d": {
     "id": "af9bca77-f8d2-43b7-b678-b455c7db839d",
     "prev": "122132c9-cd2e-4939-a33f-ac7022501a35",
     "regions": {
      "fc0da361-ea89-47a7-b91a-24c114d7ed93": {
       "attrs": {
        "height": 0.8,
        "width": 0.8,
        "x": 0.1,
        "y": 0.1
       },
       "content": {
        "cell": "202fa067-5cd3-4e6e-ae2e-e8f1f6874fb7",
        "part": "whole"
       },
       "id": "fc0da361-ea89-47a7-b91a-24c114d7ed93"
      }
     }
    },
    "afb565dd-fb23-4937-ac07-b084de874b3d": {
     "id": "afb565dd-fb23-4937-ac07-b084de874b3d",
     "prev": "3e755dd4-8580-4ab9-9719-ecac1991eeb7",
     "regions": {
      "47dab5a1-e999-42f7-b07a-8af4d10ce593": {
       "attrs": {
        "height": 0.8,
        "width": 0.8,
        "x": 0.1,
        "y": 0.1
       },
       "content": {
        "cell": "765f467b-e8f0-4d20-afcc-469c5c6d65ae",
        "part": "whole"
       },
       "id": "47dab5a1-e999-42f7-b07a-8af4d10ce593"
      }
     }
    },
    "b3eb4bce-5707-4dcd-87ec-4804cc753654": {
     "id": "b3eb4bce-5707-4dcd-87ec-4804cc753654",
     "prev": null,
     "regions": {
      "c8cb71e2-19fd-468b-ae4c-39f28bf416de": {
       "attrs": {
        "height": 0.8,
        "width": 0.8,
        "x": 0.1,
        "y": 0.1
       },
       "content": {
        "cell": "ffb937e5-d4ed-49f8-8ef7-48eb74eb24e4",
        "part": "whole"
       },
       "id": "c8cb71e2-19fd-468b-ae4c-39f28bf416de"
      }
     }
    },
    "bee12da0-461a-47cf-a920-2c42353496bd": {
     "id": "bee12da0-461a-47cf-a920-2c42353496bd",
     "prev": "75780b90-b294-42cb-8923-84825afbf5b1",
     "regions": {
      "b96c7f05-0323-45e2-94ad-baefa5de15f8": {
       "attrs": {
        "height": 0.8,
        "width": 0.8,
        "x": 0.1,
        "y": 0.1
       },
       "content": {
        "cell": "b6d31671-923f-46ea-892a-4746c84d5de1",
        "part": "whole"
       },
       "id": "b96c7f05-0323-45e2-94ad-baefa5de15f8"
      }
     }
    },
    "cd53c033-9b25-41b3-b762-2bcd5ecd4488": {
     "id": "cd53c033-9b25-41b3-b762-2bcd5ecd4488",
     "prev": "bee12da0-461a-47cf-a920-2c42353496bd",
     "regions": {
      "b24127b9-3ef4-4dee-8b13-11042464bee2": {
       "attrs": {
        "height": 0.8,
        "width": 0.8,
        "x": 0.1,
        "y": 0.1
       },
       "content": {
        "cell": "33ac5bf2-b438-4a6b-93ad-2d15bedeff8c",
        "part": "whole"
       },
       "id": "b24127b9-3ef4-4dee-8b13-11042464bee2"
      }
     }
    },
    "ce858a73-be85-4678-8e3d-147b283e12bc": {
     "id": "ce858a73-be85-4678-8e3d-147b283e12bc",
     "prev": "38d59980-98f6-4717-b63d-baf1e09136ba",
     "regions": {
      "80cedf7f-bc20-40eb-addd-f226467e4844": {
       "attrs": {
        "height": 0.8,
        "width": 0.8,
        "x": 0.1,
        "y": 0.1
       },
       "content": {
        "cell": "699433f8-e5ca-4ab7-af58-df2997d59502",
        "part": "whole"
       },
       "id": "80cedf7f-bc20-40eb-addd-f226467e4844"
      }
     }
    },
    "de6cb8b9-4357-40ac-8908-ebe4c227e58a": {
     "id": "de6cb8b9-4357-40ac-8908-ebe4c227e58a",
     "prev": "af9bca77-f8d2-43b7-b678-b455c7db839d",
     "regions": {
      "7ddce0b4-98a2-4805-b8d3-66c0a0374176": {
       "attrs": {
        "height": 0.8,
        "width": 0.8,
        "x": 0.1,
        "y": 0.1
       },
       "content": {
        "cell": "2e34cb44-d280-43fb-b792-b4a1dd643da4",
        "part": "whole"
       },
       "id": "7ddce0b4-98a2-4805-b8d3-66c0a0374176"
      }
     }
    },
    "e14c6c1d-494c-456c-b0aa-5a034dda8741": {
     "id": "e14c6c1d-494c-456c-b0aa-5a034dda8741",
     "prev": "b3eb4bce-5707-4dcd-87ec-4804cc753654",
     "regions": {
      "6e95d00e-e890-4c18-8627-59ad9b93bb3b": {
       "attrs": {
        "height": 0.8,
        "width": 0.8,
        "x": 0.1,
        "y": 0.1
       },
       "content": {
        "cell": "23786a5d-1cad-4f1b-bd6c-a85d1ced01a3",
        "part": "whole"
       },
       "id": "6e95d00e-e890-4c18-8627-59ad9b93bb3b"
      }
     }
    },
    "e1cecfc6-d764-43a5-b4aa-fa5bf565d057": {
     "id": "e1cecfc6-d764-43a5-b4aa-fa5bf565d057",
     "prev": "4935e22c-c417-4ed7-a8a9-ec777a2555e3",
     "regions": {
      "51c0d55a-89f2-4cc5-9273-b772ab5a41c1": {
       "attrs": {
        "height": 0.8,
        "width": 0.8,
        "x": 0.1,
        "y": 0.1
       },
       "content": {
        "cell": "f1cd4df8-5a31-48cb-8b11-20cacc8a7754",
        "part": "whole"
       },
       "id": "51c0d55a-89f2-4cc5-9273-b772ab5a41c1"
      }
     }
    },
    "f792ba56-1506-41a7-a1c8-9998c82b584b": {
     "id": "f792ba56-1506-41a7-a1c8-9998c82b584b",
     "prev": "cd53c033-9b25-41b3-b762-2bcd5ecd4488",
     "regions": {
      "43c356cc-e9fe-409b-b383-5c505613186b": {
       "attrs": {
        "height": 0.8,
        "width": 0.8,
        "x": 0.1,
        "y": 0.1
       },
       "content": {
        "cell": "8bd2e464-a8ad-4911-a0ae-1241ef15e68a",
        "part": "whole"
       },
       "id": "43c356cc-e9fe-409b-b383-5c505613186b"
      }
     }
    },
    "f82dc11c-2227-4e9c-a814-1f87ba2ebde5": {
     "id": "f82dc11c-2227-4e9c-a814-1f87ba2ebde5",
     "prev": "569e1896-eee0-4581-b347-fe41566a823c",
     "regions": {
      "cd428e66-423d-4765-aad3-b890087a50b1": {
       "attrs": {
        "height": 0.8,
        "width": 0.8,
        "x": 0.1,
        "y": 0.1
       },
       "content": {
        "cell": "122d4b3f-df44-4d1c-9363-663e5728399a",
        "part": "whole"
       },
       "id": "cd428e66-423d-4765-aad3-b890087a50b1"
      }
     }
    }
   },
   "themes": {}
  }
 },
 "nbformat": 4,
 "nbformat_minor": 0
}
