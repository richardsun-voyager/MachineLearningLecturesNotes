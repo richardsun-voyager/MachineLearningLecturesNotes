{
 "cells": [
  {
   "cell_type": "markdown",
   "metadata": {},
   "source": [
    "Python语言是近年来数据分析、机器学习领域比较热门的语言之一，特别是在机器学习和深度学习领域应用很广。谷歌的tensorflow，脸书的Pytorch，蒙特利尔大学的Theano都主流深度学习平台均提供了Python接口；各大学也纷纷将Python语言作为编程入门的语言。Python有几个特点：\n",
    "- 免费。免费的开发平台对于囊中羞涩中小企业、教学科研课题组来说，都是经济上可行的首选项。当年Matlab也是红极一时，但是由于价格较高，一般课题组支撑不起，所以很多学者转到Python， R语言上。\n",
    "- 完善功能包。有句话讲，“人生苦短，我用Python”，Python里面有数据挖掘工具包Pandas，专业绘图工具matplotlib和seaborn，深度学习工具包tensorflow，大数据处理包PySpark，游戏开发工具包Pygame，图形开发工具PyQt，爬虫工具scrapy和beautifulsoup等等。基本上常用的工具包都可以在库里找到。\n",
    "- 强大的社区。很多学者、编程开发者对Python进行维护，也有大量论坛等进行交流。\n"
   ]
  },
  {
   "cell_type": "markdown",
   "metadata": {},
   "source": [
    "Python 开发效率比较高，但是对于计算量大、并行要求高的工程项目来讲，可能效能不如C++、Java等工程语言，虽然有很多工程界人士一直在此方面进行努力。在一些线上产品开发上，大企业依然偏向于使用C++、Java来写底层算法提供效率。\n",
    "\n",
    "之前大家都学习过Python，有所接触，比如链表list，字典dictionary等。今天介绍一些可以提高编写Python程序效率的小技巧。"
   ]
  },
  {
   "cell_type": "markdown",
   "metadata": {},
   "source": [
    "## Iterable Vs Iterator\n",
    "\n",
    "### Iterable:\n",
    "- 可迭代的。如链表、字典和文件连接，可以通过循环读取数据。\n",
    "\n",
    "\n"
   ]
  },
  {
   "cell_type": "code",
   "execution_count": 29,
   "metadata": {
    "collapsed": false
   },
   "outputs": [
    {
     "name": "stdout",
     "output_type": "stream",
     "text": [
      "1\n",
      "2\n",
      "3\n",
      "4\n",
      "5\n"
     ]
    }
   ],
   "source": [
    "#聊表的迭代\n",
    "numbers = [1, 2, 3, 4, 5]\n",
    "for num in numbers:\n",
    "    print(num)"
   ]
  },
  {
   "cell_type": "code",
   "execution_count": 30,
   "metadata": {
    "collapsed": false
   },
   "outputs": [
    {
     "name": "stdout",
     "output_type": "stream",
     "text": [
      "CN:China\n",
      "US:United States of America\n",
      "UK:United Kingdom of Great Britain\n"
     ]
    }
   ],
   "source": [
    "#字典的迭代\n",
    "country_dict = {'CN': 'China', 'US': 'United States of America', 'UK': 'United Kingdom of Great Britain'}\n",
    "for key, value in country_dict.items():\n",
    "    print(key+':'+value)"
   ]
  },
  {
   "cell_type": "code",
   "execution_count": 48,
   "metadata": {
    "collapsed": false
   },
   "outputs": [
    {
     "name": "stdout",
     "output_type": "stream",
     "text": [
      "William Shakespeare was an English poet, playwright, and actor, widely regarded as the greatest writer in the English language and the world's pre-eminent dramatist.[2] He is often called England's national poet, and the \"Bard of Avon\".[3][nb 2] His extant works, including collaborations, consist of approximately 38 plays,[nb 3] 154 sonnets, two long narrative poems, and a few other verses, some of uncertain authorship. His plays have been translated into every major living language and are performed more often than those of any other playwright.[4]\n",
      "\n",
      "\n",
      "\n",
      "Shakespeare was born and brought up in Stratford-upon-Avon, Warwickshire. At the age of 18, he married Anne Hathaway, with whom he had three children: Susanna, and twins Hamnet and Judith. Sometime between 1585 and 1592, he began a successful career in London as an actor, writer, and part-owner of a playing company called the Lord Chamberlain's Men, later known as the King's Men. He appears to have retired to Stratford around 1613, at age 49, where he died three years later. Few records of Shakespeare's private life survive, which has stimulated considerable speculation about such matters as his physical appearance, sexuality, religious beliefs, and whether the works attributed to him were written by others.[5]\n",
      "\n",
      "\n",
      "\n",
      "Shakespeare produced most of his known work between 1589 and 1613.[6][nb 4] His early plays were primarily comedies and histories, which are regarded as some of the best work ever produced in these genres. He then wrote mainly tragedies until about 1608, including Hamlet, Othello, King Lear, and Macbeth, considered some of the finest works in the English language.[2] In his last phase, he wrote tragicomedies, also known as romances, and collaborated with other playwrights.\n",
      "\n",
      "\n",
      "\n",
      "Many of his plays were published in editions of varying quality and accuracy during his lifetime. In 1623, however, John Heminges and Henry Condell, two friends and fellow actors of Shakespeare, published a more definitive text known as the First Folio, a posthumous collected edition of his dramatic works that included all but two of the plays now recognised as Shakespeare's.[7] It was prefaced with a poem by Ben Jonson, in which Shakespeare is hailed, presciently, as \"not of an age, but for all time\".[7]\n",
      "\n",
      "\n",
      "\n",
      "In the 20th and 21st centuries, his works have been repeatedly adapted and rediscovered by new movements in scholarship and performance. His plays remain highly popular and are constantly studied, performed, and reinterpreted in diverse cultural and political contexts throughout the world.\n"
     ]
    }
   ],
   "source": [
    "#遍历文件每一行\n",
    "with open('shakespeare.txt', 'r') as file:\n",
    "    for line in file:\n",
    "        print(line)\n",
    "        #print(line.decode('utf-8', errors='ignore').encode('utf-8').strip())"
   ]
  },
  {
   "cell_type": "markdown",
   "metadata": {},
   "source": [
    "\n",
    "### Iterator：\n",
    "- 迭代器。可以通过next方法产生下一组输出，迭代器里面元素全部释放完后就会为空。\n",
    "\n",
    "可以通过iter函数将链表变成迭代器"
   ]
  },
  {
   "cell_type": "code",
   "execution_count": 49,
   "metadata": {
    "collapsed": true
   },
   "outputs": [],
   "source": [
    "num_iterator = iter(numbers)"
   ]
  },
  {
   "cell_type": "code",
   "execution_count": 50,
   "metadata": {
    "collapsed": false
   },
   "outputs": [
    {
     "data": {
      "text/plain": [
       "<list_iterator at 0x10ab277f0>"
      ]
     },
     "execution_count": 50,
     "metadata": {},
     "output_type": "execute_result"
    }
   ],
   "source": [
    "num_iterator"
   ]
  },
  {
   "cell_type": "code",
   "execution_count": 51,
   "metadata": {
    "collapsed": false
   },
   "outputs": [
    {
     "data": {
      "text/plain": [
       "1"
      ]
     },
     "execution_count": 51,
     "metadata": {},
     "output_type": "execute_result"
    }
   ],
   "source": [
    "next(num_iterator)"
   ]
  },
  {
   "cell_type": "code",
   "execution_count": 52,
   "metadata": {
    "collapsed": false
   },
   "outputs": [
    {
     "data": {
      "text/plain": [
       "2"
      ]
     },
     "execution_count": 52,
     "metadata": {},
     "output_type": "execute_result"
    }
   ],
   "source": [
    "next(num_iterator)"
   ]
  },
  {
   "cell_type": "code",
   "execution_count": 53,
   "metadata": {
    "collapsed": false
   },
   "outputs": [
    {
     "data": {
      "text/plain": [
       "3"
      ]
     },
     "execution_count": 53,
     "metadata": {},
     "output_type": "execute_result"
    }
   ],
   "source": [
    "next(num_iterator)"
   ]
  },
  {
   "cell_type": "code",
   "execution_count": 54,
   "metadata": {
    "collapsed": false
   },
   "outputs": [
    {
     "name": "stdout",
     "output_type": "stream",
     "text": [
      "1 2 3 4 5\n"
     ]
    }
   ],
   "source": [
    "num_iterator = iter(numbers)\n",
    "print(*num_iterator)"
   ]
  },
  {
   "cell_type": "markdown",
   "metadata": {},
   "source": [
    "### Enumerate"
   ]
  },
  {
   "cell_type": "code",
   "execution_count": 55,
   "metadata": {
    "collapsed": true
   },
   "outputs": [],
   "source": [
    "#Enumerate\n",
    "countries = ['China', 'USA', 'UK', 'Japan', 'Russia']\n",
    "e = enumerate(countries) "
   ]
  },
  {
   "cell_type": "code",
   "execution_count": 56,
   "metadata": {
    "collapsed": false
   },
   "outputs": [
    {
     "data": {
      "text/plain": [
       "<enumerate at 0x10aba0240>"
      ]
     },
     "execution_count": 56,
     "metadata": {},
     "output_type": "execute_result"
    }
   ],
   "source": [
    "e"
   ]
  },
  {
   "cell_type": "code",
   "execution_count": 57,
   "metadata": {
    "collapsed": false
   },
   "outputs": [
    {
     "data": {
      "text/plain": [
       "[(0, 'China'), (1, 'USA'), (2, 'UK'), (3, 'Japan'), (4, 'Russia')]"
      ]
     },
     "execution_count": 57,
     "metadata": {},
     "output_type": "execute_result"
    }
   ],
   "source": [
    "list(e)"
   ]
  },
  {
   "cell_type": "code",
   "execution_count": 58,
   "metadata": {
    "collapsed": false
   },
   "outputs": [
    {
     "name": "stdout",
     "output_type": "stream",
     "text": [
      "0 China\n",
      "1 USA\n",
      "2 UK\n",
      "3 Japan\n",
      "4 Russia\n"
     ]
    }
   ],
   "source": [
    "#Enumerate\n",
    "e = enumerate(countries) \n",
    "for index, num in e:\n",
    "    print(index, num)"
   ]
  },
  {
   "cell_type": "markdown",
   "metadata": {},
   "source": [
    "### Zip"
   ]
  },
  {
   "cell_type": "code",
   "execution_count": 59,
   "metadata": {
    "collapsed": true
   },
   "outputs": [],
   "source": [
    "countries = ['China', 'USA', 'UK', 'Japan', 'Russia']\n",
    "pops = [13, 3, 0.8, 1.2, 1.2]"
   ]
  },
  {
   "cell_type": "markdown",
   "metadata": {},
   "source": [
    "如果想构造一个字典，以国家名为key，以人口数为value。 我们可以使用循环。"
   ]
  },
  {
   "cell_type": "code",
   "execution_count": 60,
   "metadata": {
    "collapsed": false
   },
   "outputs": [],
   "source": [
    "country_pop_dict = {}\n",
    "for index in range(len(countries)):\n",
    "    country_pop_dict[countries[index]] = pops[index]"
   ]
  },
  {
   "cell_type": "code",
   "execution_count": 61,
   "metadata": {
    "collapsed": false
   },
   "outputs": [
    {
     "data": {
      "text/plain": [
       "{'China': 13, 'Japan': 1.2, 'Russia': 1.2, 'UK': 0.8, 'USA': 3}"
      ]
     },
     "execution_count": 61,
     "metadata": {},
     "output_type": "execute_result"
    }
   ],
   "source": [
    "country_pop_dict"
   ]
  },
  {
   "cell_type": "markdown",
   "metadata": {},
   "source": [
    "还可以使用功能强大的zip函数。"
   ]
  },
  {
   "cell_type": "code",
   "execution_count": 62,
   "metadata": {
    "collapsed": false
   },
   "outputs": [
    {
     "data": {
      "text/plain": [
       "<zip at 0x10ab8bb48>"
      ]
     },
     "execution_count": 62,
     "metadata": {},
     "output_type": "execute_result"
    }
   ],
   "source": [
    "zipped = zip(countries, pops)\n",
    "zipped"
   ]
  },
  {
   "cell_type": "code",
   "execution_count": 63,
   "metadata": {
    "collapsed": false
   },
   "outputs": [
    {
     "name": "stdout",
     "output_type": "stream",
     "text": [
      "China 13\n",
      "USA 3\n",
      "UK 0.8\n",
      "Japan 1.2\n",
      "Russia 1.2\n"
     ]
    }
   ],
   "source": [
    "for k, v in zipped:\n",
    "    print(k, v)"
   ]
  },
  {
   "cell_type": "code",
   "execution_count": 64,
   "metadata": {
    "collapsed": false
   },
   "outputs": [
    {
     "data": {
      "text/plain": [
       "[('China', 13), ('USA', 3), ('UK', 0.8), ('Japan', 1.2), ('Russia', 1.2)]"
      ]
     },
     "execution_count": 64,
     "metadata": {},
     "output_type": "execute_result"
    }
   ],
   "source": [
    "zipped = zip(countries, pops)\n",
    "list(zipped)"
   ]
  },
  {
   "cell_type": "code",
   "execution_count": 65,
   "metadata": {
    "collapsed": false
   },
   "outputs": [
    {
     "data": {
      "text/plain": [
       "{'China': 13, 'Japan': 1.2, 'Russia': 1.2, 'UK': 0.8, 'USA': 3}"
      ]
     },
     "execution_count": 65,
     "metadata": {},
     "output_type": "execute_result"
    }
   ],
   "source": [
    "zipped = zip(countries, pops)\n",
    "dict(zipped)"
   ]
  },
  {
   "cell_type": "markdown",
   "metadata": {
    "collapsed": true
   },
   "source": [
    "## List/Dict Comprehensions\n",
    "在Python中，以及C++ java中我们可以使用for，while进行循环。但是python还提供了comprehension方法，能够简化代码编写。比如，我们需要把下面链表中每个公司名都统一成小写模式，一种常见的方法就是循环。"
   ]
  },
  {
   "cell_type": "code",
   "execution_count": 66,
   "metadata": {
    "collapsed": true
   },
   "outputs": [],
   "source": [
    "corps = ['Huawei', 'Lenovo', 'Dell', 'toyoto', 'Boeing']\n",
    "corps_lower = []\n",
    "for c in corps:\n",
    "    corps_lower.append(c.lower())"
   ]
  },
  {
   "cell_type": "code",
   "execution_count": 67,
   "metadata": {
    "collapsed": false
   },
   "outputs": [
    {
     "data": {
      "text/plain": [
       "['huawei', 'lenovo', 'dell', 'toyoto', 'boeing']"
      ]
     },
     "execution_count": 67,
     "metadata": {},
     "output_type": "execute_result"
    }
   ],
   "source": [
    "corps_lower"
   ]
  },
  {
   "cell_type": "markdown",
   "metadata": {},
   "source": [
    "另外一种方法就是 comprehension。"
   ]
  },
  {
   "cell_type": "code",
   "execution_count": 68,
   "metadata": {
    "collapsed": false
   },
   "outputs": [
    {
     "data": {
      "text/plain": [
       "['huawei', 'lenovo', 'dell', 'toyoto', 'boeing']"
      ]
     },
     "execution_count": 68,
     "metadata": {},
     "output_type": "execute_result"
    }
   ],
   "source": [
    "corps_lower = [c.lower() for c in corps]\n",
    "corps_lower"
   ]
  },
  {
   "cell_type": "markdown",
   "metadata": {},
   "source": [
    "比如，对每个元素加1。"
   ]
  },
  {
   "cell_type": "code",
   "execution_count": 69,
   "metadata": {
    "collapsed": false
   },
   "outputs": [
    {
     "data": {
      "text/plain": [
       "[2, 4, 6, 8, 10]"
      ]
     },
     "execution_count": 69,
     "metadata": {},
     "output_type": "execute_result"
    }
   ],
   "source": [
    "numbers = [1, 3, 5, 7, 9]\n",
    "numbers_plus_one = [num+1 for num in numbers]\n",
    "numbers_plus_one"
   ]
  },
  {
   "cell_type": "markdown",
   "metadata": {},
   "source": [
    "还可以进行条件筛选，比如挑出长度多于8个字符的人名。"
   ]
  },
  {
   "cell_type": "code",
   "execution_count": 70,
   "metadata": {
    "collapsed": false
   },
   "outputs": [
    {
     "data": {
      "text/plain": [
       "['Richard White', 'Mary Baltimore', 'Sydney Bush', 'William Smiths']"
      ]
     },
     "execution_count": 70,
     "metadata": {},
     "output_type": "execute_result"
    }
   ],
   "source": [
    "names= ['Richard White', 'Tom Fox', 'Mary Baltimore', 'Sydney Bush', 'William Smiths']\n",
    "names_longer = [name for name in names if len(name)>8]\n",
    "names_longer"
   ]
  },
  {
   "cell_type": "markdown",
   "metadata": {},
   "source": [
    "也可以使用comprehension生成字典，比如统计单词的长度并创建字典。\n"
   ]
  },
  {
   "cell_type": "code",
   "execution_count": 71,
   "metadata": {
    "collapsed": false
   },
   "outputs": [
    {
     "data": {
      "text/plain": [
       "{'beautiful': 9, 'dangerous': 9, 'good': 4, 'hello': 5, 'yell': 4}"
      ]
     },
     "execution_count": 71,
     "metadata": {},
     "output_type": "execute_result"
    }
   ],
   "source": [
    "words = ['hello', 'good', 'beautiful', 'dangerous', 'yell']\n",
    "word_len_dict = {word:len(word) for word in words}\n",
    "word_len_dict"
   ]
  },
  {
   "cell_type": "markdown",
   "metadata": {},
   "source": [
    "## Generator(生成器）\n",
    "\n",
    "上面提到了链表的comprehension："
   ]
  },
  {
   "cell_type": "code",
   "execution_count": 72,
   "metadata": {
    "collapsed": false
   },
   "outputs": [
    {
     "data": {
      "text/plain": [
       "[0, 2, 4, 6, 8, 10, 12, 14, 16, 18]"
      ]
     },
     "execution_count": 72,
     "metadata": {},
     "output_type": "execute_result"
    }
   ],
   "source": [
    "temp = [num*2 for num in range(10)]\n",
    "temp"
   ]
  },
  {
   "cell_type": "markdown",
   "metadata": {},
   "source": [
    "如果我们把方括号换成圆括号，那么返回的就不再是链表而是生成器。生成器在机器学习中经常用到，特别是训练数据的生成，在进行训练时每次生成一组数据。在迭代次数很大时，循环可能会导致系统宕机卡死，而用生成器可以避免这种情况"
   ]
  },
  {
   "cell_type": "code",
   "execution_count": 73,
   "metadata": {
    "collapsed": false
   },
   "outputs": [
    {
     "data": {
      "text/plain": [
       "<generator object <genexpr> at 0x10ab93ca8>"
      ]
     },
     "execution_count": 73,
     "metadata": {},
     "output_type": "execute_result"
    }
   ],
   "source": [
    "temp = (num*2 for num in range(10))\n",
    "temp"
   ]
  },
  {
   "cell_type": "code",
   "execution_count": 74,
   "metadata": {
    "collapsed": false
   },
   "outputs": [
    {
     "name": "stdout",
     "output_type": "stream",
     "text": [
      "0\n",
      "2\n",
      "4\n",
      "6\n",
      "8\n",
      "10\n",
      "12\n",
      "14\n",
      "16\n",
      "18\n"
     ]
    }
   ],
   "source": [
    "#生成器也可以进行循环遍历\n",
    "for num in temp:\n",
    "    print(num)"
   ]
  },
  {
   "cell_type": "code",
   "execution_count": 75,
   "metadata": {
    "collapsed": false
   },
   "outputs": [
    {
     "name": "stdout",
     "output_type": "stream",
     "text": [
      "0\n",
      "2\n"
     ]
    }
   ],
   "source": [
    "#生成器可以通过next函数生成值\n",
    "temp = (num*2 for num in range(10))\n",
    "print(next(temp))\n",
    "print(next(temp))\n"
   ]
  },
  {
   "cell_type": "code",
   "execution_count": 76,
   "metadata": {
    "collapsed": false
   },
   "outputs": [],
   "source": [
    "# 生成器还可以通过函数来定义，只不过最后返回值时不用return而是用yield\n",
    "def num_sequence(n):\n",
    "    \"\"\"Generate values from 0 to n.\"\"\"\n",
    "    i= 0\n",
    "    while i < n:\n",
    "        yield i \n",
    "        i += 1"
   ]
  },
  {
   "cell_type": "code",
   "execution_count": 77,
   "metadata": {
    "collapsed": false
   },
   "outputs": [
    {
     "data": {
      "text/plain": [
       "0"
      ]
     },
     "execution_count": 77,
     "metadata": {},
     "output_type": "execute_result"
    }
   ],
   "source": [
    "temp = num_sequence(6)\n",
    "next(temp)"
   ]
  },
  {
   "cell_type": "code",
   "execution_count": 78,
   "metadata": {
    "collapsed": false
   },
   "outputs": [
    {
     "data": {
      "text/plain": [
       "1"
      ]
     },
     "execution_count": 78,
     "metadata": {},
     "output_type": "execute_result"
    }
   ],
   "source": [
    "next(temp)"
   ]
  },
  {
   "cell_type": "code",
   "execution_count": 79,
   "metadata": {
    "collapsed": false
   },
   "outputs": [
    {
     "data": {
      "text/plain": [
       "2"
      ]
     },
     "execution_count": 79,
     "metadata": {},
     "output_type": "execute_result"
    }
   ],
   "source": [
    "next(temp)"
   ]
  },
  {
   "cell_type": "markdown",
   "metadata": {},
   "source": [
    "## Lambda方法\n",
    "\n",
    "python中传奇的lambda实际上就是函数定义方法。我们可以用def自定义函数，也可以使用lambda。但是建议使用def函数，能够比较完整的进行注释，异常处理。"
   ]
  },
  {
   "cell_type": "code",
   "execution_count": 135,
   "metadata": {
    "collapsed": true
   },
   "outputs": [],
   "source": [
    "#加法\n",
    "def add(a, b):\n",
    "    if isinstance(a, (int, float)) and isinstance(b, (int,  float)):\n",
    "        return a+b\n",
    "    else:\n",
    "        raise ValueError('Input Type Not Correct!')"
   ]
  },
  {
   "cell_type": "code",
   "execution_count": 136,
   "metadata": {
    "collapsed": false
   },
   "outputs": [
    {
     "data": {
      "text/plain": [
       "7"
      ]
     },
     "execution_count": 136,
     "metadata": {},
     "output_type": "execute_result"
    }
   ],
   "source": [
    "add(3,4)"
   ]
  },
  {
   "cell_type": "code",
   "execution_count": 137,
   "metadata": {
    "collapsed": false
   },
   "outputs": [
    {
     "data": {
      "text/plain": [
       "7"
      ]
     },
     "execution_count": 137,
     "metadata": {},
     "output_type": "execute_result"
    }
   ],
   "source": [
    "#当函数功能比较简单时\n",
    "add = lambda a, b: a + b\n",
    "add(3,4)"
   ]
  },
  {
   "cell_type": "markdown",
   "metadata": {},
   "source": [
    "## 应用案例\n",
    "\n",
    "下面，我们利用上面学习到的方法，对文本数据进行分词，统计单词数量并给出排序后的结果。"
   ]
  },
  {
   "cell_type": "code",
   "execution_count": 83,
   "metadata": {
    "collapsed": false
   },
   "outputs": [],
   "source": [
    "#遍历文件每一行\n",
    "with open('shakespeare.txt', 'r') as file:\n",
    "    texts = file.readlines()"
   ]
  },
  {
   "cell_type": "code",
   "execution_count": 84,
   "metadata": {
    "collapsed": false
   },
   "outputs": [
    {
     "data": {
      "text/plain": [
       "['William Shakespeare was an English poet, playwright, and actor, widely regarded as the greatest writer in the English language and the world\\'s pre-eminent dramatist.[2] He is often called England\\'s national poet, and the \"Bard of Avon\".[3][nb 2] His extant works, including collaborations, consist of approximately 38 plays,[nb 3] 154 sonnets, two long narrative poems, and a few other verses, some of uncertain authorship. His plays have been translated into every major living language and are performed more often than those of any other playwright.[4]\\n',\n",
       " '\\n',\n",
       " \"Shakespeare was born and brought up in Stratford-upon-Avon, Warwickshire. At the age of 18, he married Anne Hathaway, with whom he had three children: Susanna, and twins Hamnet and Judith. Sometime between 1585 and 1592, he began a successful career in London as an actor, writer, and part-owner of a playing company called the Lord Chamberlain's Men, later known as the King's Men. He appears to have retired to Stratford around 1613, at age 49, where he died three years later. Few records of Shakespeare's private life survive, which has stimulated considerable speculation about such matters as his physical appearance, sexuality, religious beliefs, and whether the works attributed to him were written by others.[5]\\n\",\n",
       " '\\n',\n",
       " 'Shakespeare produced most of his known work between 1589 and 1613.[6][nb 4] His early plays were primarily comedies and histories, which are regarded as some of the best work ever produced in these genres. He then wrote mainly tragedies until about 1608, including Hamlet, Othello, King Lear, and Macbeth, considered some of the finest works in the English language.[2] In his last phase, he wrote tragicomedies, also known as romances, and collaborated with other playwrights.\\n',\n",
       " '\\n',\n",
       " 'Many of his plays were published in editions of varying quality and accuracy during his lifetime. In 1623, however, John Heminges and Henry Condell, two friends and fellow actors of Shakespeare, published a more definitive text known as the First Folio, a posthumous collected edition of his dramatic works that included all but two of the plays now recognised as Shakespeare\\'s.[7] It was prefaced with a poem by Ben Jonson, in which Shakespeare is hailed, presciently, as \"not of an age, but for all time\".[7]\\n',\n",
       " '\\n',\n",
       " 'In the 20th and 21st centuries, his works have been repeatedly adapted and rediscovered by new movements in scholarship and performance. His plays remain highly popular and are constantly studied, performed, and reinterpreted in diverse cultural and political contexts throughout the world.']"
      ]
     },
     "execution_count": 84,
     "metadata": {},
     "output_type": "execute_result"
    }
   ],
   "source": [
    "texts"
   ]
  },
  {
   "cell_type": "code",
   "execution_count": 85,
   "metadata": {
    "collapsed": false
   },
   "outputs": [
    {
     "data": {
      "text/plain": [
       "list"
      ]
     },
     "execution_count": 85,
     "metadata": {},
     "output_type": "execute_result"
    }
   ],
   "source": [
    "type(texts)"
   ]
  },
  {
   "cell_type": "code",
   "execution_count": 86,
   "metadata": {
    "collapsed": false
   },
   "outputs": [
    {
     "data": {
      "text/plain": [
       "'William Shakespeare was an English poet, playwright, and actor, widely regarded as the greatest writer in the English language and the world\\'s pre-eminent dramatist.[2] He is often called England\\'s national poet, and the \"Bard of Avon\".[3][nb 2] His extant works, including collaborations, consist of approximately 38 plays,[nb 3] 154 sonnets, two long narrative poems, and a few other verses, some of uncertain authorship. His plays have been translated into every major living language and are performed more often than those of any other playwright.[4]\\n'"
      ]
     },
     "execution_count": 86,
     "metadata": {},
     "output_type": "execute_result"
    }
   ],
   "source": [
    "texts[0]"
   ]
  },
  {
   "cell_type": "code",
   "execution_count": 87,
   "metadata": {
    "collapsed": false
   },
   "outputs": [
    {
     "data": {
      "text/plain": [
       "str"
      ]
     },
     "execution_count": 87,
     "metadata": {},
     "output_type": "execute_result"
    }
   ],
   "source": [
    "type(texts[0])"
   ]
  },
  {
   "cell_type": "code",
   "execution_count": 88,
   "metadata": {
    "collapsed": false
   },
   "outputs": [
    {
     "data": {
      "text/plain": [
       "'!\"#$%&\\'()*+,-./:;<=>?@[\\\\]^_`{|}~'"
      ]
     },
     "execution_count": 88,
     "metadata": {},
     "output_type": "execute_result"
    }
   ],
   "source": [
    "#去除标点符号\n",
    "import string\n",
    "string.punctuation"
   ]
  },
  {
   "cell_type": "code",
   "execution_count": 89,
   "metadata": {
    "collapsed": false
   },
   "outputs": [],
   "source": [
    "#将标点符号映射成空格\n",
    "trantab_punc = str.maketrans(string.punctuation,' '*len(string.punctuation))\n",
    "trantab_digit = str.maketrans('0123456789',' '*10)"
   ]
  },
  {
   "cell_type": "code",
   "execution_count": 90,
   "metadata": {
    "collapsed": false
   },
   "outputs": [
    {
     "data": {
      "text/plain": [
       "'William Shakespeare was an English poet  playwright  and actor  widely regarded as the greatest writer in the English language and the world s pre eminent dramatist     He is often called England s national poet  and the  Bard of Avon      nb    His extant works  including collaborations  consist of approximately    plays  nb        sonnets  two long narrative poems  and a few other verses  some of uncertain authorship  His plays have been translated into every major living language and are performed more often than those of any other playwright    '"
      ]
     },
     "execution_count": 90,
     "metadata": {},
     "output_type": "execute_result"
    }
   ],
   "source": [
    "texts[0].translate(trantab_punc).translate(trantab_digit).strip('\\n')"
   ]
  },
  {
   "cell_type": "code",
   "execution_count": 91,
   "metadata": {
    "collapsed": false
   },
   "outputs": [],
   "source": [
    "#转换成小写\n",
    "remove_punc_digit = lambda text: text.translate(trantab_punc).translate(trantab_digit).strip('\\n')\n",
    "texts = [remove_punc_digit(text).lower().strip() for text in texts]"
   ]
  },
  {
   "cell_type": "code",
   "execution_count": 92,
   "metadata": {
    "collapsed": false
   },
   "outputs": [
    {
     "data": {
      "text/plain": [
       "['william shakespeare was an english poet  playwright  and actor  widely regarded as the greatest writer in the english language and the world s pre eminent dramatist     he is often called england s national poet  and the  bard of avon      nb    his extant works  including collaborations  consist of approximately    plays  nb        sonnets  two long narrative poems  and a few other verses  some of uncertain authorship  his plays have been translated into every major living language and are performed more often than those of any other playwright',\n",
       " '',\n",
       " 'shakespeare was born and brought up in stratford upon avon  warwickshire  at the age of     he married anne hathaway  with whom he had three children  susanna  and twins hamnet and judith  sometime between      and       he began a successful career in london as an actor  writer  and part owner of a playing company called the lord chamberlain s men  later known as the king s men  he appears to have retired to stratford around       at age     where he died three years later  few records of shakespeare s private life survive  which has stimulated considerable speculation about such matters as his physical appearance  sexuality  religious beliefs  and whether the works attributed to him were written by others',\n",
       " '',\n",
       " 'shakespeare produced most of his known work between      and          nb    his early plays were primarily comedies and histories  which are regarded as some of the best work ever produced in these genres  he then wrote mainly tragedies until about       including hamlet  othello  king lear  and macbeth  considered some of the finest works in the english language     in his last phase  he wrote tragicomedies  also known as romances  and collaborated with other playwrights',\n",
       " '',\n",
       " 'many of his plays were published in editions of varying quality and accuracy during his lifetime  in       however  john heminges and henry condell  two friends and fellow actors of shakespeare  published a more definitive text known as the first folio  a posthumous collected edition of his dramatic works that included all but two of the plays now recognised as shakespeare s     it was prefaced with a poem by ben jonson  in which shakespeare is hailed  presciently  as  not of an age  but for all time',\n",
       " '',\n",
       " 'in the   th and   st centuries  his works have been repeatedly adapted and rediscovered by new movements in scholarship and performance  his plays remain highly popular and are constantly studied  performed  and reinterpreted in diverse cultural and political contexts throughout the world']"
      ]
     },
     "execution_count": 92,
     "metadata": {},
     "output_type": "execute_result"
    }
   ],
   "source": [
    "texts"
   ]
  },
  {
   "cell_type": "code",
   "execution_count": 93,
   "metadata": {
    "collapsed": false
   },
   "outputs": [],
   "source": [
    "#每个链表的文本进行分词\n",
    "texts  = [text.split() for text in texts]"
   ]
  },
  {
   "cell_type": "code",
   "execution_count": 134,
   "metadata": {
    "collapsed": false
   },
   "outputs": [
    {
     "data": {
      "text/plain": [
       "['william',\n",
       " 'shakespeare',\n",
       " 'was',\n",
       " 'an',\n",
       " 'english',\n",
       " 'poet',\n",
       " 'playwright',\n",
       " 'and',\n",
       " 'actor',\n",
       " 'widely']"
      ]
     },
     "execution_count": 134,
     "metadata": {},
     "output_type": "execute_result"
    }
   ],
   "source": [
    "texts[0][:10]"
   ]
  },
  {
   "cell_type": "code",
   "execution_count": 99,
   "metadata": {
    "collapsed": false
   },
   "outputs": [],
   "source": [
    "#将所有的单词合并成一个集合\n",
    "temp = []\n",
    "_ = [temp.extend(text) for text in texts]"
   ]
  },
  {
   "cell_type": "code",
   "execution_count": 100,
   "metadata": {
    "collapsed": false
   },
   "outputs": [
    {
     "data": {
      "text/plain": [
       "399"
      ]
     },
     "execution_count": 100,
     "metadata": {},
     "output_type": "execute_result"
    }
   ],
   "source": [
    "len(temp)"
   ]
  },
  {
   "cell_type": "code",
   "execution_count": 101,
   "metadata": {
    "collapsed": false
   },
   "outputs": [
    {
     "data": {
      "text/plain": [
       "['william',\n",
       " 'shakespeare',\n",
       " 'was',\n",
       " 'an',\n",
       " 'english',\n",
       " 'poet',\n",
       " 'playwright',\n",
       " 'and',\n",
       " 'actor',\n",
       " 'widely']"
      ]
     },
     "execution_count": 101,
     "metadata": {},
     "output_type": "execute_result"
    }
   ],
   "source": [
    "temp[:10]"
   ]
  },
  {
   "cell_type": "code",
   "execution_count": 104,
   "metadata": {
    "collapsed": false
   },
   "outputs": [],
   "source": [
    "#Count the frequencies of each word\n",
    "word_freq_dict = {}\n",
    "for word in temp:\n",
    "    word_freq_dict[word] = word_freq_dict.get(word, 0) + 1\n",
    "    #if word not in word_freq_dict.keys():\n",
    "        #word_freq_dict[word] = 0\n",
    "    #else:\n",
    "        #word_freq_dict[word] += 1"
   ]
  },
  {
   "cell_type": "code",
   "execution_count": 105,
   "metadata": {
    "collapsed": false
   },
   "outputs": [
    {
     "data": {
      "text/plain": [
       "{'a': 6,\n",
       " 'about': 2,\n",
       " 'accuracy': 1,\n",
       " 'actor': 2,\n",
       " 'actors': 1,\n",
       " 'adapted': 1,\n",
       " 'age': 3,\n",
       " 'all': 2,\n",
       " 'also': 1,\n",
       " 'an': 3,\n",
       " 'and': 24,\n",
       " 'anne': 1,\n",
       " 'any': 1,\n",
       " 'appearance': 1,\n",
       " 'appears': 1,\n",
       " 'approximately': 1,\n",
       " 'are': 3,\n",
       " 'around': 1,\n",
       " 'as': 9,\n",
       " 'at': 2,\n",
       " 'attributed': 1,\n",
       " 'authorship': 1,\n",
       " 'avon': 2,\n",
       " 'bard': 1,\n",
       " 'been': 2,\n",
       " 'began': 1,\n",
       " 'beliefs': 1,\n",
       " 'ben': 1,\n",
       " 'best': 1,\n",
       " 'between': 2,\n",
       " 'born': 1,\n",
       " 'brought': 1,\n",
       " 'but': 2,\n",
       " 'by': 3,\n",
       " 'called': 2,\n",
       " 'career': 1,\n",
       " 'centuries': 1,\n",
       " 'chamberlain': 1,\n",
       " 'children': 1,\n",
       " 'collaborated': 1,\n",
       " 'collaborations': 1,\n",
       " 'collected': 1,\n",
       " 'comedies': 1,\n",
       " 'company': 1,\n",
       " 'condell': 1,\n",
       " 'considerable': 1,\n",
       " 'considered': 1,\n",
       " 'consist': 1,\n",
       " 'constantly': 1,\n",
       " 'contexts': 1,\n",
       " 'cultural': 1,\n",
       " 'definitive': 1,\n",
       " 'died': 1,\n",
       " 'diverse': 1,\n",
       " 'dramatic': 1,\n",
       " 'dramatist': 1,\n",
       " 'during': 1,\n",
       " 'early': 1,\n",
       " 'edition': 1,\n",
       " 'editions': 1,\n",
       " 'eminent': 1,\n",
       " 'england': 1,\n",
       " 'english': 3,\n",
       " 'ever': 1,\n",
       " 'every': 1,\n",
       " 'extant': 1,\n",
       " 'fellow': 1,\n",
       " 'few': 2,\n",
       " 'finest': 1,\n",
       " 'first': 1,\n",
       " 'folio': 1,\n",
       " 'for': 1,\n",
       " 'friends': 1,\n",
       " 'genres': 1,\n",
       " 'greatest': 1,\n",
       " 'had': 1,\n",
       " 'hailed': 1,\n",
       " 'hamlet': 1,\n",
       " 'hamnet': 1,\n",
       " 'has': 1,\n",
       " 'hathaway': 1,\n",
       " 'have': 3,\n",
       " 'he': 8,\n",
       " 'heminges': 1,\n",
       " 'henry': 1,\n",
       " 'highly': 1,\n",
       " 'him': 1,\n",
       " 'his': 11,\n",
       " 'histories': 1,\n",
       " 'however': 1,\n",
       " 'in': 12,\n",
       " 'included': 1,\n",
       " 'including': 2,\n",
       " 'into': 1,\n",
       " 'is': 2,\n",
       " 'it': 1,\n",
       " 'john': 1,\n",
       " 'jonson': 1,\n",
       " 'judith': 1,\n",
       " 'king': 2,\n",
       " 'known': 4,\n",
       " 'language': 3,\n",
       " 'last': 1,\n",
       " 'later': 2,\n",
       " 'lear': 1,\n",
       " 'life': 1,\n",
       " 'lifetime': 1,\n",
       " 'living': 1,\n",
       " 'london': 1,\n",
       " 'long': 1,\n",
       " 'lord': 1,\n",
       " 'macbeth': 1,\n",
       " 'mainly': 1,\n",
       " 'major': 1,\n",
       " 'many': 1,\n",
       " 'married': 1,\n",
       " 'matters': 1,\n",
       " 'men': 2,\n",
       " 'more': 2,\n",
       " 'most': 1,\n",
       " 'movements': 1,\n",
       " 'narrative': 1,\n",
       " 'national': 1,\n",
       " 'nb': 3,\n",
       " 'new': 1,\n",
       " 'not': 1,\n",
       " 'now': 1,\n",
       " 'of': 16,\n",
       " 'often': 2,\n",
       " 'othello': 1,\n",
       " 'other': 3,\n",
       " 'others': 1,\n",
       " 'owner': 1,\n",
       " 'part': 1,\n",
       " 'performance': 1,\n",
       " 'performed': 2,\n",
       " 'phase': 1,\n",
       " 'physical': 1,\n",
       " 'playing': 1,\n",
       " 'plays': 6,\n",
       " 'playwright': 2,\n",
       " 'playwrights': 1,\n",
       " 'poem': 1,\n",
       " 'poems': 1,\n",
       " 'poet': 2,\n",
       " 'political': 1,\n",
       " 'popular': 1,\n",
       " 'posthumous': 1,\n",
       " 'pre': 1,\n",
       " 'prefaced': 1,\n",
       " 'presciently': 1,\n",
       " 'primarily': 1,\n",
       " 'private': 1,\n",
       " 'produced': 2,\n",
       " 'published': 2,\n",
       " 'quality': 1,\n",
       " 'recognised': 1,\n",
       " 'records': 1,\n",
       " 'rediscovered': 1,\n",
       " 'regarded': 2,\n",
       " 'reinterpreted': 1,\n",
       " 'religious': 1,\n",
       " 'remain': 1,\n",
       " 'repeatedly': 1,\n",
       " 'retired': 1,\n",
       " 'romances': 1,\n",
       " 's': 6,\n",
       " 'scholarship': 1,\n",
       " 'sexuality': 1,\n",
       " 'shakespeare': 7,\n",
       " 'some': 3,\n",
       " 'sometime': 1,\n",
       " 'sonnets': 1,\n",
       " 'speculation': 1,\n",
       " 'st': 1,\n",
       " 'stimulated': 1,\n",
       " 'stratford': 2,\n",
       " 'studied': 1,\n",
       " 'successful': 1,\n",
       " 'such': 1,\n",
       " 'survive': 1,\n",
       " 'susanna': 1,\n",
       " 'text': 1,\n",
       " 'th': 1,\n",
       " 'than': 1,\n",
       " 'that': 1,\n",
       " 'the': 15,\n",
       " 'then': 1,\n",
       " 'these': 1,\n",
       " 'those': 1,\n",
       " 'three': 2,\n",
       " 'throughout': 1,\n",
       " 'time': 1,\n",
       " 'to': 3,\n",
       " 'tragedies': 1,\n",
       " 'tragicomedies': 1,\n",
       " 'translated': 1,\n",
       " 'twins': 1,\n",
       " 'two': 3,\n",
       " 'uncertain': 1,\n",
       " 'until': 1,\n",
       " 'up': 1,\n",
       " 'upon': 1,\n",
       " 'varying': 1,\n",
       " 'verses': 1,\n",
       " 'warwickshire': 1,\n",
       " 'was': 3,\n",
       " 'were': 3,\n",
       " 'where': 1,\n",
       " 'whether': 1,\n",
       " 'which': 3,\n",
       " 'whom': 1,\n",
       " 'widely': 1,\n",
       " 'william': 1,\n",
       " 'with': 3,\n",
       " 'work': 2,\n",
       " 'works': 5,\n",
       " 'world': 2,\n",
       " 'writer': 2,\n",
       " 'written': 1,\n",
       " 'wrote': 2,\n",
       " 'years': 1}"
      ]
     },
     "execution_count": 105,
     "metadata": {},
     "output_type": "execute_result"
    }
   ],
   "source": [
    "word_freq_dict"
   ]
  },
  {
   "cell_type": "code",
   "execution_count": 113,
   "metadata": {
    "collapsed": false
   },
   "outputs": [
    {
     "data": {
      "text/plain": [
       "[(1, 'william'),\n",
       " (7, 'shakespeare'),\n",
       " (3, 'was'),\n",
       " (3, 'an'),\n",
       " (3, 'english'),\n",
       " (2, 'poet'),\n",
       " (2, 'playwright'),\n",
       " (24, 'and'),\n",
       " (2, 'actor'),\n",
       " (1, 'widely')]"
      ]
     },
     "execution_count": 113,
     "metadata": {},
     "output_type": "execute_result"
    }
   ],
   "source": [
    "#Comprehension\n",
    "freq_word_sets = [(v, k) for k, v in word_freq_dict.items()]\n",
    "freq_word_sets[:10]"
   ]
  },
  {
   "cell_type": "code",
   "execution_count": 118,
   "metadata": {
    "collapsed": false
   },
   "outputs": [
    {
     "data": {
      "text/plain": [
       "[(24, 'and'),\n",
       " (16, 'of'),\n",
       " (15, 'the'),\n",
       " (12, 'in'),\n",
       " (11, 'his'),\n",
       " (9, 'as'),\n",
       " (8, 'he'),\n",
       " (7, 'shakespeare'),\n",
       " (6, 's'),\n",
       " (6, 'plays')]"
      ]
     },
     "execution_count": 118,
     "metadata": {},
     "output_type": "execute_result"
    }
   ],
   "source": [
    "freq_word_sets.sort(reverse=True)\n",
    "freq_word_sets[:10]"
   ]
  },
  {
   "cell_type": "code",
   "execution_count": 121,
   "metadata": {
    "collapsed": true
   },
   "outputs": [],
   "source": [
    "#zip方法\n",
    "freq_word_sets = zip(word_freq_dict.values(), word_freq_dict.keys())"
   ]
  },
  {
   "cell_type": "code",
   "execution_count": 123,
   "metadata": {
    "collapsed": false
   },
   "outputs": [
    {
     "data": {
      "text/plain": [
       "[(24, 'and'),\n",
       " (16, 'of'),\n",
       " (15, 'the'),\n",
       " (12, 'in'),\n",
       " (11, 'his'),\n",
       " (9, 'as'),\n",
       " (8, 'he'),\n",
       " (7, 'shakespeare'),\n",
       " (6, 's'),\n",
       " (6, 'plays'),\n",
       " (6, 'a'),\n",
       " (5, 'works')]"
      ]
     },
     "execution_count": 123,
     "metadata": {},
     "output_type": "execute_result"
    }
   ],
   "source": [
    "freq_word_sets = list(freq_word_sets)\n",
    "freq_word_sets.sort(reverse=True)\n",
    "freq_word_sets[:12]"
   ]
  },
  {
   "cell_type": "code",
   "execution_count": 124,
   "metadata": {
    "collapsed": false
   },
   "outputs": [
    {
     "name": "stdout",
     "output_type": "stream",
     "text": [
      "Help on built-in function sorted in module builtins:\n",
      "\n",
      "sorted(iterable, key=None, reverse=False)\n",
      "    Return a new list containing all items from the iterable in ascending order.\n",
      "    \n",
      "    A custom key function can be supplied to customize the sort order, and the\n",
      "    reverse flag can be set to request the result in descending order.\n",
      "\n"
     ]
    }
   ],
   "source": [
    "#lambda方法\n",
    "help(sorted)"
   ]
  },
  {
   "cell_type": "code",
   "execution_count": 127,
   "metadata": {
    "collapsed": false
   },
   "outputs": [
    {
     "data": {
      "text/plain": [
       "[('and', 24),\n",
       " ('of', 16),\n",
       " ('the', 15),\n",
       " ('in', 12),\n",
       " ('his', 11),\n",
       " ('as', 9),\n",
       " ('he', 8),\n",
       " ('shakespeare', 7),\n",
       " ('s', 6),\n",
       " ('plays', 6),\n",
       " ('a', 6),\n",
       " ('works', 5),\n",
       " ('known', 4),\n",
       " ('was', 3),\n",
       " ('an', 3),\n",
       " ('english', 3),\n",
       " ('language', 3),\n",
       " ('nb', 3),\n",
       " ('two', 3),\n",
       " ('other', 3),\n",
       " ('some', 3),\n",
       " ('have', 3),\n",
       " ('are', 3),\n",
       " ('age', 3),\n",
       " ('with', 3),\n",
       " ('to', 3),\n",
       " ('which', 3),\n",
       " ('were', 3),\n",
       " ('by', 3),\n",
       " ('poet', 2),\n",
       " ('playwright', 2),\n",
       " ('actor', 2),\n",
       " ('regarded', 2),\n",
       " ('writer', 2),\n",
       " ('world', 2),\n",
       " ('is', 2),\n",
       " ('often', 2),\n",
       " ('called', 2),\n",
       " ('avon', 2),\n",
       " ('including', 2),\n",
       " ('few', 2),\n",
       " ('been', 2),\n",
       " ('performed', 2),\n",
       " ('more', 2),\n",
       " ('stratford', 2),\n",
       " ('at', 2),\n",
       " ('three', 2),\n",
       " ('between', 2),\n",
       " ('men', 2),\n",
       " ('later', 2),\n",
       " ('king', 2),\n",
       " ('about', 2),\n",
       " ('produced', 2),\n",
       " ('work', 2),\n",
       " ('wrote', 2),\n",
       " ('published', 2),\n",
       " ('all', 2),\n",
       " ('but', 2),\n",
       " ('william', 1),\n",
       " ('widely', 1),\n",
       " ('greatest', 1),\n",
       " ('pre', 1),\n",
       " ('eminent', 1),\n",
       " ('dramatist', 1),\n",
       " ('england', 1),\n",
       " ('national', 1),\n",
       " ('bard', 1),\n",
       " ('extant', 1),\n",
       " ('collaborations', 1),\n",
       " ('consist', 1),\n",
       " ('approximately', 1),\n",
       " ('sonnets', 1),\n",
       " ('long', 1),\n",
       " ('narrative', 1),\n",
       " ('poems', 1),\n",
       " ('verses', 1),\n",
       " ('uncertain', 1),\n",
       " ('authorship', 1),\n",
       " ('translated', 1),\n",
       " ('into', 1),\n",
       " ('every', 1),\n",
       " ('major', 1),\n",
       " ('living', 1),\n",
       " ('than', 1),\n",
       " ('those', 1),\n",
       " ('any', 1),\n",
       " ('born', 1),\n",
       " ('brought', 1),\n",
       " ('up', 1),\n",
       " ('upon', 1),\n",
       " ('warwickshire', 1),\n",
       " ('married', 1),\n",
       " ('anne', 1),\n",
       " ('hathaway', 1),\n",
       " ('whom', 1),\n",
       " ('had', 1),\n",
       " ('children', 1),\n",
       " ('susanna', 1),\n",
       " ('twins', 1),\n",
       " ('hamnet', 1),\n",
       " ('judith', 1),\n",
       " ('sometime', 1),\n",
       " ('began', 1),\n",
       " ('successful', 1),\n",
       " ('career', 1),\n",
       " ('london', 1),\n",
       " ('part', 1),\n",
       " ('owner', 1),\n",
       " ('playing', 1),\n",
       " ('company', 1),\n",
       " ('lord', 1),\n",
       " ('chamberlain', 1),\n",
       " ('appears', 1),\n",
       " ('retired', 1),\n",
       " ('around', 1),\n",
       " ('where', 1),\n",
       " ('died', 1),\n",
       " ('years', 1),\n",
       " ('records', 1),\n",
       " ('private', 1),\n",
       " ('life', 1),\n",
       " ('survive', 1),\n",
       " ('has', 1),\n",
       " ('stimulated', 1),\n",
       " ('considerable', 1),\n",
       " ('speculation', 1),\n",
       " ('such', 1),\n",
       " ('matters', 1),\n",
       " ('physical', 1),\n",
       " ('appearance', 1),\n",
       " ('sexuality', 1),\n",
       " ('religious', 1),\n",
       " ('beliefs', 1),\n",
       " ('whether', 1),\n",
       " ('attributed', 1),\n",
       " ('him', 1),\n",
       " ('written', 1),\n",
       " ('others', 1),\n",
       " ('most', 1),\n",
       " ('early', 1),\n",
       " ('primarily', 1),\n",
       " ('comedies', 1),\n",
       " ('histories', 1),\n",
       " ('best', 1),\n",
       " ('ever', 1),\n",
       " ('these', 1),\n",
       " ('genres', 1),\n",
       " ('then', 1),\n",
       " ('mainly', 1),\n",
       " ('tragedies', 1),\n",
       " ('until', 1),\n",
       " ('hamlet', 1),\n",
       " ('othello', 1),\n",
       " ('lear', 1),\n",
       " ('macbeth', 1),\n",
       " ('considered', 1),\n",
       " ('finest', 1),\n",
       " ('last', 1),\n",
       " ('phase', 1),\n",
       " ('tragicomedies', 1),\n",
       " ('also', 1),\n",
       " ('romances', 1),\n",
       " ('collaborated', 1),\n",
       " ('playwrights', 1),\n",
       " ('many', 1),\n",
       " ('editions', 1),\n",
       " ('varying', 1),\n",
       " ('quality', 1),\n",
       " ('accuracy', 1),\n",
       " ('during', 1),\n",
       " ('lifetime', 1),\n",
       " ('however', 1),\n",
       " ('john', 1),\n",
       " ('heminges', 1),\n",
       " ('henry', 1),\n",
       " ('condell', 1),\n",
       " ('friends', 1),\n",
       " ('fellow', 1),\n",
       " ('actors', 1),\n",
       " ('definitive', 1),\n",
       " ('text', 1),\n",
       " ('first', 1),\n",
       " ('folio', 1),\n",
       " ('posthumous', 1),\n",
       " ('collected', 1),\n",
       " ('edition', 1),\n",
       " ('dramatic', 1),\n",
       " ('that', 1),\n",
       " ('included', 1),\n",
       " ('now', 1),\n",
       " ('recognised', 1),\n",
       " ('it', 1),\n",
       " ('prefaced', 1),\n",
       " ('poem', 1),\n",
       " ('ben', 1),\n",
       " ('jonson', 1),\n",
       " ('hailed', 1),\n",
       " ('presciently', 1),\n",
       " ('not', 1),\n",
       " ('for', 1),\n",
       " ('time', 1),\n",
       " ('th', 1),\n",
       " ('st', 1),\n",
       " ('centuries', 1),\n",
       " ('repeatedly', 1),\n",
       " ('adapted', 1),\n",
       " ('rediscovered', 1),\n",
       " ('new', 1),\n",
       " ('movements', 1),\n",
       " ('scholarship', 1),\n",
       " ('performance', 1),\n",
       " ('remain', 1),\n",
       " ('highly', 1),\n",
       " ('popular', 1),\n",
       " ('constantly', 1),\n",
       " ('studied', 1),\n",
       " ('reinterpreted', 1),\n",
       " ('diverse', 1),\n",
       " ('cultural', 1),\n",
       " ('political', 1),\n",
       " ('contexts', 1),\n",
       " ('throughout', 1)]"
      ]
     },
     "execution_count": 127,
     "metadata": {},
     "output_type": "execute_result"
    }
   ],
   "source": [
    "sorted(word_freq_dict.items(), key=lambda item: item[1], reverse=True)"
   ]
  },
  {
   "cell_type": "code",
   "execution_count": 130,
   "metadata": {
    "collapsed": true
   },
   "outputs": [],
   "source": [
    "#使用Counter工具包\n",
    "from collections import Counter\n",
    "word_freq = Counter(temp)"
   ]
  },
  {
   "cell_type": "code",
   "execution_count": 131,
   "metadata": {
    "collapsed": false
   },
   "outputs": [
    {
     "data": {
      "text/plain": [
       "Counter({'a': 6,\n",
       "         'about': 2,\n",
       "         'accuracy': 1,\n",
       "         'actor': 2,\n",
       "         'actors': 1,\n",
       "         'adapted': 1,\n",
       "         'age': 3,\n",
       "         'all': 2,\n",
       "         'also': 1,\n",
       "         'an': 3,\n",
       "         'and': 24,\n",
       "         'anne': 1,\n",
       "         'any': 1,\n",
       "         'appearance': 1,\n",
       "         'appears': 1,\n",
       "         'approximately': 1,\n",
       "         'are': 3,\n",
       "         'around': 1,\n",
       "         'as': 9,\n",
       "         'at': 2,\n",
       "         'attributed': 1,\n",
       "         'authorship': 1,\n",
       "         'avon': 2,\n",
       "         'bard': 1,\n",
       "         'been': 2,\n",
       "         'began': 1,\n",
       "         'beliefs': 1,\n",
       "         'ben': 1,\n",
       "         'best': 1,\n",
       "         'between': 2,\n",
       "         'born': 1,\n",
       "         'brought': 1,\n",
       "         'but': 2,\n",
       "         'by': 3,\n",
       "         'called': 2,\n",
       "         'career': 1,\n",
       "         'centuries': 1,\n",
       "         'chamberlain': 1,\n",
       "         'children': 1,\n",
       "         'collaborated': 1,\n",
       "         'collaborations': 1,\n",
       "         'collected': 1,\n",
       "         'comedies': 1,\n",
       "         'company': 1,\n",
       "         'condell': 1,\n",
       "         'considerable': 1,\n",
       "         'considered': 1,\n",
       "         'consist': 1,\n",
       "         'constantly': 1,\n",
       "         'contexts': 1,\n",
       "         'cultural': 1,\n",
       "         'definitive': 1,\n",
       "         'died': 1,\n",
       "         'diverse': 1,\n",
       "         'dramatic': 1,\n",
       "         'dramatist': 1,\n",
       "         'during': 1,\n",
       "         'early': 1,\n",
       "         'edition': 1,\n",
       "         'editions': 1,\n",
       "         'eminent': 1,\n",
       "         'england': 1,\n",
       "         'english': 3,\n",
       "         'ever': 1,\n",
       "         'every': 1,\n",
       "         'extant': 1,\n",
       "         'fellow': 1,\n",
       "         'few': 2,\n",
       "         'finest': 1,\n",
       "         'first': 1,\n",
       "         'folio': 1,\n",
       "         'for': 1,\n",
       "         'friends': 1,\n",
       "         'genres': 1,\n",
       "         'greatest': 1,\n",
       "         'had': 1,\n",
       "         'hailed': 1,\n",
       "         'hamlet': 1,\n",
       "         'hamnet': 1,\n",
       "         'has': 1,\n",
       "         'hathaway': 1,\n",
       "         'have': 3,\n",
       "         'he': 8,\n",
       "         'heminges': 1,\n",
       "         'henry': 1,\n",
       "         'highly': 1,\n",
       "         'him': 1,\n",
       "         'his': 11,\n",
       "         'histories': 1,\n",
       "         'however': 1,\n",
       "         'in': 12,\n",
       "         'included': 1,\n",
       "         'including': 2,\n",
       "         'into': 1,\n",
       "         'is': 2,\n",
       "         'it': 1,\n",
       "         'john': 1,\n",
       "         'jonson': 1,\n",
       "         'judith': 1,\n",
       "         'king': 2,\n",
       "         'known': 4,\n",
       "         'language': 3,\n",
       "         'last': 1,\n",
       "         'later': 2,\n",
       "         'lear': 1,\n",
       "         'life': 1,\n",
       "         'lifetime': 1,\n",
       "         'living': 1,\n",
       "         'london': 1,\n",
       "         'long': 1,\n",
       "         'lord': 1,\n",
       "         'macbeth': 1,\n",
       "         'mainly': 1,\n",
       "         'major': 1,\n",
       "         'many': 1,\n",
       "         'married': 1,\n",
       "         'matters': 1,\n",
       "         'men': 2,\n",
       "         'more': 2,\n",
       "         'most': 1,\n",
       "         'movements': 1,\n",
       "         'narrative': 1,\n",
       "         'national': 1,\n",
       "         'nb': 3,\n",
       "         'new': 1,\n",
       "         'not': 1,\n",
       "         'now': 1,\n",
       "         'of': 16,\n",
       "         'often': 2,\n",
       "         'othello': 1,\n",
       "         'other': 3,\n",
       "         'others': 1,\n",
       "         'owner': 1,\n",
       "         'part': 1,\n",
       "         'performance': 1,\n",
       "         'performed': 2,\n",
       "         'phase': 1,\n",
       "         'physical': 1,\n",
       "         'playing': 1,\n",
       "         'plays': 6,\n",
       "         'playwright': 2,\n",
       "         'playwrights': 1,\n",
       "         'poem': 1,\n",
       "         'poems': 1,\n",
       "         'poet': 2,\n",
       "         'political': 1,\n",
       "         'popular': 1,\n",
       "         'posthumous': 1,\n",
       "         'pre': 1,\n",
       "         'prefaced': 1,\n",
       "         'presciently': 1,\n",
       "         'primarily': 1,\n",
       "         'private': 1,\n",
       "         'produced': 2,\n",
       "         'published': 2,\n",
       "         'quality': 1,\n",
       "         'recognised': 1,\n",
       "         'records': 1,\n",
       "         'rediscovered': 1,\n",
       "         'regarded': 2,\n",
       "         'reinterpreted': 1,\n",
       "         'religious': 1,\n",
       "         'remain': 1,\n",
       "         'repeatedly': 1,\n",
       "         'retired': 1,\n",
       "         'romances': 1,\n",
       "         's': 6,\n",
       "         'scholarship': 1,\n",
       "         'sexuality': 1,\n",
       "         'shakespeare': 7,\n",
       "         'some': 3,\n",
       "         'sometime': 1,\n",
       "         'sonnets': 1,\n",
       "         'speculation': 1,\n",
       "         'st': 1,\n",
       "         'stimulated': 1,\n",
       "         'stratford': 2,\n",
       "         'studied': 1,\n",
       "         'successful': 1,\n",
       "         'such': 1,\n",
       "         'survive': 1,\n",
       "         'susanna': 1,\n",
       "         'text': 1,\n",
       "         'th': 1,\n",
       "         'than': 1,\n",
       "         'that': 1,\n",
       "         'the': 15,\n",
       "         'then': 1,\n",
       "         'these': 1,\n",
       "         'those': 1,\n",
       "         'three': 2,\n",
       "         'throughout': 1,\n",
       "         'time': 1,\n",
       "         'to': 3,\n",
       "         'tragedies': 1,\n",
       "         'tragicomedies': 1,\n",
       "         'translated': 1,\n",
       "         'twins': 1,\n",
       "         'two': 3,\n",
       "         'uncertain': 1,\n",
       "         'until': 1,\n",
       "         'up': 1,\n",
       "         'upon': 1,\n",
       "         'varying': 1,\n",
       "         'verses': 1,\n",
       "         'warwickshire': 1,\n",
       "         'was': 3,\n",
       "         'were': 3,\n",
       "         'where': 1,\n",
       "         'whether': 1,\n",
       "         'which': 3,\n",
       "         'whom': 1,\n",
       "         'widely': 1,\n",
       "         'william': 1,\n",
       "         'with': 3,\n",
       "         'work': 2,\n",
       "         'works': 5,\n",
       "         'world': 2,\n",
       "         'writer': 2,\n",
       "         'written': 1,\n",
       "         'wrote': 2,\n",
       "         'years': 1})"
      ]
     },
     "execution_count": 131,
     "metadata": {},
     "output_type": "execute_result"
    }
   ],
   "source": [
    "word_freq"
   ]
  },
  {
   "cell_type": "code",
   "execution_count": 133,
   "metadata": {
    "collapsed": false
   },
   "outputs": [
    {
     "data": {
      "text/plain": [
       "[('and', 24),\n",
       " ('of', 16),\n",
       " ('the', 15),\n",
       " ('in', 12),\n",
       " ('his', 11),\n",
       " ('as', 9),\n",
       " ('he', 8),\n",
       " ('shakespeare', 7),\n",
       " ('s', 6),\n",
       " ('plays', 6),\n",
       " ('a', 6),\n",
       " ('works', 5),\n",
       " ('known', 4),\n",
       " ('was', 3),\n",
       " ('an', 3),\n",
       " ('english', 3),\n",
       " ('language', 3),\n",
       " ('nb', 3),\n",
       " ('two', 3),\n",
       " ('other', 3),\n",
       " ('some', 3),\n",
       " ('have', 3),\n",
       " ('are', 3),\n",
       " ('age', 3),\n",
       " ('with', 3),\n",
       " ('to', 3),\n",
       " ('which', 3),\n",
       " ('were', 3),\n",
       " ('by', 3),\n",
       " ('poet', 2),\n",
       " ('playwright', 2),\n",
       " ('actor', 2),\n",
       " ('regarded', 2),\n",
       " ('writer', 2),\n",
       " ('world', 2),\n",
       " ('is', 2),\n",
       " ('often', 2),\n",
       " ('called', 2),\n",
       " ('avon', 2),\n",
       " ('including', 2),\n",
       " ('few', 2),\n",
       " ('been', 2),\n",
       " ('performed', 2),\n",
       " ('more', 2),\n",
       " ('stratford', 2),\n",
       " ('at', 2),\n",
       " ('three', 2),\n",
       " ('between', 2),\n",
       " ('men', 2),\n",
       " ('later', 2),\n",
       " ('king', 2),\n",
       " ('about', 2),\n",
       " ('produced', 2),\n",
       " ('work', 2),\n",
       " ('wrote', 2),\n",
       " ('published', 2),\n",
       " ('all', 2),\n",
       " ('but', 2),\n",
       " ('william', 1),\n",
       " ('widely', 1),\n",
       " ('greatest', 1),\n",
       " ('pre', 1),\n",
       " ('eminent', 1),\n",
       " ('dramatist', 1),\n",
       " ('england', 1),\n",
       " ('national', 1),\n",
       " ('bard', 1),\n",
       " ('extant', 1),\n",
       " ('collaborations', 1),\n",
       " ('consist', 1),\n",
       " ('approximately', 1),\n",
       " ('sonnets', 1),\n",
       " ('long', 1),\n",
       " ('narrative', 1),\n",
       " ('poems', 1),\n",
       " ('verses', 1),\n",
       " ('uncertain', 1),\n",
       " ('authorship', 1),\n",
       " ('translated', 1),\n",
       " ('into', 1),\n",
       " ('every', 1),\n",
       " ('major', 1),\n",
       " ('living', 1),\n",
       " ('than', 1),\n",
       " ('those', 1),\n",
       " ('any', 1),\n",
       " ('born', 1),\n",
       " ('brought', 1),\n",
       " ('up', 1),\n",
       " ('upon', 1),\n",
       " ('warwickshire', 1),\n",
       " ('married', 1),\n",
       " ('anne', 1),\n",
       " ('hathaway', 1),\n",
       " ('whom', 1),\n",
       " ('had', 1),\n",
       " ('children', 1),\n",
       " ('susanna', 1),\n",
       " ('twins', 1),\n",
       " ('hamnet', 1),\n",
       " ('judith', 1),\n",
       " ('sometime', 1),\n",
       " ('began', 1),\n",
       " ('successful', 1),\n",
       " ('career', 1),\n",
       " ('london', 1),\n",
       " ('part', 1),\n",
       " ('owner', 1),\n",
       " ('playing', 1),\n",
       " ('company', 1),\n",
       " ('lord', 1),\n",
       " ('chamberlain', 1),\n",
       " ('appears', 1),\n",
       " ('retired', 1),\n",
       " ('around', 1),\n",
       " ('where', 1),\n",
       " ('died', 1),\n",
       " ('years', 1),\n",
       " ('records', 1),\n",
       " ('private', 1),\n",
       " ('life', 1),\n",
       " ('survive', 1),\n",
       " ('has', 1),\n",
       " ('stimulated', 1),\n",
       " ('considerable', 1),\n",
       " ('speculation', 1),\n",
       " ('such', 1),\n",
       " ('matters', 1),\n",
       " ('physical', 1),\n",
       " ('appearance', 1),\n",
       " ('sexuality', 1),\n",
       " ('religious', 1),\n",
       " ('beliefs', 1),\n",
       " ('whether', 1),\n",
       " ('attributed', 1),\n",
       " ('him', 1),\n",
       " ('written', 1),\n",
       " ('others', 1),\n",
       " ('most', 1),\n",
       " ('early', 1),\n",
       " ('primarily', 1),\n",
       " ('comedies', 1),\n",
       " ('histories', 1),\n",
       " ('best', 1),\n",
       " ('ever', 1),\n",
       " ('these', 1),\n",
       " ('genres', 1),\n",
       " ('then', 1),\n",
       " ('mainly', 1),\n",
       " ('tragedies', 1),\n",
       " ('until', 1),\n",
       " ('hamlet', 1),\n",
       " ('othello', 1),\n",
       " ('lear', 1),\n",
       " ('macbeth', 1),\n",
       " ('considered', 1),\n",
       " ('finest', 1),\n",
       " ('last', 1),\n",
       " ('phase', 1),\n",
       " ('tragicomedies', 1),\n",
       " ('also', 1),\n",
       " ('romances', 1),\n",
       " ('collaborated', 1),\n",
       " ('playwrights', 1),\n",
       " ('many', 1),\n",
       " ('editions', 1),\n",
       " ('varying', 1),\n",
       " ('quality', 1),\n",
       " ('accuracy', 1),\n",
       " ('during', 1),\n",
       " ('lifetime', 1),\n",
       " ('however', 1),\n",
       " ('john', 1),\n",
       " ('heminges', 1),\n",
       " ('henry', 1),\n",
       " ('condell', 1),\n",
       " ('friends', 1),\n",
       " ('fellow', 1),\n",
       " ('actors', 1),\n",
       " ('definitive', 1),\n",
       " ('text', 1),\n",
       " ('first', 1),\n",
       " ('folio', 1),\n",
       " ('posthumous', 1),\n",
       " ('collected', 1),\n",
       " ('edition', 1),\n",
       " ('dramatic', 1),\n",
       " ('that', 1),\n",
       " ('included', 1),\n",
       " ('now', 1),\n",
       " ('recognised', 1),\n",
       " ('it', 1),\n",
       " ('prefaced', 1),\n",
       " ('poem', 1),\n",
       " ('ben', 1),\n",
       " ('jonson', 1),\n",
       " ('hailed', 1),\n",
       " ('presciently', 1),\n",
       " ('not', 1),\n",
       " ('for', 1),\n",
       " ('time', 1),\n",
       " ('th', 1),\n",
       " ('st', 1),\n",
       " ('centuries', 1),\n",
       " ('repeatedly', 1),\n",
       " ('adapted', 1),\n",
       " ('rediscovered', 1),\n",
       " ('new', 1),\n",
       " ('movements', 1),\n",
       " ('scholarship', 1),\n",
       " ('performance', 1),\n",
       " ('remain', 1),\n",
       " ('highly', 1),\n",
       " ('popular', 1),\n",
       " ('constantly', 1),\n",
       " ('studied', 1),\n",
       " ('reinterpreted', 1),\n",
       " ('diverse', 1),\n",
       " ('cultural', 1),\n",
       " ('political', 1),\n",
       " ('contexts', 1),\n",
       " ('throughout', 1)]"
      ]
     },
     "execution_count": 133,
     "metadata": {},
     "output_type": "execute_result"
    }
   ],
   "source": [
    "sorted(word_freq.items(), key=lambda item: item[1], reverse=True)"
   ]
  },
  {
   "cell_type": "code",
   "execution_count": null,
   "metadata": {
    "collapsed": true
   },
   "outputs": [],
   "source": []
  }
 ],
 "metadata": {
  "anaconda-cloud": {},
  "kernelspec": {
   "display_name": "Python [default]",
   "language": "python",
   "name": "python3"
  },
  "language_info": {
   "codemirror_mode": {
    "name": "ipython",
    "version": 3
   },
   "file_extension": ".py",
   "mimetype": "text/x-python",
   "name": "python",
   "nbconvert_exporter": "python",
   "pygments_lexer": "ipython3",
   "version": "3.5.2"
  }
 },
 "nbformat": 4,
 "nbformat_minor": 2
}
